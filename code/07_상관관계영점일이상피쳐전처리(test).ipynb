{
 "cells": [
  {
   "cell_type": "code",
   "execution_count": 5,
   "id": "cc9b9f0a-c836-40a3-8829-f66e62ba3a70",
   "metadata": {
    "collapsed": true,
    "jupyter": {
     "outputs_hidden": true
    },
    "scrolled": true
   },
   "outputs": [
    {
     "name": "stdout",
     "output_type": "stream",
     "text": [
      "customer_test_07 is loaded from ./data/test/1.회원정보/201807_test_회원정보.parquet\n",
      "customer_test_08 is loaded from ./data/test/1.회원정보/201808_test_회원정보.parquet\n",
      "customer_test_09 is loaded from ./data/test/1.회원정보/201809_test_회원정보.parquet\n",
      "customer_test_10 is loaded from ./data/test/1.회원정보/201810_test_회원정보.parquet\n",
      "customer_test_11 is loaded from ./data/test/1.회원정보/201811_test_회원정보.parquet\n",
      "customer_test_12 is loaded from ./data/test/1.회원정보/201812_test_회원정보.parquet\n",
      "credit_test_07 is loaded from ./data/test/2.신용정보/201807_test_신용정보.parquet\n",
      "credit_test_08 is loaded from ./data/test/2.신용정보/201808_test_신용정보.parquet\n",
      "credit_test_09 is loaded from ./data/test/2.신용정보/201809_test_신용정보.parquet\n",
      "credit_test_10 is loaded from ./data/test/2.신용정보/201810_test_신용정보.parquet\n",
      "credit_test_11 is loaded from ./data/test/2.신용정보/201811_test_신용정보.parquet\n",
      "credit_test_12 is loaded from ./data/test/2.신용정보/201812_test_신용정보.parquet\n",
      "sales_test_07 is loaded from ./data/test/3.승인매출정보/201807_test_승인매출정보.parquet\n",
      "sales_test_08 is loaded from ./data/test/3.승인매출정보/201808_test_승인매출정보.parquet\n",
      "sales_test_09 is loaded from ./data/test/3.승인매출정보/201809_test_승인매출정보.parquet\n",
      "sales_test_10 is loaded from ./data/test/3.승인매출정보/201810_test_승인매출정보.parquet\n",
      "sales_test_11 is loaded from ./data/test/3.승인매출정보/201811_test_승인매출정보.parquet\n",
      "sales_test_12 is loaded from ./data/test/3.승인매출정보/201812_test_승인매출정보.parquet\n",
      "billing_test_07 is loaded from ./data/test/4.청구입금정보/201807_test_청구정보.parquet\n",
      "billing_test_08 is loaded from ./data/test/4.청구입금정보/201808_test_청구정보.parquet\n",
      "billing_test_09 is loaded from ./data/test/4.청구입금정보/201809_test_청구정보.parquet\n",
      "billing_test_10 is loaded from ./data/test/4.청구입금정보/201810_test_청구정보.parquet\n",
      "billing_test_11 is loaded from ./data/test/4.청구입금정보/201811_test_청구정보.parquet\n",
      "billing_test_12 is loaded from ./data/test/4.청구입금정보/201812_test_청구정보.parquet\n",
      "balance_test_07 is loaded from ./data/test/5.잔액정보/201807_test_잔액정보.parquet\n",
      "balance_test_08 is loaded from ./data/test/5.잔액정보/201808_test_잔액정보.parquet\n",
      "balance_test_09 is loaded from ./data/test/5.잔액정보/201809_test_잔액정보.parquet\n",
      "balance_test_10 is loaded from ./data/test/5.잔액정보/201810_test_잔액정보.parquet\n",
      "balance_test_11 is loaded from ./data/test/5.잔액정보/201811_test_잔액정보.parquet\n",
      "balance_test_12 is loaded from ./data/test/5.잔액정보/201812_test_잔액정보.parquet\n",
      "channel_test_07 is loaded from ./data/test/6.채널정보/201807_test_채널정보.parquet\n",
      "channel_test_08 is loaded from ./data/test/6.채널정보/201808_test_채널정보.parquet\n",
      "channel_test_09 is loaded from ./data/test/6.채널정보/201809_test_채널정보.parquet\n",
      "channel_test_10 is loaded from ./data/test/6.채널정보/201810_test_채널정보.parquet\n",
      "channel_test_11 is loaded from ./data/test/6.채널정보/201811_test_채널정보.parquet\n",
      "channel_test_12 is loaded from ./data/test/6.채널정보/201812_test_채널정보.parquet\n",
      "marketing_test_07 is loaded from ./data/test/7.마케팅정보/201807_test_마케팅정보.parquet\n",
      "marketing_test_08 is loaded from ./data/test/7.마케팅정보/201808_test_마케팅정보.parquet\n",
      "marketing_test_09 is loaded from ./data/test/7.마케팅정보/201809_test_마케팅정보.parquet\n",
      "marketing_test_10 is loaded from ./data/test/7.마케팅정보/201810_test_마케팅정보.parquet\n",
      "marketing_test_11 is loaded from ./data/test/7.마케팅정보/201811_test_마케팅정보.parquet\n",
      "marketing_test_12 is loaded from ./data/test/7.마케팅정보/201812_test_마케팅정보.parquet\n",
      "performance_test_07 is loaded from ./data/test/8.성과정보/201807_test_성과정보.parquet\n",
      "performance_test_08 is loaded from ./data/test/8.성과정보/201808_test_성과정보.parquet\n",
      "performance_test_09 is loaded from ./data/test/8.성과정보/201809_test_성과정보.parquet\n",
      "performance_test_10 is loaded from ./data/test/8.성과정보/201810_test_성과정보.parquet\n",
      "performance_test_11 is loaded from ./data/test/8.성과정보/201811_test_성과정보.parquet\n",
      "performance_test_12 is loaded from ./data/test/8.성과정보/201812_test_성과정보.parquet\n"
     ]
    },
    {
     "data": {
      "text/plain": [
       "478"
      ]
     },
     "execution_count": 5,
     "metadata": {},
     "output_type": "execute_result"
    }
   ],
   "source": [
    "import pandas as pd\n",
    "\n",
    "months = ['07', '08', '09', '10', '11', '12']\n",
    "\n",
    "회원정보, 신용정보, 승인매출정보, 청구입금정보, 잔액정보, 채널정보, 마케팅정보, 성과정보 = {}, {}, {}, {}, {}, {}, {}, {}\n",
    "\n",
    "for month in months:\n",
    "    path_base = f\"..\\\\{{}}\\\\2018{month}_test_{{}}.parquet\"\n",
    "    \n",
    "    회원정보[month] = pd.read_parquet(path_base.format('1.회원정보', '회원정보'))\n",
    "    신용정보[month] = pd.read_parquet(path_base.format('2.신용정보', '신용정보'))\n",
    "    승인매출정보[month] = pd.read_parquet(path_base.format('3.승인매출정보', '승인매출정보'))\n",
    "    청구입금정보[month] = pd.read_parquet(path_base.format('4.청구입금정보', '청구정보'))\n",
    "    잔액정보[month] = pd.read_parquet(path_base.format('5.잔액정보', '잔액정보'))\n",
    "    채널정보[month] = pd.read_parquet(path_base.format('6.채널정보', '채널정보'))\n",
    "    마케팅정보[month] = pd.read_parquet(path_base.format('7.마케팅정보', '마케팅정보'))\n",
    "    성과정보[month] = pd.read_parquet(path_base.format('8.성과정보', '성과정보'))"
   ]
  },
  {
   "cell_type": "code",
   "execution_count": null,
   "id": "f9f5626a-81f2-4002-966d-e303a3a5dfc5",
   "metadata": {
    "jupyter": {
     "source_hidden": true
    }
   },
   "outputs": [],
   "source": [
    "cols = ['소지카드수_유효_신용',\n",
    " '소지카드수_이용가능_신용',\n",
    " '입회일자_신용',\n",
    " '입회경과개월수_신용',\n",
    " '유효카드수_신용체크',\n",
    " '유효카드수_신용',\n",
    " '유효카드수_신용_가족',\n",
    " '유효카드수_체크',\n",
    " '이용가능카드수_신용체크',\n",
    " '이용가능카드수_신용',\n",
    " '이용가능카드수_신용_가족',\n",
    " '이용가능카드수_체크',\n",
    " '이용카드수_신용체크',\n",
    " '이용카드수_신용',\n",
    " '이용카드수_신용_가족',\n",
    " '이용카드수_체크',\n",
    " '이용금액_R3M_신용체크',\n",
    " '이용금액_R3M_신용',\n",
    " '이용금액_R3M_신용_가족',\n",
    " '이용금액_R3M_체크',\n",
    " '_1순위카드이용금액',\n",
    " '_1순위카드이용건수',\n",
    " '_2순위카드이용금액',\n",
    " '_2순위카드이용건수',\n",
    " '최종유효년월_신용_이용',\n",
    " '최초한도금액',\n",
    " '카드이용한도금액',\n",
    " 'CA한도금액',\n",
    " 'CA이자율_할인전',\n",
    " '카드이용한도금액_B1M',\n",
    "'수신거부여부_TM',\n",
    "'수신거부여부_DM',\n",
    "'수신거부여부_메일',\n",
    "'보유여부_해외겸용_본인',\n",
    "'이용가능여부_해외겸용_본인',\n",
    "'이용여부_3M_해외겸용_본인',\n",
    "'보유여부_해외겸용_신용_본인',\n",
    " '이용가능여부_해외겸용_신용_본인',\n",
    " '이용여부_3M_해외겸용_신용_본인',\n",
    "'직장시도명',\n",
    " '_2순위신용체크구분',\n",
    "'정상청구원금_B5M', '정상청구원금_B0M', '정상청구원금_B2M', '이용금액_일시불_R12M', '이용금액_일시불_B0M', '이용금액_일시불_R6M', '이용금액_일시불_R3M', '이용금액_오프라인_B0M', '정상입금원금_B5M', '정상입금원금_B0M', '이용금액_오프라인_R3M', '이용금액_오프라인_R6M', '정상입금원금_B2M', '_3순위업종_이용금액', '_2순위업종_이용금액', '_2순위쇼핑업종_이용금액', '최대이용금액_일시불_R12M', '이용건수_신용_R12M', '이용건수_신판_R12M', '이용건수_일시불_R12M', '_1순위업종_이용금액', '이용금액대', '_3순위쇼핑업종_이용금액', '이용건수_오프라인_B0M', '이용가맹점수', '쇼핑_도소매_이용금액', '이용건수_오프라인_R6M', '이용건수_오프라인_R3M', '이용건수_신용_B0M', '이용건수_신용_R6M', '이용건수_신용_R3M', '이용건수_신판_R6M', '이용건수_신판_B0M', '이용건수_신판_R3M', '이용건수_일시불_B0M', '이용건수_일시불_R6M', '이용건수_일시불_R3M', '_1순위교통업종_이용금액', '연체입금원금_B0M', '쇼핑_마트_이용금액', '쇼핑_슈퍼마켓_이용금액', '이용금액_온라인_B0M', '교통_주유이용금액', '연체입금원금_B2M', '연체입금원금_B5M', '이용금액_페이_온라인_B0M', '_1순위쇼핑업종_이용금액', '이용건수_온라인_R6M', '이용금액_페이_온라인_R3M', '이용금액_간편결제_B0M', '이용건수_온라인_R3M', '이용금액_페이_온라인_R6M', '연속유실적개월수_기본_24M_카드', '이용건수_온라인_B0M', '이용금액_온라인_R3M', '이용금액_할부_R12M', '쇼핑_온라인_이용금액', '이용금액_온라인_R6M', '_2순위교통업종_이용금액', '이용금액_할부_무이자_R12M', '이용금액_간편결제_R3M', '이용건수_간편결제_R6M', '이용건수_페이_온라인_R6M', '교통_정비이용금액', '할부금액_3M_R12M', '이용건수_간편결제_R3M', '최대이용금액_할부_무이자_R12M', '최대이용금액_할부_R12M', '이용금액_간편결제_R6M', '이용건수_페이_온라인_R3M', '이용건수_간편결제_B0M', '_3순위교통업종_이용금액', '쇼핑_편의점_이용금액', '이용건수_페이_온라인_B0M', '할부금액_무이자_3M_R12M', '이용개월수_온라인_R6M', '이용개월수_페이_온라인_R6M', '납부_기타이용금액', '이용개월수_간편결제_R6M', '최대이용금액_CA_R12M', '할부금액_6M_R12M', '쇼핑_기타_이용금액', '이용금액_해외', '이용개월수_할부_무이자_R12M', '이용금액_할부_무이자_R6M', '이용개월수_할부_R12M', '이용건수_할부_R12M', '이용금액_할부_R6M', '이용건수_할부_무이자_R12M', '_1순위여유업종_이용금액', '이용금액_CA_R12M', '할부건수_3M_R12M', '쇼핑_백화점_이용금액', '할부건수_무이자_3M_R12M', '할부금액_무이자_6M_R12M', '이용건수_CA_R12M', '이용금액_CA_R6M', '이용개월수_신용_R12M', '이용개월수_신판_R12M', '이용개월수_일시불_R12M', '이용개월수_CA_R12M', '이용금액_CA_R3M', '이용금액_CA_B0M', '이용건수_할부_R6M', '이용후경과월_할부_무이자', '이용개월수_할부_R6M', '이용금액_할부_무이자_R3M', '이용개월수_할부_무이자_R6M', '이용건수_할부_무이자_R6M', '교통_택시이용금액', '최종이용일자_할부', '이용금액_할부_R3M', '이용후경과월_할부', '최종이용일자_CA', '이용건수_CA_R6M', '여유_운동이용금액', '이용개월수_CA_R6M', '이용건수_할부_R3M', '이용건수_할부_무이자_R3M', '이용개월수_할부_R3M', '이용개월수_할부_무이자_R3M', '할부건수_6M_R12M', '이용후경과월_CA', '이용건수_할부_B0M', '이용개월수_전체_R6M', '이용개월수_CA_R3M', '이용건수_할부_무이자_B0M', '_1순위납부업종_이용금액', '이용금액_할부_무이자_B0M', '이용건수_CA_R3M', '할부건수_무이자_6M_R12M', '이용금액_할부_B0M', '이용금액_체크_R12M', '이용건수_CA_B0M', '이용금액_체크_R6M', '이용금액_체크_R3M', '이용개월수_전체_R3M', '이용개월수_오프라인_R6M', '이용건수_체크_R12M', '이용개월수_신용_R6M', '이용금액_체크_B0M', 'RP건수_B0M', '최대이용금액_체크_R12M', '이용건수_체크_R6M', '_2순위여유업종_이용금액', '이용건수_체크_R3M', '이용개월수_신판_R6M', '이용개월수_일시불_R6M', '이용건수_체크_B0M', '이용후경과월_신용', '이용개월수_신용_R3M', '_2순위납부업종_이용금액', '이용개월수_신판_R3M', '이용개월수_일시불_R3M', '최대이용금액_할부_유이자_R12M', '이용금액_할부_유이자_R12M', '이용후경과월_신판', '납부_통신비이용금액', 'RP유형건수_B0M', '할부금액_유이자_3M_R12M', '교통_철도버스이용금액', '납부_보험료이용금액', 'RP후경과월_교통', 'RP건수_통신_B0M', '쇼핑_아울렛_이용금액', '이용후경과월_일시불', '이용개월수_할부_유이자_R12M', '이용개월수_결제일_R6M', '이용개월수_체크_R12M', '신청건수_ATM_CA_R6M', '할부금액_유이자_6M_R12M', '이용후경과월_할부_유이자', '연속무실적개월수_기본_24M_카드', '이용건수_할부_유이자_R12M', '선입금원금_B5M', '여유_숙박이용금액', '여유_공연이용금액', '이용개월수_결제일_R3M', '선입금원금_B0M', '이용개월수_체크_R6M', '할부건수_유이자_3M_R12M', '선입금원금_B2M', 'RP건수_교통_B0M', '최종이용일자_기본', '최종이용일자_일시불', '이용금액_선결제_R6M', '최종이용일자_체크', 'RP후경과월_통신', '이용개월수_체크_R3M', '카드론이용월수_누적', '최종이용일자_신판', '카드론이용건수_누적', '이용후경과월_체크', '이용금액_A페이_B0M', '이용금액_페이_오프라인_B0M', '이용금액_A페이_R3M', '이용금액_페이_오프라인_R3M', 'RP후경과월', '이용건수_A페이_R6M', '이용금액_선결제_R3M', 'RP금액_B0M', '최종카드론_대출이율', '이용개월수_페이_오프라인_R6M', '이용횟수_선결제_R6M', '이용금액_A페이_R6M', '이용금액_할부_유이자_R6M', '이용금액_페이_오프라인_R6M', '교통_버스지하철이용금액', '신청건수_ATM_CA_B0', '이용개월수_A페이_R6M', '이용건수_페이_오프라인_R6M', '이용건수_A페이_R3M', '이용건수_할부_유이자_R6M', '이용건수_페이_오프라인_B0M', '이용건수_페이_오프라인_R3M', '_3순위여유업종_이용금액', '이용개월수_할부_유이자_R6M', '이용금액_선결제_B0M', '이용금액_C페이_B0M', '이용금액_C페이_R3M', '이용건수_A페이_B0M', '이용건수_C페이_B0M', '_3순위납부업종_이용금액', '이용개월수_선결제_R6M', '최초카드론이용경과월', '이용횟수_선결제_R3M', '이용금액_C페이_R6M', '이용건수_C페이_R3M', '여유_기타이용금액', '이용개월수_할부_유이자_R3M', '이용건수_선결제_R6M', '할부건수_유이자_6M_R12M', '이용횟수_선결제_B0M', '이용건수_할부_유이자_R3M', '최종이용일자_카드론', '이용금액_할부_유이자_R3M', '이용건수_C페이_R6M', '할부금액_12M_R12M', '이용개월수_C페이_R6M', '카드론이용금액_누적', '할부금액_무이자_12M_R12M', '이용건수_할부_유이자_B0M', '이용금액_D페이_R6M', '이용건수_선결제_R3M',\n",
    " '청구금액_B0',\n",
    " '청구금액_R3M',\n",
    " '청구금액_R6M',\n",
    " '포인트_마일리지_건별_B0M',\n",
    " '포인트_마일리지_건별_R3M',\n",
    " '포인트_포인트_건별_B0M',\n",
    " '포인트_포인트_건별_R3M',\n",
    " '포인트_마일리지_월적립_B0M',\n",
    " '포인트_마일리지_월적립_R3M',\n",
    " '포인트_포인트_월적립_B0M',\n",
    " '포인트_포인트_월적립_R3M',\n",
    " '포인트_적립포인트_R12M',\n",
    " '포인트_적립포인트_R3M',\n",
    " '포인트_이용포인트_R12M',\n",
    " '포인트_이용포인트_R3M',\n",
    " '마일_적립포인트_R12M',\n",
    " '마일_적립포인트_R3M',\n",
    " '마일_이용포인트_R12M',\n",
    " '마일_이용포인트_R3M',\n",
    " '마일_잔여포인트_B0M',\n",
    " '할인금액_R3M',\n",
    " '할인금액_B0M',\n",
    " '할인금액_청구서_R3M',\n",
    " '할인금액_청구서_B0M',\n",
    " '상환개월수_결제일_R6M',\n",
    " '상환개월수_결제일_R3M',\n",
    " '선결제건수_R6M',\n",
    " '선결제건수_R3M',\n",
    " '혜택수혜금액_R3M',\n",
    " '포인트_마일리지_환산_B0M',\n",
    " '혜택수혜금액',\n",
    " '잔액_일시불_B0M',\n",
    " '잔액_할부_B0M',\n",
    " '잔액_현금서비스_B0M',\n",
    " '월중평잔_일시불_B0M',\n",
    " '월중평잔_할부_B0M',\n",
    " '월중평잔_CA_B0M',\n",
    " '잔액_현금서비스_B1M',\n",
    " '잔액_현금서비스_B2M',\n",
    " '잔액_할부_B1M',\n",
    " '잔액_할부_B2M',\n",
    " '잔액_일시불_B1M',\n",
    " '잔액_일시불_B2M',\n",
    " '잔액_할부_유이자_B0M',\n",
    " '잔액_할부_무이자_B0M',\n",
    " '월중평잔',\n",
    " '월중평잔_일시불',\n",
    " '월중평잔_RV일시불',\n",
    " '월중평잔_할부',\n",
    " '월중평잔_CA',\n",
    " '평잔_3M',\n",
    " '평잔_일시불_3M',\n",
    " '평잔_일시불_해외_3M',\n",
    " '평잔_RV일시불_3M',\n",
    " '평잔_RV일시불_해외_3M',\n",
    " '평잔_할부_3M',\n",
    " '평잔_CA_3M',\n",
    " '평잔_6M',\n",
    " '평잔_일시불_6M',\n",
    " '평잔_일시불_해외_6M',\n",
    " '평잔_RV일시불_6M',\n",
    " '평잔_RV일시불_해외_6M',\n",
    " '평잔_할부_6M',\n",
    " '평잔_CA_6M',\n",
    " '인입횟수_ARS_R6M',\n",
    " '인입일수_ARS_R6M',\n",
    " '인입월수_ARS_R6M',\n",
    " '인입횟수_ARS_B0M',\n",
    " '이용메뉴건수_ARS_B0M',\n",
    " '인입일수_ARS_B0M',\n",
    " '방문월수_PC_R6M',\n",
    " '방문후경과월_PC_R6M',\n",
    " '방문횟수_앱_R6M',\n",
    " '방문일수_앱_R6M',\n",
    " '방문월수_앱_R6M',\n",
    " '방문후경과월_앱_R6M',\n",
    " '방문횟수_PC_B0M',\n",
    " '방문일수_PC_B0M',\n",
    " '방문횟수_앱_B0M',\n",
    " '방문일수_앱_B0M',\n",
    " '인입횟수_IB_R6M',\n",
    " '인입일수_IB_R6M',\n",
    " '인입월수_IB_R6M',\n",
    " '이용메뉴건수_IB_R6M',\n",
    " '인입후경과월_IB_R6M',\n",
    " '상담건수_R6M',\n",
    " 'IB문의건수_사용승인내역_R6M',\n",
    " 'IB문의건수_선결제_R6M',\n",
    " '불만제기후경과월_R12M',\n",
    " '당사멤버쉽_방문월수_R6M',\n",
    " '홈페이지_금융건수_R6M',\n",
    " '홈페이지_선결제건수_R6M',\n",
    " '홈페이지_금융건수_R3M',\n",
    " '홈페이지_선결제건수_R3M',\n",
    " 'OS구분코드',\n",
    " '청구서발송여부_B0',\n",
    " '청구서발송여부_R3M',\n",
    " '청구서발송여부_R6M',\n",
    "        '컨택건수_이용유도_TM_R6M',\n",
    "    '변동률_RVCA평잔',\n",
    "    '변동률_RV일시불평잔',\n",
    "    '컨택건수_이용유도_EM_B0M',\n",
    "    '컨택건수_이용유도_EM_R6M',\n",
    "    '잔액_신판평균한도소진율_r6m',\n",
    "    '잔액_신판평균한도소진율_r3m',\n",
    "    '잔액_신판최대한도소진율_r3m',\n",
    "    '잔액_신판최대한도소진율_r6m',\n",
    "    '잔액_신판ca평균한도소진율_r6m',\n",
    "    '잔액_신판ca평균한도소진율_r3m',\n",
    "    '잔액_신판ca최대한도소진율_r3m',\n",
    "    '잔액_신판ca최대한도소진율_r6m',\n",
    "       'Segment']    "
   ]
  },
  {
   "cell_type": "code",
   "execution_count": null,
   "id": "c4fa2e35-bb15-40e2-88c0-dcc7b58b5460",
   "metadata": {},
   "outputs": [],
   "source": [
    "# 🔧 필요한 모듈\n",
    "import pandas as pd\n",
    "\n",
    "# ✅ months, cols, dicts가 이미 정의되어 있다고 가정\n",
    "months = ['07', '08', '09', '10', '11', '12']\n",
    "\n",
    "# ✅ merge 대상 dicts\n",
    "dicts = [회원정보, 신용정보, 승인매출정보, 청구입금정보, 잔액정보, 채널정보, 마케팅정보, 성과정보]\n",
    "\n",
    "# ✅ 공통 키\n",
    "merge_keys = ['ID', '기준년월']\n",
    "\n",
    "# ✅ 최종 병합 결과 저장\n",
    "merged_monthly = []\n",
    "\n",
    "for month in months:\n",
    "    # 해당 월의 데이터들 중 cols에 포함된 컬럼만 추출\n",
    "    dfs = []\n",
    "    for d in dicts:\n",
    "        df = d[month]\n",
    "        cols_in_df = [col for col in df.columns if col in cols or col in merge_keys]\n",
    "        dfs.append(df[cols_in_df])\n",
    "    \n",
    "    # 순차적으로 merge (ID, 기준년월 기준)\n",
    "    merged = dfs[0]\n",
    "    for df in dfs[1:]:\n",
    "        merged = pd.merge(merged, df, on=merge_keys, how='left')  # 필요 시 how='left'도 고려 가능\n",
    "    \n",
    "    merged_monthly.append(merged)\n",
    "\n",
    "# ✅ 전체 월 통합\n",
    "merged_df = pd.concat(merged_monthly, ignore_index=True)\n",
    "\n",
    "# 결과 확인\n",
    "print(merged_df.shape)\n",
    "print(merged_df.columns)\n"
   ]
  },
  {
   "cell_type": "code",
   "execution_count": null,
   "id": "208c263c-f208-4736-b582-3da213d3e594",
   "metadata": {},
   "outputs": [],
   "source": [
    "len(cols)"
   ]
  },
  {
   "cell_type": "code",
   "execution_count": null,
   "id": "d37ae6f7-396f-4984-afab-56cdd7c5fe1f",
   "metadata": {},
   "outputs": [],
   "source": [
    "merged_df.info()"
   ]
  },
  {
   "cell_type": "code",
   "execution_count": null,
   "id": "c1866dc1-6e50-4b96-8dc3-6dc51c6ee7e5",
   "metadata": {},
   "outputs": [],
   "source": [
    "merged_df.to_csv('0_1_0_test.csv', index=False, encoding='utf-8-sig')"
   ]
  },
  {
   "cell_type": "code",
   "execution_count": null,
   "id": "20f25a77-5421-4c4d-8d78-dfd4a7f55844",
   "metadata": {},
   "outputs": [],
   "source": [
    "missing = merged_df.isnull().sum()\n",
    "missing = missing[missing > 0].sort_values(ascending=False)\n",
    "print(missing)"
   ]
  },
  {
   "cell_type": "code",
   "execution_count": null,
   "id": "d9a9ec75-44ba-40b4-94e0-29d203ce5e44",
   "metadata": {},
   "outputs": [],
   "source": []
  },
  {
   "cell_type": "code",
   "execution_count": null,
   "id": "d59840ff-4aea-4b3a-8d02-812e6bb8725c",
   "metadata": {},
   "outputs": [],
   "source": [
    "from sklearn.preprocessing import LabelEncoder\n",
    "\n",
    "merged_df['OS구분코드'] = merged_df['OS구분코드'].fillna('그외')\n",
    "merged_df['_2순위신용체크구분'] = merged_df['_2순위신용체크구분'].fillna('없음')\n",
    "merged_df['최종유효년월_신용_이용'] = merged_df['최종유효년월_신용_이용'].fillna(0)\n",
    "le = LabelEncoder()\n",
    "merged_df['최종유효년월_신용_이용'] = le.fit_transform(merged_df['최종유효년월_신용_이용'])\n",
    "merged_df['직장시도명'] = merged_df['직장시도명'].fillna('없음')"
   ]
  },
  {
   "cell_type": "code",
   "execution_count": null,
   "id": "1510eba8-5f97-441f-a77b-996bec20f7bf",
   "metadata": {},
   "outputs": [],
   "source": [
    "merged_df.to_csv('0_1_1_test.csv', index=False, encoding='utf-8-sig')"
   ]
  },
  {
   "cell_type": "code",
   "execution_count": null,
   "id": "546b9d34-2e35-475c-8a27-96d586b346ce",
   "metadata": {},
   "outputs": [],
   "source": [
    "merged_df.info()"
   ]
  },
  {
   "cell_type": "code",
   "execution_count": null,
   "id": "34d4d679-215a-4607-b590-6e5346bbf208",
   "metadata": {},
   "outputs": [],
   "source": [
    "# 날짜 컬럼 리스트 (입회일자 및 최종이용일자 관련)\n",
    "date_cols = ['기준년월', '입회일자_신용', '최종유효년월_신용_이용', '최종이용일자_기본', '최종이용일자_신판', '최종이용일자_CA', \n",
    "             '최종이용일자_카드론', '최종이용일자_체크', '최종이용일자_일시불', '최종이용일자_할부']\n",
    "# merged_df에 존재하는 컬럼만 선택\n",
    "existing_date_cols = [col for col in date_cols if col in merged_df.columns]\n",
    "# 각 컬럼에 대해 이상치 처리 및 라벨 인코딩 수행\n",
    "for col in existing_date_cols:\n",
    "    # 문자열로 변환하고 이상치 '10101'을 '0'으로 대체\n",
    "    merged_df[col] = merged_df[col].astype(str).replace('10101', '0')\n",
    "    # 라벨 인코딩\n",
    "    le = LabelEncoder()\n",
    "    merged_df[col] = le.fit_transform(merged_df[col])"
   ]
  },
  {
   "cell_type": "code",
   "execution_count": null,
   "id": "26b31d98-17de-4789-9b5b-004d3facf2d3",
   "metadata": {},
   "outputs": [],
   "source": [
    "from sklearn.preprocessing import LabelEncoder\n",
    "\n",
    "# 처리 대상 컬럼 리스트\n",
    "label_date_cols = [\n",
    "    '연체일자_B0M', '최종카드론_대출일자', 'RV신청일자',\n",
    "    '최종유효년월_신용_이용', '최종유효년월_신용_이용가능', '최종카드발급일자'\n",
    "]\n",
    "\n",
    "# 각 컬럼에 대해 결측치 → '0' 대체 후 라벨 인코딩 (존재할 경우만)\n",
    "for col in label_date_cols:\n",
    "    if col in merged_df.columns:\n",
    "        merged_df[col] = merged_df[col].fillna(0).astype(int).astype(str)\n",
    "        le = LabelEncoder()\n",
    "        merged_df[col] = le.fit_transform(merged_df[col])\n"
   ]
  },
  {
   "cell_type": "code",
   "execution_count": null,
   "id": "2d47fc38-325c-471f-b331-f611d4670357",
   "metadata": {},
   "outputs": [],
   "source": [
    "merged_df.loc[merged_df['최초카드론이용경과월'] == 999, '최초카드론이용경과월'] = 0"
   ]
  },
  {
   "cell_type": "code",
   "execution_count": null,
   "id": "06fe2941-7730-464d-b20d-71850f0bb80b",
   "metadata": {},
   "outputs": [],
   "source": [
    "merged_df.to_csv('0_1_2_test.csv', index=False, encoding='utf-8-sig')"
   ]
  },
  {
   "cell_type": "code",
   "execution_count": null,
   "id": "1ff03a8f-5cd5-4fd3-8bf3-a58af940b9fa",
   "metadata": {},
   "outputs": [],
   "source": [
    "import pandas as pd\n",
    "merged_df = pd.read_csv('0_1_2.csv', encoding='utf-8-sig')"
   ]
  },
  {
   "cell_type": "code",
   "execution_count": null,
   "id": "30b3d871-5ce4-46fd-8433-e02cc5a44db2",
   "metadata": {},
   "outputs": [],
   "source": [
    "merged_df.info()"
   ]
  },
  {
   "cell_type": "code",
   "execution_count": null,
   "id": "cd4ad70d-8191-4381-96de-7946469d5cfb",
   "metadata": {},
   "outputs": [],
   "source": [
    "# 범주형 변수 추출\n",
    "categorical_columns = merged_df.select_dtypes(include=['object', 'category']).columns\n",
    "\n",
    "# 유일한 값이 하나만 존재하는 컬럼 찾기\n",
    "single_value_columns = [col for col in categorical_columns if merged_df[col].nunique(dropna=False) == 1]\n",
    "\n",
    "print(\"값이 하나뿐인 범주형 변수:\")\n",
    "print(single_value_columns)"
   ]
  },
  {
   "cell_type": "code",
   "execution_count": null,
   "id": "a163e404-9112-4b25-9d39-269cb0a6c421",
   "metadata": {},
   "outputs": [],
   "source": [
    "# 변환 대상 컬럼 리스트\n",
    "category_cols = ['최종카드론_금융상환방식코드',\n",
    "    '남녀구분코드', '회원여부_이용가능', '회원여부_이용가능_CA',\n",
    "    '회원여부_이용가능_카드론', '소지여부_신용', '회원여부_연체',\n",
    "    '이용거절여부_카드론', '동의여부_한도증액안내', '수신거부여부_TM',\n",
    "    '수신거부여부_DM', '수신거부여부_메일', '수신거부여부_SMS',\n",
    "    '마케팅동의여부', '보유여부_해외겸용_본인', '이용가능여부_해외겸용_본인',\n",
    "    '이용여부_3M_해외겸용_본인', '보유여부_해외겸용_신용_본인',\n",
    "    '이용가능여부_해외겸용_신용_본인', '이용여부_3M_해외겸용_신용_본인',\n",
    "    '일시불ONLY전환가능여부', '연체감액여부_R3M', '시장단기연체여부_R6M',\n",
    "    '시장단기연체여부_R3M', '청구서발송여부_B0', '청구서발송여부_R3M',\n",
    "    '청구서발송여부_R6M'\n",
    "]\n",
    "# 실제 존재하는 컬럼만 선택\n",
    "existing_cols = [col for col in category_cols if col in merged_df.columns]\n",
    "# 선택된 컬럼들을 category 타입으로 변환\n",
    "merged_df[existing_cols] = merged_df[existing_cols].astype('category')"
   ]
  },
  {
   "cell_type": "code",
   "execution_count": null,
   "id": "e0af686c-7c84-490e-aff3-f5d663b6d332",
   "metadata": {},
   "outputs": [],
   "source": [
    "merged_df = pd.get_dummies(merged_df, columns=existing_cols, prefix=existing_cols)"
   ]
  },
  {
   "cell_type": "code",
   "execution_count": null,
   "id": "f14f221e-a7d8-4d0e-a86d-6411b41fe09f",
   "metadata": {},
   "outputs": [],
   "source": [
    "merged_df.to_csv('0_1_3_test.csv', index=False, encoding='utf-8-sig')"
   ]
  },
  {
   "cell_type": "code",
   "execution_count": null,
   "id": "af6ac1dd-8dd2-4a61-a8a4-e6083bfa4e3a",
   "metadata": {},
   "outputs": [],
   "source": [
    "merged_df.info()"
   ]
  },
  {
   "cell_type": "code",
   "execution_count": null,
   "id": "0d6056f6-1dba-4cd0-96f1-fb25c72118a8",
   "metadata": {},
   "outputs": [],
   "source": [
    "from sklearn.preprocessing import LabelEncoder\n",
    "# 인코딩 대상 컬럼\n",
    "one_hot_cols = ['OS구분코드','직장시도명','_2순위신용체크구분']\n",
    "label_encode_cols = ['이용금액대', '인입횟수_ARS_R6M','방문횟수_앱_R6M']\n",
    "\n",
    "# 1. 원핫 인코딩\n",
    "merged_df = pd.get_dummies(merged_df, columns=one_hot_cols, prefix=one_hot_cols)\n",
    "\n",
    "# 2. 라벨 인코딩 (올인원 스타일)\n",
    "le = LabelEncoder()\n",
    "for col in label_encode_cols:\n",
    "    merged_df[col] = le.fit_transform(merged_df[col].astype(str))\n",
    "\n",
    "# 결과 확인\n",
    "print(merged_df.shape)"
   ]
  },
  {
   "cell_type": "code",
   "execution_count": null,
   "id": "0d1065e6-8bb3-428a-a1d5-c20379e4df24",
   "metadata": {},
   "outputs": [],
   "source": [
    "merged_df.to_csv('0_1_4_test.csv', index=False, encoding='utf-8-sig')"
   ]
  },
  {
   "cell_type": "code",
   "execution_count": null,
   "id": "ce51869c-9234-4832-b345-a519cb3f6192",
   "metadata": {},
   "outputs": [],
   "source": [
    "merged_df.info()"
   ]
  },
  {
   "cell_type": "code",
   "execution_count": null,
   "id": "6cbf8075-95f1-4819-826f-5bd7220462b3",
   "metadata": {},
   "outputs": [],
   "source": []
  },
  {
   "cell_type": "code",
   "execution_count": 86,
   "id": "48093774-af5d-49fa-abd6-f4a30fc834a2",
   "metadata": {},
   "outputs": [],
   "source": [
    "import pickle"
   ]
  },
  {
   "cell_type": "code",
   "execution_count": 87,
   "id": "e7495baa-f41e-4170-90a0-0c0d0ab31ad3",
   "metadata": {},
   "outputs": [],
   "source": [
    "l_m=pickle.load(open('logistic_model(0.1)','rb'))"
   ]
  },
  {
   "cell_type": "code",
   "execution_count": 88,
   "id": "356ff039-a05e-421d-88c5-07cf7926f987",
   "metadata": {},
   "outputs": [],
   "source": [
    "test_df = test_df.drop(columns=['ID'])"
   ]
  },
  {
   "cell_type": "code",
   "execution_count": 89,
   "id": "cc1bc77a-f556-4f74-bfd4-935c37cce332",
   "metadata": {},
   "outputs": [],
   "source": [
    "# 모델이 학습할 때 사용한 컬럼 순서대로 정렬\n",
    "test_df = test_df[l_m.feature_names_in_]"
   ]
  },
  {
   "cell_type": "code",
   "execution_count": 90,
   "id": "95cdc48a-fc63-4da5-af22-ab35718beb2a",
   "metadata": {},
   "outputs": [],
   "source": [
    "preds = l_m.predict(test_df) \n",
    "test_df['Segment'] = preds"
   ]
  },
  {
   "cell_type": "code",
   "execution_count": 93,
   "id": "4893185f-44ad-4c98-b955-ca74deb4a455",
   "metadata": {},
   "outputs": [],
   "source": [
    "# 'Segment' 컬럼의 값들을 원래 값으로 변환\n",
    "test_df['Segment'] = test_df['Segment'].map(label_mapping)"
   ]
  },
  {
   "cell_type": "code",
   "execution_count": 95,
   "id": "35e21dba-b9cc-4f5e-b84c-7e7bdaad0b90",
   "metadata": {},
   "outputs": [],
   "source": [
    "# 100,000개의 ID 값을 생성\n",
    "ids = [f\"TEST_{str(i).zfill(5)}\" for i in range(100000)]\n",
    "\n",
    "# 6번 반복\n",
    "repeated_ids = ids * 6\n",
    "\n",
    "# test_df의 ID 컬럼에 넣기 (행 수가 맞는지 확인)\n",
    "test_df['ID'] = repeated_ids[:len(test_df)]  # test_df의 길이에 맞게 자르기"
   ]
  },
  {
   "cell_type": "code",
   "execution_count": 98,
   "id": "769bbcfd-3616-4018-86bc-12947270a60d",
   "metadata": {},
   "outputs": [],
   "source": [
    "submission = test_df.groupby(\"ID\")[\"Segment\"] \\\n",
    "    .agg(lambda x: x.value_counts().idxmax()) \\\n",
    "    .reset_index()\n",
    "\n",
    "submission.columns = [\"ID\", \"Segment\"]"
   ]
  },
  {
   "cell_type": "code",
   "execution_count": 99,
   "id": "c5ad0a4b-8476-4e43-ad8f-63a502411702",
   "metadata": {},
   "outputs": [
    {
     "data": {
      "text/html": [
       "<div>\n",
       "<style scoped>\n",
       "    .dataframe tbody tr th:only-of-type {\n",
       "        vertical-align: middle;\n",
       "    }\n",
       "\n",
       "    .dataframe tbody tr th {\n",
       "        vertical-align: top;\n",
       "    }\n",
       "\n",
       "    .dataframe thead th {\n",
       "        text-align: right;\n",
       "    }\n",
       "</style>\n",
       "<table border=\"1\" class=\"dataframe\">\n",
       "  <thead>\n",
       "    <tr style=\"text-align: right;\">\n",
       "      <th></th>\n",
       "      <th>ID</th>\n",
       "      <th>Segment</th>\n",
       "    </tr>\n",
       "  </thead>\n",
       "  <tbody>\n",
       "    <tr>\n",
       "      <th>0</th>\n",
       "      <td>TEST_00000</td>\n",
       "      <td>E</td>\n",
       "    </tr>\n",
       "    <tr>\n",
       "      <th>1</th>\n",
       "      <td>TEST_00001</td>\n",
       "      <td>D</td>\n",
       "    </tr>\n",
       "    <tr>\n",
       "      <th>2</th>\n",
       "      <td>TEST_00002</td>\n",
       "      <td>E</td>\n",
       "    </tr>\n",
       "    <tr>\n",
       "      <th>3</th>\n",
       "      <td>TEST_00003</td>\n",
       "      <td>E</td>\n",
       "    </tr>\n",
       "    <tr>\n",
       "      <th>4</th>\n",
       "      <td>TEST_00004</td>\n",
       "      <td>E</td>\n",
       "    </tr>\n",
       "    <tr>\n",
       "      <th>...</th>\n",
       "      <td>...</td>\n",
       "      <td>...</td>\n",
       "    </tr>\n",
       "    <tr>\n",
       "      <th>99995</th>\n",
       "      <td>TEST_99995</td>\n",
       "      <td>E</td>\n",
       "    </tr>\n",
       "    <tr>\n",
       "      <th>99996</th>\n",
       "      <td>TEST_99996</td>\n",
       "      <td>E</td>\n",
       "    </tr>\n",
       "    <tr>\n",
       "      <th>99997</th>\n",
       "      <td>TEST_99997</td>\n",
       "      <td>E</td>\n",
       "    </tr>\n",
       "    <tr>\n",
       "      <th>99998</th>\n",
       "      <td>TEST_99998</td>\n",
       "      <td>C</td>\n",
       "    </tr>\n",
       "    <tr>\n",
       "      <th>99999</th>\n",
       "      <td>TEST_99999</td>\n",
       "      <td>E</td>\n",
       "    </tr>\n",
       "  </tbody>\n",
       "</table>\n",
       "<p>100000 rows × 2 columns</p>\n",
       "</div>"
      ],
      "text/plain": [
       "               ID Segment\n",
       "0      TEST_00000       E\n",
       "1      TEST_00001       D\n",
       "2      TEST_00002       E\n",
       "3      TEST_00003       E\n",
       "4      TEST_00004       E\n",
       "...           ...     ...\n",
       "99995  TEST_99995       E\n",
       "99996  TEST_99996       E\n",
       "99997  TEST_99997       E\n",
       "99998  TEST_99998       C\n",
       "99999  TEST_99999       E\n",
       "\n",
       "[100000 rows x 2 columns]"
      ]
     },
     "execution_count": 99,
     "metadata": {},
     "output_type": "execute_result"
    }
   ],
   "source": [
    "submission"
   ]
  },
  {
   "cell_type": "code",
   "execution_count": 100,
   "id": "4cf37c19-95fa-4062-9c2a-8e78deff164e",
   "metadata": {},
   "outputs": [],
   "source": [
    "submission.to_csv('./data/test_df(최종1).csv', index=False)"
   ]
  },
  {
   "cell_type": "code",
   "execution_count": null,
   "id": "5ed918af-13fc-4f59-b1ed-103d0fadcd57",
   "metadata": {},
   "outputs": [],
   "source": []
  }
 ],
 "metadata": {
  "kernelspec": {
   "display_name": "Python [conda env:base] *",
   "language": "python",
   "name": "conda-base-py"
  },
  "language_info": {
   "codemirror_mode": {
    "name": "ipython",
    "version": 3
   },
   "file_extension": ".py",
   "mimetype": "text/x-python",
   "name": "python",
   "nbconvert_exporter": "python",
   "pygments_lexer": "ipython3",
   "version": "3.12.7"
  }
 },
 "nbformat": 4,
 "nbformat_minor": 5
}
