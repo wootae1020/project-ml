{
 "cells": [
  {
   "cell_type": "markdown",
   "id": "e00f2084-5913-4a58-b9f2-4c4ae7e587f2",
   "metadata": {},
   "source": [
    "# 데이터 병합"
   ]
  },
  {
   "cell_type": "code",
   "execution_count": 4,
   "id": "66d5feeb-5853-4c9c-9ae6-403bca2f599e",
   "metadata": {},
   "outputs": [],
   "source": [
    "# 6개월의 전체 train 데이터 불러오기\n",
    "\n",
    "import pandas as pd\n",
    "months = ['07', '08', '09', '10', '11', '12']\n",
    "회원정보, 신용정보, 승인매출정보, 청구입금정보, 잔액정보, 채널정보, 마케팅정보, 성과정보 = {}, {}, {}, {}, {}, {}, {}, {}\n",
    "\n",
    "for month in months:\n",
    "    path_base = f\"..\\\\{{}}\\\\2018{month}_train_{{}}.parquet\"\n",
    "    \n",
    "    회원정보[month] = pd.read_parquet(path_base.format('1.회원정보', '회원정보'))\n",
    "    신용정보[month] = pd.read_parquet(path_base.format('2.신용정보', '신용정보'))\n",
    "    승인매출정보[month] = pd.read_parquet(path_base.format('3.승인매출정보', '승인매출정보'))\n",
    "    청구입금정보[month] = pd.read_parquet(path_base.format('4.청구입금정보', '청구정보'))\n",
    "    잔액정보[month] = pd.read_parquet(path_base.format('5.잔액정보', '잔액정보'))\n",
    "    채널정보[month] = pd.read_parquet(path_base.format('6.채널정보', '채널정보'))\n",
    "    마케팅정보[month] = pd.read_parquet(path_base.format('7.마케팅정보', '마케팅정보'))\n",
    "    성과정보[month] = pd.read_parquet(path_base.format('8.성과정보', '성과정보'))"
   ]
  },
  {
   "cell_type": "code",
   "execution_count": 6,
   "id": "d82df602-1b93-4f10-b786-d22d5ea2d428",
   "metadata": {},
   "outputs": [],
   "source": [
    "# Segment와의 상관계수가 0.1이상인 컬럼\n",
    "cols = ['소지카드수_유효_신용', '소지카드수_이용가능_신용', '입회일자_신용', '입회경과개월수_신용', '유효카드수_신용체크', '유효카드수_신용', '유효카드수_신용_가족', '유효카드수_체크', '이용가능카드수_신용체크', '이용가능카드수_신용', '이용가능카드수_신용_가족', '이용가능카드수_체크', '이용카드수_신용체크', '이용카드수_신용', '이용카드수_신용_가족', '이용카드수_체크', '이용금액_R3M_신용체크', '이용금액_R3M_신용', '이용금액_R3M_신용_가족', '이용금액_R3M_체크', '_1순위카드이용금액', '_1순위카드이용건수', '_2순위카드이용금액', '_2순위카드이용건수', '최종유효년월_신용_이용', '최초한도금액', '카드이용한도금액', 'CA한도금액', 'CA이자율_할인전', '카드이용한도금액_B1M', '수신거부여부_TM', '수신거부여부_DM', '수신거부여부_메일', '보유여부_해외겸용_본인', '이용가능여부_해외겸용_본인', '이용여부_3M_해외겸용_본인', '보유여부_해외겸용_신용_본인', '이용가능여부_해외겸용_신용_본인', '이용여부_3M_해외겸용_신용_본인', '직장시도명', '_2순위신용체크구분', '정상청구원금_B5M', '정상청구원금_B0M', '정상청구원금_B2M', '이용금액_일시불_R12M', '이용금액_일시불_B0M', '이용금액_일시불_R6M', '이용금액_일시불_R3M', '이용금액_오프라인_B0M', '정상입금원금_B5M', '정상입금원금_B0M', '이용금액_오프라인_R3M', '이용금액_오프라인_R6M', '정상입금원금_B2M', '_3순위업종_이용금액', '_2순위업종_이용금액', '_2순위쇼핑업종_이용금액', '최대이용금액_일시불_R12M', '이용건수_신용_R12M', '이용건수_신판_R12M', '이용건수_일시불_R12M', '_1순위업종_이용금액', '이용금액대', '_3순위쇼핑업종_이용금액', '이용건수_오프라인_B0M', '이용가맹점수', '쇼핑_도소매_이용금액', '이용건수_오프라인_R6M', '이용건수_오프라인_R3M', '이용건수_신용_B0M', '이용건수_신용_R6M', '이용건수_신용_R3M', '이용건수_신판_R6M', '이용건수_신판_B0M', '이용건수_신판_R3M', '이용건수_일시불_B0M', '이용건수_일시불_R6M', '이용건수_일시불_R3M', '_1순위교통업종_이용금액', '연체입금원금_B0M', '쇼핑_마트_이용금액', '쇼핑_슈퍼마켓_이용금액', '이용금액_온라인_B0M', '교통_주유이용금액', '연체입금원금_B2M', '연체입금원금_B5M', '이용금액_페이_온라인_B0M', '_1순위쇼핑업종_이용금액', '이용건수_온라인_R6M', '이용금액_페이_온라인_R3M', '이용금액_간편결제_B0M', '이용건수_온라인_R3M', '이용금액_페이_온라인_R6M', '연속유실적개월수_기본_24M_카드', '이용건수_온라인_B0M', '이용금액_온라인_R3M', '이용금액_할부_R12M', '쇼핑_온라인_이용금액', '이용금액_온라인_R6M', '_2순위교통업종_이용금액', '이용금액_할부_무이자_R12M', '이용금액_간편결제_R3M', '이용건수_간편결제_R6M', '이용건수_페이_온라인_R6M', '교통_정비이용금액', '할부금액_3M_R12M', '이용건수_간편결제_R3M', '최대이용금액_할부_무이자_R12M', '최대이용금액_할부_R12M', '이용금액_간편결제_R6M', '이용건수_페이_온라인_R3M', '이용건수_간편결제_B0M', '_3순위교통업종_이용금액', '쇼핑_편의점_이용금액', '이용건수_페이_온라인_B0M', '할부금액_무이자_3M_R12M', '이용개월수_온라인_R6M', '이용개월수_페이_온라인_R6M', '납부_기타이용금액', '이용개월수_간편결제_R6M', '최대이용금액_CA_R12M', '할부금액_6M_R12M', '쇼핑_기타_이용금액', '이용금액_해외', '이용개월수_할부_무이자_R12M', '이용금액_할부_무이자_R6M', '이용개월수_할부_R12M', '이용건수_할부_R12M', '이용금액_할부_R6M', '이용건수_할부_무이자_R12M', '_1순위여유업종_이용금액', '이용금액_CA_R12M', '할부건수_3M_R12M', '쇼핑_백화점_이용금액', '할부건수_무이자_3M_R12M', '할부금액_무이자_6M_R12M', '이용건수_CA_R12M', '이용금액_CA_R6M', '이용개월수_신용_R12M', '이용개월수_신판_R12M', '이용개월수_일시불_R12M', '이용개월수_CA_R12M', '이용금액_CA_R3M', '이용금액_CA_B0M', '이용건수_할부_R6M', '이용후경과월_할부_무이자', '이용개월수_할부_R6M', '이용금액_할부_무이자_R3M', '이용개월수_할부_무이자_R6M', '이용건수_할부_무이자_R6M', '교통_택시이용금액', '최종이용일자_할부', '이용금액_할부_R3M', '이용후경과월_할부', '최종이용일자_CA', '이용건수_CA_R6M', '여유_운동이용금액', '이용개월수_CA_R6M', '이용건수_할부_R3M', '이용건수_할부_무이자_R3M', '이용개월수_할부_R3M', '이용개월수_할부_무이자_R3M', '할부건수_6M_R12M', '이용후경과월_CA', '이용건수_할부_B0M', '이용개월수_전체_R6M', '이용개월수_CA_R3M', '이용건수_할부_무이자_B0M', '_1순위납부업종_이용금액', '이용금액_할부_무이자_B0M', '이용건수_CA_R3M', '할부건수_무이자_6M_R12M', '이용금액_할부_B0M', '이용금액_체크_R12M', '이용건수_CA_B0M', '이용금액_체크_R6M', '이용금액_체크_R3M', '이용개월수_전체_R3M', '이용개월수_오프라인_R6M', '이용건수_체크_R12M', '이용개월수_신용_R6M', '이용금액_체크_B0M', 'RP건수_B0M', '최대이용금액_체크_R12M', '이용건수_체크_R6M', '_2순위여유업종_이용금액', '이용건수_체크_R3M', '이용개월수_신판_R6M', '이용개월수_일시불_R6M', '이용건수_체크_B0M', '이용후경과월_신용', '이용개월수_신용_R3M', '_2순위납부업종_이용금액', '이용개월수_신판_R3M', '이용개월수_일시불_R3M', '최대이용금액_할부_유이자_R12M', '이용금액_할부_유이자_R12M', '이용후경과월_신판', '납부_통신비이용금액', 'RP유형건수_B0M', '할부금액_유이자_3M_R12M', '교통_철도버스이용금액', '납부_보험료이용금액', 'RP후경과월_교통', 'RP건수_통신_B0M', '쇼핑_아울렛_이용금액', '이용후경과월_일시불', '이용개월수_할부_유이자_R12M', '이용개월수_결제일_R6M', '이용개월수_체크_R12M', '신청건수_ATM_CA_R6M', '할부금액_유이자_6M_R12M', '이용후경과월_할부_유이자', '연속무실적개월수_기본_24M_카드', '이용건수_할부_유이자_R12M', '선입금원금_B5M', '여유_숙박이용금액', '여유_공연이용금액', '이용개월수_결제일_R3M', '선입금원금_B0M', '이용개월수_체크_R6M', '할부건수_유이자_3M_R12M', '선입금원금_B2M', 'RP건수_교통_B0M', '최종이용일자_기본', '최종이용일자_일시불', '이용금액_선결제_R6M', '최종이용일자_체크', 'RP후경과월_통신', '이용개월수_체크_R3M', '카드론이용월수_누적', '최종이용일자_신판', '카드론이용건수_누적', '이용후경과월_체크', '이용금액_A페이_B0M', '이용금액_페이_오프라인_B0M', '이용금액_A페이_R3M', '이용금액_페이_오프라인_R3M', 'RP후경과월', '이용건수_A페이_R6M', '이용금액_선결제_R3M', 'RP금액_B0M', '최종카드론_대출이율', '이용개월수_페이_오프라인_R6M', '이용횟수_선결제_R6M', '이용금액_A페이_R6M', '이용금액_할부_유이자_R6M', '이용금액_페이_오프라인_R6M', '교통_버스지하철이용금액', '신청건수_ATM_CA_B0', '이용개월수_A페이_R6M', '이용건수_페이_오프라인_R6M', '이용건수_A페이_R3M', '이용건수_할부_유이자_R6M', '이용건수_페이_오프라인_B0M', '이용건수_페이_오프라인_R3M', '_3순위여유업종_이용금액', '이용개월수_할부_유이자_R6M', '이용금액_선결제_B0M', '이용금액_C페이_B0M', '이용금액_C페이_R3M', '이용건수_A페이_B0M', '이용건수_C페이_B0M', '_3순위납부업종_이용금액', '이용개월수_선결제_R6M', '최초카드론이용경과월', '이용횟수_선결제_R3M', '이용금액_C페이_R6M', '이용건수_C페이_R3M', '여유_기타이용금액', '이용개월수_할부_유이자_R3M', '이용건수_선결제_R6M', '할부건수_유이자_6M_R12M', '이용횟수_선결제_B0M', '이용건수_할부_유이자_R3M', '최종이용일자_카드론', '이용금액_할부_유이자_R3M', '이용건수_C페이_R6M', '할부금액_12M_R12M', '이용개월수_C페이_R6M', '카드론이용금액_누적', '할부금액_무이자_12M_R12M', '이용건수_할부_유이자_B0M', '이용금액_D페이_R6M', '이용건수_선결제_R3M', '청구금액_B0', '청구금액_R3M', '청구금액_R6M', '포인트_마일리지_건별_B0M', '포인트_마일리지_건별_R3M', '포인트_포인트_건별_B0M', '포인트_포인트_건별_R3M', '포인트_마일리지_월적립_B0M', '포인트_마일리지_월적립_R3M', '포인트_포인트_월적립_B0M', '포인트_포인트_월적립_R3M', '포인트_적립포인트_R12M', '포인트_적립포인트_R3M', '포인트_이용포인트_R12M', '포인트_이용포인트_R3M', '마일_적립포인트_R12M', '마일_적립포인트_R3M', '마일_이용포인트_R12M', '마일_이용포인트_R3M', '마일_잔여포인트_B0M', '할인금액_R3M', '할인금액_B0M', '할인금액_청구서_R3M', '할인금액_청구서_B0M', '상환개월수_결제일_R6M', '상환개월수_결제일_R3M', '선결제건수_R6M', '선결제건수_R3M', '혜택수혜금액_R3M', '포인트_마일리지_환산_B0M', '혜택수혜금액', '잔액_일시불_B0M', '잔액_할부_B0M', '잔액_현금서비스_B0M', '월중평잔_일시불_B0M', '월중평잔_할부_B0M', '월중평잔_CA_B0M', '잔액_현금서비스_B1M', '잔액_현금서비스_B2M', '잔액_할부_B1M', '잔액_할부_B2M', '잔액_일시불_B1M', '잔액_일시불_B2M', '잔액_할부_유이자_B0M', '잔액_할부_무이자_B0M', '월중평잔', '월중평잔_일시불', '월중평잔_RV일시불', '월중평잔_할부', '월중평잔_CA', '평잔_3M', '평잔_일시불_3M', '평잔_일시불_해외_3M', '평잔_RV일시불_3M', '평잔_RV일시불_해외_3M', '평잔_할부_3M', '평잔_CA_3M', '평잔_6M', '평잔_일시불_6M', '평잔_일시불_해외_6M', '평잔_RV일시불_6M', '평잔_RV일시불_해외_6M', '평잔_할부_6M', '평잔_CA_6M', '인입횟수_ARS_R6M', '인입일수_ARS_R6M', '인입월수_ARS_R6M', '인입횟수_ARS_B0M', '이용메뉴건수_ARS_B0M', '인입일수_ARS_B0M', '방문월수_PC_R6M', '방문후경과월_PC_R6M', '방문횟수_앱_R6M', '방문일수_앱_R6M', '방문월수_앱_R6M', '방문후경과월_앱_R6M', '방문횟수_PC_B0M', '방문일수_PC_B0M', '방문횟수_앱_B0M', '방문일수_앱_B0M', '인입횟수_IB_R6M', '인입일수_IB_R6M', '인입월수_IB_R6M', '이용메뉴건수_IB_R6M', '인입후경과월_IB_R6M', '상담건수_R6M', 'IB문의건수_사용승인내역_R6M', 'IB문의건수_선결제_R6M', '불만제기후경과월_R12M', '당사멤버쉽_방문월수_R6M', '홈페이지_금융건수_R6M', '홈페이지_선결제건수_R6M', '홈페이지_금융건수_R3M', '홈페이지_선결제건수_R3M', 'OS구분코드', '청구서발송여부_B0', '청구서발송여부_R3M', '청구서발송여부_R6M', '컨택건수_이용유도_TM_R6M', '변동률_RVCA평잔', '변동률_RV일시불평잔', '컨택건수_이용유도_EM_B0M', '컨택건수_이용유도_EM_R6M', '잔액_신판평균한도소진율_r6m', '잔액_신판평균한도소진율_r3m', '잔액_신판최대한도소진율_r3m', '잔액_신판최대한도소진율_r6m', '잔액_신판ca평균한도소진율_r6m', '잔액_신판ca평균한도소진율_r3m', '잔액_신판ca최대한도소진율_r3m', '잔액_신판ca최대한도소진율_r6m', 'Segment']"
   ]
  },
  {
   "cell_type": "code",
   "execution_count": 8,
   "id": "c2d599c8-7334-41d0-8971-6c2a4a1b2d98",
   "metadata": {},
   "outputs": [
    {
     "data": {
      "text/plain": [
       "397"
      ]
     },
     "execution_count": 8,
     "metadata": {},
     "output_type": "execute_result"
    }
   ],
   "source": [
    "len(cols)"
   ]
  },
  {
   "cell_type": "code",
   "execution_count": 10,
   "id": "205384b5-6f92-4706-93ab-8c8ead0f0e4c",
   "metadata": {},
   "outputs": [
    {
     "name": "stdout",
     "output_type": "stream",
     "text": [
      "(2400000, 399)\n",
      "Index(['기준년월', 'ID', 'Segment', '소지카드수_유효_신용', '소지카드수_이용가능_신용', '입회일자_신용',\n",
      "       '입회경과개월수_신용', '수신거부여부_TM', '수신거부여부_DM', '수신거부여부_메일',\n",
      "       ...\n",
      "       '잔액_신판평균한도소진율_r6m', '잔액_신판최대한도소진율_r6m', '잔액_신판평균한도소진율_r3m',\n",
      "       '잔액_신판최대한도소진율_r3m', '잔액_신판ca평균한도소진율_r6m', '잔액_신판ca최대한도소진율_r6m',\n",
      "       '잔액_신판ca평균한도소진율_r3m', '잔액_신판ca최대한도소진율_r3m', '변동률_RV일시불평잔',\n",
      "       '변동률_RVCA평잔'],\n",
      "      dtype='object', length=399)\n"
     ]
    }
   ],
   "source": [
    "dicts = [회원정보, 신용정보, 승인매출정보, 청구입금정보, 잔액정보, 채널정보, 마케팅정보, 성과정보]\n",
    "merge_keys = ['ID', '기준년월']\n",
    "merged_monthly = []\n",
    "\n",
    "for month in months:\n",
    "    dfs = []\n",
    "    for d in dicts:\n",
    "        df = d[month]\n",
    "        cols_in_df = [col for col in df.columns if col in cols or col in merge_keys]\n",
    "        dfs.append(df[cols_in_df])\n",
    "\n",
    "    merged = dfs[0]\n",
    "    for df in dfs[1:]:\n",
    "        merged = pd.merge(merged, df, on=merge_keys, how='left')\n",
    "    \n",
    "    merged_monthly.append(merged)\n",
    "\n",
    "merged_df = pd.concat(merged_monthly, ignore_index=True)\n",
    "\n",
    "# 결과 확인\n",
    "print(merged_df.shape)\n",
    "print(merged_df.columns)"
   ]
  },
  {
   "cell_type": "code",
   "execution_count": 12,
   "id": "4e6af87c-5467-48c6-94ef-17fea6983564",
   "metadata": {},
   "outputs": [
    {
     "name": "stdout",
     "output_type": "stream",
     "text": [
      "<class 'pandas.core.frame.DataFrame'>\n",
      "RangeIndex: 2400000 entries, 0 to 2399999\n",
      "Columns: 399 entries, 기준년월 to 변동률_RVCA평잔\n",
      "dtypes: float64(13), int64(378), object(8)\n",
      "memory usage: 7.1+ GB\n"
     ]
    }
   ],
   "source": [
    "merged_df.info()"
   ]
  },
  {
   "cell_type": "code",
   "execution_count": 14,
   "id": "7270ec2d-b9ac-4cb8-aba6-9c0598dad797",
   "metadata": {},
   "outputs": [],
   "source": [
    "# 저장\n",
    "merged_df.to_csv('0_1_0.csv', index=False, encoding='utf-8-sig')"
   ]
  },
  {
   "cell_type": "markdown",
   "id": "29048f3a-f899-4daa-8f45-e9402f0cbf60",
   "metadata": {},
   "source": [
    "# 결측 처리"
   ]
  },
  {
   "cell_type": "code",
   "execution_count": 16,
   "id": "9db6f91e-b554-4f0c-968d-436a23db280d",
   "metadata": {
    "scrolled": true
   },
   "outputs": [
    {
     "name": "stdout",
     "output_type": "stream",
     "text": [
      "OS구분코드          1633566\n",
      "_2순위신용체크구분       958115\n",
      "최종유효년월_신용_이용     534231\n",
      "직장시도명            244969\n",
      "dtype: int64\n"
     ]
    }
   ],
   "source": [
    "missing = merged_df.isnull().sum()\n",
    "missing = missing[missing > 0].sort_values(ascending=False)\n",
    "print(missing)"
   ]
  },
  {
   "cell_type": "code",
   "execution_count": 17,
   "id": "e8c1c693-6f38-4f53-9f35-2c1bcf011c84",
   "metadata": {},
   "outputs": [],
   "source": [
    "# OS구분코드 결측을 '그외'로 채움\n",
    "# _2순위신용체크구분 결측을 '없음'으로 채움\n",
    "# 최종유효년월_신용_이용 결측을 0으로 채우고 나머지는 라벨 인코딩\n",
    "# 직장시도명 결측을 '없음'으로 채움"
   ]
  },
  {
   "cell_type": "code",
   "execution_count": 18,
   "id": "3d6fc869-a25a-42d7-9390-fb2b7a0d4833",
   "metadata": {},
   "outputs": [],
   "source": [
    "from sklearn.preprocessing import LabelEncoder\n",
    "\n",
    "merged_df['OS구분코드'] = merged_df['OS구분코드'].fillna('그외')\n",
    "merged_df['_2순위신용체크구분'] = merged_df['_2순위신용체크구분'].fillna('없음')\n",
    "merged_df['최종유효년월_신용_이용'] = merged_df['최종유효년월_신용_이용'].fillna(0)\n",
    "le = LabelEncoder()\n",
    "merged_df['최종유효년월_신용_이용'] = le.fit_transform(merged_df['최종유효년월_신용_이용'])\n",
    "merged_df['직장시도명'] = merged_df['직장시도명'].fillna('없음')"
   ]
  },
  {
   "cell_type": "code",
   "execution_count": 22,
   "id": "c1a881c9-4455-4d58-bc48-8bcfecc4f3f3",
   "metadata": {},
   "outputs": [
    {
     "name": "stdout",
     "output_type": "stream",
     "text": [
      "<class 'pandas.core.frame.DataFrame'>\n",
      "RangeIndex: 2400000 entries, 0 to 2399999\n",
      "Columns: 399 entries, 기준년월 to 변동률_RVCA평잔\n",
      "dtypes: float64(12), int64(379), object(8)\n",
      "memory usage: 7.1+ GB\n"
     ]
    }
   ],
   "source": [
    "merged_df.info()"
   ]
  },
  {
   "cell_type": "code",
   "execution_count": 24,
   "id": "bd9d4a15-111b-4d7a-9635-5407b7ec5511",
   "metadata": {},
   "outputs": [],
   "source": [
    "merged_df.to_csv('0_1_1.csv', index=False, encoding='utf-8-sig')"
   ]
  },
  {
   "cell_type": "markdown",
   "id": "bf9709ce-0468-45bc-a820-e9562062ca9c",
   "metadata": {},
   "source": [
    "# 날짜 컬럼 및 이상치 처리"
   ]
  },
  {
   "cell_type": "code",
   "execution_count": 26,
   "id": "5151d21f-a05b-4bc3-8be7-f512e52e32a7",
   "metadata": {},
   "outputs": [],
   "source": [
    "# 날짜 컬럼 리스트 (입회일자 및 최종이용일자 관련)\n",
    "date_cols = ['기준년월', '입회일자_신용', '최종유효년월_신용_이용', '최종이용일자_기본', '최종이용일자_신판', '최종이용일자_CA', '최종이용일자_카드론', '최종이용일자_체크', '최종이용일자_일시불', '최종이용일자_할부']\n",
    "\n",
    "# merged_df에 존재하는 컬럼만 선택\n",
    "existing_date_cols = [col for col in date_cols if col in merged_df.columns]\n",
    "\n",
    "# 각 컬럼에 대해 이상치 처리 및 라벨 인코딩 수행\n",
    "for col in existing_date_cols:\n",
    "    # 문자열로 변환하고 이상치 '10101'을 '0'으로 대체\n",
    "    merged_df[col] = merged_df[col].astype(str).replace('10101', '0')\n",
    "    le = LabelEncoder()\n",
    "    merged_df[col] = le.fit_transform(merged_df[col])"
   ]
  },
  {
   "cell_type": "code",
   "execution_count": 27,
   "id": "a1dbec9b-738f-49d4-a3d4-54b9d321110b",
   "metadata": {},
   "outputs": [],
   "source": [
    "from sklearn.preprocessing import LabelEncoder\n",
    "\n",
    "label_date_cols = ['연체일자_B0M', '최종카드론_대출일자', 'RV신청일자', '최종유효년월_신용_이용', '최종유효년월_신용_이용가능', '최종카드발급일자']\n",
    "\n",
    "# 각 컬럼에 대해 결측치 → '0' 대체 후 라벨 인코딩 (존재할 경우만)\n",
    "for col in label_date_cols:\n",
    "    if col in merged_df.columns:\n",
    "        merged_df[col] = merged_df[col].fillna(0).astype(int).astype(str)\n",
    "        le = LabelEncoder()\n",
    "        merged_df[col] = le.fit_transform(merged_df[col])"
   ]
  },
  {
   "cell_type": "code",
   "execution_count": 28,
   "id": "cfc8bb35-6b44-46a1-bf1f-4fe7edad01d7",
   "metadata": {},
   "outputs": [],
   "source": [
    "merged_df.loc[merged_df['최초카드론이용경과월'] == 999, '최초카드론이용경과월'] = 0"
   ]
  },
  {
   "cell_type": "code",
   "execution_count": 29,
   "id": "a15fbe0b-cde6-44fb-aa70-27de490e7e91",
   "metadata": {},
   "outputs": [
    {
     "name": "stdout",
     "output_type": "stream",
     "text": [
      "<class 'pandas.core.frame.DataFrame'>\n",
      "RangeIndex: 2400000 entries, 0 to 2399999\n",
      "Columns: 399 entries, 기준년월 to 변동률_RVCA평잔\n",
      "dtypes: float64(12), int32(10), int64(369), object(8)\n",
      "memory usage: 7.0+ GB\n"
     ]
    }
   ],
   "source": [
    "merged_df.info()"
   ]
  },
  {
   "cell_type": "code",
   "execution_count": 30,
   "id": "ca51275b-0f87-40c9-a547-8b479979ada1",
   "metadata": {},
   "outputs": [],
   "source": [
    "merged_df.to_csv('0_1_2.csv', index=False, encoding='utf-8-sig')"
   ]
  },
  {
   "cell_type": "markdown",
   "id": "93dcf056-2bdd-443a-9379-e12792405758",
   "metadata": {},
   "source": [
    "# 인코딩 작업"
   ]
  },
  {
   "cell_type": "code",
   "execution_count": 1,
   "id": "b522af4d-0ebb-4662-8299-852b4f35cd7c",
   "metadata": {},
   "outputs": [],
   "source": [
    "import pandas as pd\n",
    "merged_df = pd.read_csv('0_1_2.csv', encoding='utf-8-sig')"
   ]
  },
  {
   "cell_type": "code",
   "execution_count": 2,
   "id": "61261281-eea7-41f6-8448-4854a6ca0419",
   "metadata": {},
   "outputs": [
    {
     "name": "stdout",
     "output_type": "stream",
     "text": [
      "값이 하나뿐인 범주형 변수:\n",
      "[]\n"
     ]
    }
   ],
   "source": [
    "# 범주형 변수 추출\n",
    "categorical_columns = merged_df.select_dtypes(include=['object', 'category']).columns\n",
    "\n",
    "# 유일한 값이 하나만 존재하는 컬럼 찾기\n",
    "single_value_columns = [col for col in categorical_columns if merged_df[col].nunique(dropna=False) == 1]\n",
    "\n",
    "print(\"값이 하나뿐인 범주형 변수:\")\n",
    "print(single_value_columns)"
   ]
  },
  {
   "cell_type": "code",
   "execution_count": 3,
   "id": "196f2b95-8d26-4cb7-99cd-e41ce4933939",
   "metadata": {},
   "outputs": [],
   "source": [
    "# 변환 대상 컬럼 리스트\n",
    "category_cols = ['최종카드론_금융상환방식코드',\n",
    "    '남녀구분코드', '회원여부_이용가능', '회원여부_이용가능_CA',\n",
    "    '회원여부_이용가능_카드론', '소지여부_신용', '회원여부_연체',\n",
    "    '이용거절여부_카드론', '동의여부_한도증액안내', '수신거부여부_TM',\n",
    "    '수신거부여부_DM', '수신거부여부_메일', '수신거부여부_SMS',\n",
    "    '마케팅동의여부', '보유여부_해외겸용_본인', '이용가능여부_해외겸용_본인',\n",
    "    '이용여부_3M_해외겸용_본인', '보유여부_해외겸용_신용_본인',\n",
    "    '이용가능여부_해외겸용_신용_본인', '이용여부_3M_해외겸용_신용_본인',\n",
    "    '일시불ONLY전환가능여부', '연체감액여부_R3M', '시장단기연체여부_R6M',\n",
    "    '시장단기연체여부_R3M', '청구서발송여부_B0', '청구서발송여부_R3M',\n",
    "    '청구서발송여부_R6M'\n",
    "]\n",
    "# 실제 존재하는 컬럼만 선택\n",
    "existing_cols = [col for col in category_cols if col in merged_df.columns]\n",
    "# 선택된 컬럼들을 category 타입으로 변환\n",
    "merged_df[existing_cols] = merged_df[existing_cols].astype('category')"
   ]
  },
  {
   "cell_type": "code",
   "execution_count": 4,
   "id": "9783d4e5-238b-412a-9cd0-4b3598ed6ef4",
   "metadata": {},
   "outputs": [],
   "source": [
    "merged_df = pd.get_dummies(merged_df, columns=existing_cols, prefix=existing_cols)"
   ]
  },
  {
   "cell_type": "code",
   "execution_count": 5,
   "id": "ad0c03f7-d468-4ab9-ae38-72e453a7ded8",
   "metadata": {},
   "outputs": [
    {
     "name": "stdout",
     "output_type": "stream",
     "text": [
      "<class 'pandas.core.frame.DataFrame'>\n",
      "RangeIndex: 2400000 entries, 0 to 2399999\n",
      "Columns: 411 entries, 기준년월 to 청구서발송여부_R6M_1\n",
      "dtypes: bool(24), float64(12), int64(367), object(8)\n",
      "memory usage: 7.0+ GB\n"
     ]
    }
   ],
   "source": [
    "merged_df.info()"
   ]
  },
  {
   "cell_type": "code",
   "execution_count": 6,
   "id": "12d78da6-c4a0-4315-bf16-99fcf7e33096",
   "metadata": {},
   "outputs": [],
   "source": [
    "merged_df.to_csv('0_1_3.csv', index=False, encoding='utf-8-sig')"
   ]
  },
  {
   "cell_type": "code",
   "execution_count": 15,
   "id": "04f5d826-b04f-41cc-b639-3b945f0e0552",
   "metadata": {},
   "outputs": [
    {
     "name": "stdout",
     "output_type": "stream",
     "text": [
      "(2400000, 432)\n"
     ]
    }
   ],
   "source": [
    "from sklearn.preprocessing import LabelEncoder\n",
    "# 인코딩 대상 컬럼\n",
    "one_hot_cols = ['OS구분코드','직장시도명','_2순위신용체크구분']\n",
    "label_encode_cols = ['이용금액대', '인입횟수_ARS_R6M','방문횟수_앱_R6M']\n",
    "\n",
    "# 1. 원핫 인코딩\n",
    "merged_df = pd.get_dummies(merged_df, columns=one_hot_cols, prefix=one_hot_cols)\n",
    "\n",
    "# 2. 라벨 인코딩 (올인원 스타일)\n",
    "le = LabelEncoder()\n",
    "for col in label_encode_cols:\n",
    "    merged_df[col] = le.fit_transform(merged_df[col].astype(str))\n",
    "\n",
    "# 결과 확인\n",
    "print(merged_df.shape)"
   ]
  },
  {
   "cell_type": "code",
   "execution_count": 16,
   "id": "e8344a8b-f85f-49a4-8f79-91c9584387dd",
   "metadata": {},
   "outputs": [
    {
     "name": "stdout",
     "output_type": "stream",
     "text": [
      "<class 'pandas.core.frame.DataFrame'>\n",
      "RangeIndex: 2400000 entries, 0 to 2399999\n",
      "Columns: 432 entries, 기준년월 to _2순위신용체크구분_체크\n",
      "dtypes: bool(48), float64(12), int32(3), int64(367), object(2)\n",
      "memory usage: 6.9+ GB\n"
     ]
    }
   ],
   "source": [
    "merged_df.info()"
   ]
  },
  {
   "cell_type": "code",
   "execution_count": 17,
   "id": "c96f199d-dace-4efc-9782-b4d8690630c9",
   "metadata": {},
   "outputs": [],
   "source": [
    "merged_df.to_csv('0_1_4.csv', index=False, encoding='utf-8-sig')"
   ]
  },
  {
   "cell_type": "code",
   "execution_count": null,
   "id": "9bf5cdb3-2795-46e2-b4a4-78aa4b08857c",
   "metadata": {},
   "outputs": [],
   "source": []
  },
  {
   "cell_type": "code",
   "execution_count": null,
   "id": "26bbd4c5-c3a1-4166-bdba-eda7b154349c",
   "metadata": {},
   "outputs": [],
   "source": []
  }
 ],
 "metadata": {
  "kernelspec": {
   "display_name": "Python [conda env:base] *",
   "language": "python",
   "name": "conda-base-py"
  },
  "language_info": {
   "codemirror_mode": {
    "name": "ipython",
    "version": 3
   },
   "file_extension": ".py",
   "mimetype": "text/x-python",
   "name": "python",
   "nbconvert_exporter": "python",
   "pygments_lexer": "ipython3",
   "version": "3.12.7"
  }
 },
 "nbformat": 4,
 "nbformat_minor": 5
}
