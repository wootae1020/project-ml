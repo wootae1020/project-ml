{
  "cells": [
    {
      "cell_type": "markdown",
      "id": "992e021f-7d93-4f63-9ecf-ba72d309c380",
      "metadata": {
        "id": "992e021f-7d93-4f63-9ecf-ba72d309c380"
      },
      "source": [
        "# iM 뱅크 데이터 전처리"
      ]
    },
    {
      "cell_type": "markdown",
      "source": [
        "# 불러오기"
      ],
      "metadata": {
        "id": "U0pV-6cnOxja"
      },
      "id": "U0pV-6cnOxja"
    },
    {
      "cell_type": "code",
      "execution_count": null,
      "id": "91af4e49-6ca1-44bf-baf1-528f85442d87",
      "metadata": {
        "id": "91af4e49-6ca1-44bf-baf1-528f85442d87"
      },
      "outputs": [],
      "source": [
        "import numpy as np\n",
        "import pandas as pd\n",
        "import seaborn as sns"
      ]
    },
    {
      "cell_type": "code",
      "source": [
        "from google.colab import drive\n",
        "drive.mount('/content/drive')"
      ],
      "metadata": {
        "colab": {
          "base_uri": "https://localhost:8080/"
        },
        "id": "Q6HiYgeoLt4s",
        "outputId": "b340ae68-b9a7-4d44-9f5a-ebccb7951fd6"
      },
      "id": "Q6HiYgeoLt4s",
      "execution_count": null,
      "outputs": [
        {
          "output_type": "stream",
          "name": "stdout",
          "text": [
            "Mounted at /content/drive\n"
          ]
        }
      ]
    },
    {
      "cell_type": "code",
      "execution_count": null,
      "id": "db56f228-2912-4169-a73b-56027ac53f7f",
      "metadata": {
        "id": "db56f228-2912-4169-a73b-56027ac53f7f"
      },
      "outputs": [],
      "source": [
        "df=pd.read_csv('/content/drive/MyDrive/iMBANK_CARD_DATA_2021(K-DigitalTraining).csv', encoding='cp949')\n",
        "df1=pd.read_csv('/content/drive/MyDrive/iMBANK_CARD_DATA_2022(K-DigitalTraining).csv', encoding='cp949')\n",
        "df2=pd.read_csv('/content/drive/MyDrive/iMBANK_CARD_DATA_2023(K-DigitalTraining).csv', encoding='cp949')\n",
        "df3=pd.read_csv('/content/drive/MyDrive/iMBANK_CUSTOMER_DATA_2021(K-DigitalTraining).csv', encoding='cp949')\n",
        "df4=pd.read_csv('/content/drive/MyDrive/iMBANK_CUSTOMER_DATA_2022(K-DigitalTraining).csv', encoding='cp949')\n",
        "df5=pd.read_csv('/content/drive/MyDrive/iMBANK_CUSTOMER_DATA_2023(K-DigitalTraining).csv', encoding='cp949')"
      ]
    },
    {
      "cell_type": "code",
      "source": [
        "df.shape"
      ],
      "metadata": {
        "colab": {
          "base_uri": "https://localhost:8080/"
        },
        "id": "dc4YpGV1L3qH",
        "outputId": "54f9aa14-4e11-465d-c916-9eb08d70c827"
      },
      "id": "dc4YpGV1L3qH",
      "execution_count": null,
      "outputs": [
        {
          "output_type": "execute_result",
          "data": {
            "text/plain": [
              "(60672642, 7)"
            ]
          },
          "metadata": {},
          "execution_count": 18
        }
      ]
    },
    {
      "cell_type": "code",
      "source": [
        "df1.shape"
      ],
      "metadata": {
        "colab": {
          "base_uri": "https://localhost:8080/"
        },
        "id": "0mD4CGA0K-Sm",
        "outputId": "58dc5f27-a3be-43b6-800f-6e84271b2984"
      },
      "id": "0mD4CGA0K-Sm",
      "execution_count": null,
      "outputs": [
        {
          "output_type": "execute_result",
          "data": {
            "text/plain": [
              "(62945850, 7)"
            ]
          },
          "metadata": {},
          "execution_count": 19
        }
      ]
    },
    {
      "cell_type": "code",
      "source": [
        "df2.shape"
      ],
      "metadata": {
        "colab": {
          "base_uri": "https://localhost:8080/"
        },
        "id": "owiu859PL463",
        "outputId": "f9c747d8-193a-414c-d310-097ded54a846"
      },
      "id": "owiu859PL463",
      "execution_count": null,
      "outputs": [
        {
          "output_type": "execute_result",
          "data": {
            "text/plain": [
              "(64829377, 7)"
            ]
          },
          "metadata": {},
          "execution_count": 20
        }
      ]
    },
    {
      "cell_type": "code",
      "source": [
        "df3.shape"
      ],
      "metadata": {
        "colab": {
          "base_uri": "https://localhost:8080/"
        },
        "id": "3axC4rPkMAt5",
        "outputId": "c2376dc4-a339-456c-e722-ffd641fa9aa1"
      },
      "id": "3axC4rPkMAt5",
      "execution_count": null,
      "outputs": [
        {
          "output_type": "execute_result",
          "data": {
            "text/plain": [
              "(20835992, 13)"
            ]
          },
          "metadata": {},
          "execution_count": 21
        }
      ]
    },
    {
      "cell_type": "code",
      "source": [
        "df4.shape"
      ],
      "metadata": {
        "colab": {
          "base_uri": "https://localhost:8080/"
        },
        "id": "w8lKXQ2FMAnZ",
        "outputId": "0fff008d-668b-4052-b0cf-a73ffebf923a"
      },
      "id": "w8lKXQ2FMAnZ",
      "execution_count": null,
      "outputs": [
        {
          "output_type": "execute_result",
          "data": {
            "text/plain": [
              "(21578686, 13)"
            ]
          },
          "metadata": {},
          "execution_count": 22
        }
      ]
    },
    {
      "cell_type": "code",
      "source": [
        "df5.shape"
      ],
      "metadata": {
        "colab": {
          "base_uri": "https://localhost:8080/"
        },
        "id": "3KhzXsO_MAgj",
        "outputId": "ada60cf0-d981-446f-9b3e-3265cbf2477b"
      },
      "id": "3KhzXsO_MAgj",
      "execution_count": null,
      "outputs": [
        {
          "output_type": "execute_result",
          "data": {
            "text/plain": [
              "(22739682, 13)"
            ]
          },
          "metadata": {},
          "execution_count": 23
        }
      ]
    },
    {
      "cell_type": "code",
      "source": [
        "df4.head(5)"
      ],
      "metadata": {
        "colab": {
          "base_uri": "https://localhost:8080/",
          "height": 206
        },
        "id": "WDYV9xqiLDMZ",
        "outputId": "dcc70e01-d4aa-4400-e78d-85de49461b28"
      },
      "id": "WDYV9xqiLDMZ",
      "execution_count": null,
      "outputs": [
        {
          "output_type": "execute_result",
          "data": {
            "text/plain": [
              "     기준년월        고객ID    연령대 성별  고객등급  자택_시도 자택_시군구  수신_요구불예금  수신_거치식예금  \\\n",
              "0  202212  9999998161  60대이상  여  일반등급  대구광역시    달서구    600000         0   \n",
              "1  202212  9999997589  60대이상  남  일반등급   경상북도    경주시         0         0   \n",
              "2  202212  9999991579  60대이상  여  일반등급   경상북도    성주군         0  33000000   \n",
              "3  202212  9999989448  60대이상  남  일반등급  대구광역시    달서구    400000         0   \n",
              "4  202212  9999988325  60대이상  남  일반등급  대구광역시    달서구   2700000         0   \n",
              "\n",
              "   수신_적립식예금  수신_펀드  수신_외화예금  대출금액  \n",
              "0         0      0        0     0  \n",
              "1         0      0        0     0  \n",
              "2         0      0        0     0  \n",
              "3         0      0        0     0  \n",
              "4         0      0        0     0  "
            ],
            "text/html": [
              "\n",
              "  <div id=\"df-547c135c-8660-4c88-861b-939949635798\" class=\"colab-df-container\">\n",
              "    <div>\n",
              "<style scoped>\n",
              "    .dataframe tbody tr th:only-of-type {\n",
              "        vertical-align: middle;\n",
              "    }\n",
              "\n",
              "    .dataframe tbody tr th {\n",
              "        vertical-align: top;\n",
              "    }\n",
              "\n",
              "    .dataframe thead th {\n",
              "        text-align: right;\n",
              "    }\n",
              "</style>\n",
              "<table border=\"1\" class=\"dataframe\">\n",
              "  <thead>\n",
              "    <tr style=\"text-align: right;\">\n",
              "      <th></th>\n",
              "      <th>기준년월</th>\n",
              "      <th>고객ID</th>\n",
              "      <th>연령대</th>\n",
              "      <th>성별</th>\n",
              "      <th>고객등급</th>\n",
              "      <th>자택_시도</th>\n",
              "      <th>자택_시군구</th>\n",
              "      <th>수신_요구불예금</th>\n",
              "      <th>수신_거치식예금</th>\n",
              "      <th>수신_적립식예금</th>\n",
              "      <th>수신_펀드</th>\n",
              "      <th>수신_외화예금</th>\n",
              "      <th>대출금액</th>\n",
              "    </tr>\n",
              "  </thead>\n",
              "  <tbody>\n",
              "    <tr>\n",
              "      <th>0</th>\n",
              "      <td>202212</td>\n",
              "      <td>9999998161</td>\n",
              "      <td>60대이상</td>\n",
              "      <td>여</td>\n",
              "      <td>일반등급</td>\n",
              "      <td>대구광역시</td>\n",
              "      <td>달서구</td>\n",
              "      <td>600000</td>\n",
              "      <td>0</td>\n",
              "      <td>0</td>\n",
              "      <td>0</td>\n",
              "      <td>0</td>\n",
              "      <td>0</td>\n",
              "    </tr>\n",
              "    <tr>\n",
              "      <th>1</th>\n",
              "      <td>202212</td>\n",
              "      <td>9999997589</td>\n",
              "      <td>60대이상</td>\n",
              "      <td>남</td>\n",
              "      <td>일반등급</td>\n",
              "      <td>경상북도</td>\n",
              "      <td>경주시</td>\n",
              "      <td>0</td>\n",
              "      <td>0</td>\n",
              "      <td>0</td>\n",
              "      <td>0</td>\n",
              "      <td>0</td>\n",
              "      <td>0</td>\n",
              "    </tr>\n",
              "    <tr>\n",
              "      <th>2</th>\n",
              "      <td>202212</td>\n",
              "      <td>9999991579</td>\n",
              "      <td>60대이상</td>\n",
              "      <td>여</td>\n",
              "      <td>일반등급</td>\n",
              "      <td>경상북도</td>\n",
              "      <td>성주군</td>\n",
              "      <td>0</td>\n",
              "      <td>33000000</td>\n",
              "      <td>0</td>\n",
              "      <td>0</td>\n",
              "      <td>0</td>\n",
              "      <td>0</td>\n",
              "    </tr>\n",
              "    <tr>\n",
              "      <th>3</th>\n",
              "      <td>202212</td>\n",
              "      <td>9999989448</td>\n",
              "      <td>60대이상</td>\n",
              "      <td>남</td>\n",
              "      <td>일반등급</td>\n",
              "      <td>대구광역시</td>\n",
              "      <td>달서구</td>\n",
              "      <td>400000</td>\n",
              "      <td>0</td>\n",
              "      <td>0</td>\n",
              "      <td>0</td>\n",
              "      <td>0</td>\n",
              "      <td>0</td>\n",
              "    </tr>\n",
              "    <tr>\n",
              "      <th>4</th>\n",
              "      <td>202212</td>\n",
              "      <td>9999988325</td>\n",
              "      <td>60대이상</td>\n",
              "      <td>남</td>\n",
              "      <td>일반등급</td>\n",
              "      <td>대구광역시</td>\n",
              "      <td>달서구</td>\n",
              "      <td>2700000</td>\n",
              "      <td>0</td>\n",
              "      <td>0</td>\n",
              "      <td>0</td>\n",
              "      <td>0</td>\n",
              "      <td>0</td>\n",
              "    </tr>\n",
              "  </tbody>\n",
              "</table>\n",
              "</div>\n",
              "    <div class=\"colab-df-buttons\">\n",
              "\n",
              "  <div class=\"colab-df-container\">\n",
              "    <button class=\"colab-df-convert\" onclick=\"convertToInteractive('df-547c135c-8660-4c88-861b-939949635798')\"\n",
              "            title=\"Convert this dataframe to an interactive table.\"\n",
              "            style=\"display:none;\">\n",
              "\n",
              "  <svg xmlns=\"http://www.w3.org/2000/svg\" height=\"24px\" viewBox=\"0 -960 960 960\">\n",
              "    <path d=\"M120-120v-720h720v720H120Zm60-500h600v-160H180v160Zm220 220h160v-160H400v160Zm0 220h160v-160H400v160ZM180-400h160v-160H180v160Zm440 0h160v-160H620v160ZM180-180h160v-160H180v160Zm440 0h160v-160H620v160Z\"/>\n",
              "  </svg>\n",
              "    </button>\n",
              "\n",
              "  <style>\n",
              "    .colab-df-container {\n",
              "      display:flex;\n",
              "      gap: 12px;\n",
              "    }\n",
              "\n",
              "    .colab-df-convert {\n",
              "      background-color: #E8F0FE;\n",
              "      border: none;\n",
              "      border-radius: 50%;\n",
              "      cursor: pointer;\n",
              "      display: none;\n",
              "      fill: #1967D2;\n",
              "      height: 32px;\n",
              "      padding: 0 0 0 0;\n",
              "      width: 32px;\n",
              "    }\n",
              "\n",
              "    .colab-df-convert:hover {\n",
              "      background-color: #E2EBFA;\n",
              "      box-shadow: 0px 1px 2px rgba(60, 64, 67, 0.3), 0px 1px 3px 1px rgba(60, 64, 67, 0.15);\n",
              "      fill: #174EA6;\n",
              "    }\n",
              "\n",
              "    .colab-df-buttons div {\n",
              "      margin-bottom: 4px;\n",
              "    }\n",
              "\n",
              "    [theme=dark] .colab-df-convert {\n",
              "      background-color: #3B4455;\n",
              "      fill: #D2E3FC;\n",
              "    }\n",
              "\n",
              "    [theme=dark] .colab-df-convert:hover {\n",
              "      background-color: #434B5C;\n",
              "      box-shadow: 0px 1px 3px 1px rgba(0, 0, 0, 0.15);\n",
              "      filter: drop-shadow(0px 1px 2px rgba(0, 0, 0, 0.3));\n",
              "      fill: #FFFFFF;\n",
              "    }\n",
              "  </style>\n",
              "\n",
              "    <script>\n",
              "      const buttonEl =\n",
              "        document.querySelector('#df-547c135c-8660-4c88-861b-939949635798 button.colab-df-convert');\n",
              "      buttonEl.style.display =\n",
              "        google.colab.kernel.accessAllowed ? 'block' : 'none';\n",
              "\n",
              "      async function convertToInteractive(key) {\n",
              "        const element = document.querySelector('#df-547c135c-8660-4c88-861b-939949635798');\n",
              "        const dataTable =\n",
              "          await google.colab.kernel.invokeFunction('convertToInteractive',\n",
              "                                                    [key], {});\n",
              "        if (!dataTable) return;\n",
              "\n",
              "        const docLinkHtml = 'Like what you see? Visit the ' +\n",
              "          '<a target=\"_blank\" href=https://colab.research.google.com/notebooks/data_table.ipynb>data table notebook</a>'\n",
              "          + ' to learn more about interactive tables.';\n",
              "        element.innerHTML = '';\n",
              "        dataTable['output_type'] = 'display_data';\n",
              "        await google.colab.output.renderOutput(dataTable, element);\n",
              "        const docLink = document.createElement('div');\n",
              "        docLink.innerHTML = docLinkHtml;\n",
              "        element.appendChild(docLink);\n",
              "      }\n",
              "    </script>\n",
              "  </div>\n",
              "\n",
              "\n",
              "<div id=\"df-58954b67-75b9-4b9f-b7aa-055a2ea634dc\">\n",
              "  <button class=\"colab-df-quickchart\" onclick=\"quickchart('df-58954b67-75b9-4b9f-b7aa-055a2ea634dc')\"\n",
              "            title=\"Suggest charts\"\n",
              "            style=\"display:none;\">\n",
              "\n",
              "<svg xmlns=\"http://www.w3.org/2000/svg\" height=\"24px\"viewBox=\"0 0 24 24\"\n",
              "     width=\"24px\">\n",
              "    <g>\n",
              "        <path d=\"M19 3H5c-1.1 0-2 .9-2 2v14c0 1.1.9 2 2 2h14c1.1 0 2-.9 2-2V5c0-1.1-.9-2-2-2zM9 17H7v-7h2v7zm4 0h-2V7h2v10zm4 0h-2v-4h2v4z\"/>\n",
              "    </g>\n",
              "</svg>\n",
              "  </button>\n",
              "\n",
              "<style>\n",
              "  .colab-df-quickchart {\n",
              "      --bg-color: #E8F0FE;\n",
              "      --fill-color: #1967D2;\n",
              "      --hover-bg-color: #E2EBFA;\n",
              "      --hover-fill-color: #174EA6;\n",
              "      --disabled-fill-color: #AAA;\n",
              "      --disabled-bg-color: #DDD;\n",
              "  }\n",
              "\n",
              "  [theme=dark] .colab-df-quickchart {\n",
              "      --bg-color: #3B4455;\n",
              "      --fill-color: #D2E3FC;\n",
              "      --hover-bg-color: #434B5C;\n",
              "      --hover-fill-color: #FFFFFF;\n",
              "      --disabled-bg-color: #3B4455;\n",
              "      --disabled-fill-color: #666;\n",
              "  }\n",
              "\n",
              "  .colab-df-quickchart {\n",
              "    background-color: var(--bg-color);\n",
              "    border: none;\n",
              "    border-radius: 50%;\n",
              "    cursor: pointer;\n",
              "    display: none;\n",
              "    fill: var(--fill-color);\n",
              "    height: 32px;\n",
              "    padding: 0;\n",
              "    width: 32px;\n",
              "  }\n",
              "\n",
              "  .colab-df-quickchart:hover {\n",
              "    background-color: var(--hover-bg-color);\n",
              "    box-shadow: 0 1px 2px rgba(60, 64, 67, 0.3), 0 1px 3px 1px rgba(60, 64, 67, 0.15);\n",
              "    fill: var(--button-hover-fill-color);\n",
              "  }\n",
              "\n",
              "  .colab-df-quickchart-complete:disabled,\n",
              "  .colab-df-quickchart-complete:disabled:hover {\n",
              "    background-color: var(--disabled-bg-color);\n",
              "    fill: var(--disabled-fill-color);\n",
              "    box-shadow: none;\n",
              "  }\n",
              "\n",
              "  .colab-df-spinner {\n",
              "    border: 2px solid var(--fill-color);\n",
              "    border-color: transparent;\n",
              "    border-bottom-color: var(--fill-color);\n",
              "    animation:\n",
              "      spin 1s steps(1) infinite;\n",
              "  }\n",
              "\n",
              "  @keyframes spin {\n",
              "    0% {\n",
              "      border-color: transparent;\n",
              "      border-bottom-color: var(--fill-color);\n",
              "      border-left-color: var(--fill-color);\n",
              "    }\n",
              "    20% {\n",
              "      border-color: transparent;\n",
              "      border-left-color: var(--fill-color);\n",
              "      border-top-color: var(--fill-color);\n",
              "    }\n",
              "    30% {\n",
              "      border-color: transparent;\n",
              "      border-left-color: var(--fill-color);\n",
              "      border-top-color: var(--fill-color);\n",
              "      border-right-color: var(--fill-color);\n",
              "    }\n",
              "    40% {\n",
              "      border-color: transparent;\n",
              "      border-right-color: var(--fill-color);\n",
              "      border-top-color: var(--fill-color);\n",
              "    }\n",
              "    60% {\n",
              "      border-color: transparent;\n",
              "      border-right-color: var(--fill-color);\n",
              "    }\n",
              "    80% {\n",
              "      border-color: transparent;\n",
              "      border-right-color: var(--fill-color);\n",
              "      border-bottom-color: var(--fill-color);\n",
              "    }\n",
              "    90% {\n",
              "      border-color: transparent;\n",
              "      border-bottom-color: var(--fill-color);\n",
              "    }\n",
              "  }\n",
              "</style>\n",
              "\n",
              "  <script>\n",
              "    async function quickchart(key) {\n",
              "      const quickchartButtonEl =\n",
              "        document.querySelector('#' + key + ' button');\n",
              "      quickchartButtonEl.disabled = true;  // To prevent multiple clicks.\n",
              "      quickchartButtonEl.classList.add('colab-df-spinner');\n",
              "      try {\n",
              "        const charts = await google.colab.kernel.invokeFunction(\n",
              "            'suggestCharts', [key], {});\n",
              "      } catch (error) {\n",
              "        console.error('Error during call to suggestCharts:', error);\n",
              "      }\n",
              "      quickchartButtonEl.classList.remove('colab-df-spinner');\n",
              "      quickchartButtonEl.classList.add('colab-df-quickchart-complete');\n",
              "    }\n",
              "    (() => {\n",
              "      let quickchartButtonEl =\n",
              "        document.querySelector('#df-58954b67-75b9-4b9f-b7aa-055a2ea634dc button');\n",
              "      quickchartButtonEl.style.display =\n",
              "        google.colab.kernel.accessAllowed ? 'block' : 'none';\n",
              "    })();\n",
              "  </script>\n",
              "</div>\n",
              "\n",
              "    </div>\n",
              "  </div>\n"
            ],
            "application/vnd.google.colaboratory.intrinsic+json": {
              "type": "dataframe",
              "variable_name": "df4"
            }
          },
          "metadata": {},
          "execution_count": 14
        }
      ]
    },
    {
      "cell_type": "markdown",
      "source": [
        "# 병합"
      ],
      "metadata": {
        "id": "kqZzy-r2O2by"
      },
      "id": "kqZzy-r2O2by"
    },
    {
      "cell_type": "code",
      "source": [
        "import pandas as pd\n",
        "\n",
        "# 카드 데이터 병합\n",
        "card_df = pd.concat([df, df1, df2], ignore_index=True)\n",
        "card_df.columns = card_df.columns.str.strip()  # 혹시 모를 공백 제거\n",
        "\n",
        "# 고객 데이터 병합\n",
        "customer_df = pd.concat([df3, df4, df5], ignore_index=True)\n",
        "customer_df.columns = customer_df.columns.str.strip()  # 혹시 모를 공백 제거\n",
        "\n",
        "# 데이터 형태 확인\n",
        "print(\"✅ 카드 데이터 shape:\", card_df.shape)\n",
        "print(\"✅ 고객 데이터 shape:\", customer_df.shape)\n",
        "\n",
        "# 확인용 샘플 출력\n",
        "print(card_df.head(2))\n",
        "print(customer_df.head(2))\n"
      ],
      "metadata": {
        "colab": {
          "base_uri": "https://localhost:8080/"
        },
        "id": "W7EdxI1ZJiZp",
        "outputId": "4f72814a-449a-4960-ef78-aa78c67d4475"
      },
      "id": "W7EdxI1ZJiZp",
      "execution_count": null,
      "outputs": [
        {
          "output_type": "stream",
          "name": "stdout",
          "text": [
            "✅ 카드 데이터 shape: (188447869, 7)\n",
            "✅ 고객 데이터 shape: (65154360, 13)\n",
            "     거래년월        고객ID 가맹점업종명 가맹점_광역시도 가맹점_시군구  승인건수   승인금액\n",
            "0  202112  4080934272   일반한식     경상북도     경주시  5번이하  20000\n",
            "1  202112  4116127380   일반한식     경상북도     경주시  5번이하  20000\n",
            "     기준년월        고객ID    연령대 성별  고객등급  자택_시도 자택_시군구  수신_요구불예금  수신_거치식예금  \\\n",
            "0  202112  9999998161  60대이상  여  일반등급  대구광역시    달서구   1400000         0   \n",
            "1  202112  9999997589  60대이상  남  일반등급   경상북도    경주시         0  10000000   \n",
            "\n",
            "   수신_적립식예금  수신_펀드  수신_외화예금  대출금액  \n",
            "0         0      0        0     0  \n",
            "1    500000      0        0     0  \n"
          ]
        }
      ]
    },
    {
      "cell_type": "markdown",
      "source": [
        "# 결측치 확인"
      ],
      "metadata": {
        "id": "abZPxIGoO6qY"
      },
      "id": "abZPxIGoO6qY"
    },
    {
      "cell_type": "code",
      "source": [
        "# 컬럼별 결측값 비율(%) 출력\n",
        "missing_ratio = (card_df.isnull().sum() / len(card_df)) * 100\n",
        "missing_ratio = missing_ratio.sort_values(ascending=False)  # 결측 비율이 높은 순으로 정렬\n",
        "print(missing_ratio)"
      ],
      "metadata": {
        "colab": {
          "base_uri": "https://localhost:8080/"
        },
        "id": "5G8SPH30MUfG",
        "outputId": "8d3aab50-4eb5-4541-8aa1-630b8030dabd"
      },
      "id": "5G8SPH30MUfG",
      "execution_count": null,
      "outputs": [
        {
          "output_type": "stream",
          "name": "stdout",
          "text": [
            "가맹점_시군구     0.053092\n",
            "고객ID        0.000000\n",
            "거래년월        0.000000\n",
            "가맹점업종명      0.000000\n",
            "가맹점_광역시도    0.000000\n",
            "승인건수        0.000000\n",
            "승인금액        0.000000\n",
            "dtype: float64\n"
          ]
        }
      ]
    },
    {
      "cell_type": "code",
      "source": [
        "# 컬럼별 결측값 개수 출력\n",
        "missing_count = card_df.isnull().sum()\n",
        "missing_count = missing_count.sort_values(ascending=False)  # 결측치 많은 순으로 정렬\n",
        "print(missing_count)\n"
      ],
      "metadata": {
        "colab": {
          "base_uri": "https://localhost:8080/"
        },
        "id": "LGZUQsAHM-mb",
        "outputId": "552923dd-6521-4736-a6a6-0709f95f36f9"
      },
      "id": "LGZUQsAHM-mb",
      "execution_count": null,
      "outputs": [
        {
          "output_type": "stream",
          "name": "stdout",
          "text": [
            "가맹점_시군구     100050\n",
            "고객ID             0\n",
            "거래년월             0\n",
            "가맹점업종명           0\n",
            "가맹점_광역시도         0\n",
            "승인건수             0\n",
            "승인금액             0\n",
            "dtype: int64\n"
          ]
        }
      ]
    },
    {
      "cell_type": "code",
      "source": [
        "card_df['가맹점_시군구'].value_counts()"
      ],
      "metadata": {
        "colab": {
          "base_uri": "https://localhost:8080/",
          "height": 489
        },
        "id": "5saDbiHwNhOk",
        "outputId": "5956777b-764c-4c08-aa34-758cacdfd6ab"
      },
      "id": "5saDbiHwNhOk",
      "execution_count": null,
      "outputs": [
        {
          "output_type": "execute_result",
          "data": {
            "text/plain": [
              "가맹점_시군구\n",
              "중구      24723563\n",
              "달서구     23417130\n",
              "수성구     20434485\n",
              "북구      17720240\n",
              "동구      13849283\n",
              "          ...   \n",
              "동두천시         295\n",
              "화순군          293\n",
              "장성군          284\n",
              "함평군          271\n",
              "김제시          221\n",
              "Name: count, Length: 222, dtype: int64"
            ],
            "text/html": [
              "<div>\n",
              "<style scoped>\n",
              "    .dataframe tbody tr th:only-of-type {\n",
              "        vertical-align: middle;\n",
              "    }\n",
              "\n",
              "    .dataframe tbody tr th {\n",
              "        vertical-align: top;\n",
              "    }\n",
              "\n",
              "    .dataframe thead th {\n",
              "        text-align: right;\n",
              "    }\n",
              "</style>\n",
              "<table border=\"1\" class=\"dataframe\">\n",
              "  <thead>\n",
              "    <tr style=\"text-align: right;\">\n",
              "      <th></th>\n",
              "      <th>count</th>\n",
              "    </tr>\n",
              "    <tr>\n",
              "      <th>가맹점_시군구</th>\n",
              "      <th></th>\n",
              "    </tr>\n",
              "  </thead>\n",
              "  <tbody>\n",
              "    <tr>\n",
              "      <th>중구</th>\n",
              "      <td>24723563</td>\n",
              "    </tr>\n",
              "    <tr>\n",
              "      <th>달서구</th>\n",
              "      <td>23417130</td>\n",
              "    </tr>\n",
              "    <tr>\n",
              "      <th>수성구</th>\n",
              "      <td>20434485</td>\n",
              "    </tr>\n",
              "    <tr>\n",
              "      <th>북구</th>\n",
              "      <td>17720240</td>\n",
              "    </tr>\n",
              "    <tr>\n",
              "      <th>동구</th>\n",
              "      <td>13849283</td>\n",
              "    </tr>\n",
              "    <tr>\n",
              "      <th>...</th>\n",
              "      <td>...</td>\n",
              "    </tr>\n",
              "    <tr>\n",
              "      <th>동두천시</th>\n",
              "      <td>295</td>\n",
              "    </tr>\n",
              "    <tr>\n",
              "      <th>화순군</th>\n",
              "      <td>293</td>\n",
              "    </tr>\n",
              "    <tr>\n",
              "      <th>장성군</th>\n",
              "      <td>284</td>\n",
              "    </tr>\n",
              "    <tr>\n",
              "      <th>함평군</th>\n",
              "      <td>271</td>\n",
              "    </tr>\n",
              "    <tr>\n",
              "      <th>김제시</th>\n",
              "      <td>221</td>\n",
              "    </tr>\n",
              "  </tbody>\n",
              "</table>\n",
              "<p>222 rows × 1 columns</p>\n",
              "</div><br><label><b>dtype:</b> int64</label>"
            ]
          },
          "metadata": {},
          "execution_count": 28
        }
      ]
    },
    {
      "cell_type": "code",
      "source": [
        "# 가맹점_시군구가 NaN인 행 제거\n",
        "card_df = card_df.dropna(subset=['가맹점_시군구'])\n",
        "\n",
        "# 결과 확인\n",
        "print(\"✅ 결측 제거 후 shape:\", card_df.shape)\n",
        "print(\"📌 가맹점_시군구 결측 개수:\", card_df['가맹점_시군구'].isnull().sum())\n"
      ],
      "metadata": {
        "colab": {
          "base_uri": "https://localhost:8080/"
        },
        "id": "hVmXxuOkOtFY",
        "outputId": "6ed562c5-b0a2-4853-d218-368058ddc36f"
      },
      "id": "hVmXxuOkOtFY",
      "execution_count": null,
      "outputs": [
        {
          "output_type": "stream",
          "name": "stdout",
          "text": [
            "✅ 결측 제거 후 shape: (188347819, 7)\n",
            "📌 가맹점_시군구 결측 개수: 0\n"
          ]
        }
      ]
    },
    {
      "cell_type": "code",
      "source": [
        "# 컬럼별 결측값 개수 출력\n",
        "missing_count = customer_df.isnull().sum()\n",
        "missing_count = missing_count.sort_values(ascending=False)  # 결측치 많은 순으로 정렬\n",
        "print(missing_count)\n"
      ],
      "metadata": {
        "colab": {
          "base_uri": "https://localhost:8080/"
        },
        "id": "rGYWIsOQMjbe",
        "outputId": "e73d8953-e7e7-4143-dd07-96c3032ee5f7"
      },
      "id": "rGYWIsOQMjbe",
      "execution_count": null,
      "outputs": [
        {
          "output_type": "stream",
          "name": "stdout",
          "text": [
            "자택_시군구      65674\n",
            "고객ID            0\n",
            "연령대             0\n",
            "성별              0\n",
            "기준년월            0\n",
            "고객등급            0\n",
            "자택_시도           0\n",
            "수신_요구불예금        0\n",
            "수신_거치식예금        0\n",
            "수신_적립식예금        0\n",
            "수신_펀드           0\n",
            "수신_외화예금         0\n",
            "대출금액            0\n",
            "dtype: int64\n"
          ]
        }
      ]
    },
    {
      "cell_type": "code",
      "source": [
        "# 자택_시군구가 NaN인 행 제거\n",
        "customer_df = customer_df.dropna(subset=['자택_시군구'])\n",
        "\n",
        "# 결과 확인\n",
        "print(\"✅ 결측 제거 후 shape:\", customer_df.shape)\n",
        "print(\"📌 자택_시군구 결측 개수:\", customer_df['자택_시군구'].isnull().sum())\n"
      ],
      "metadata": {
        "colab": {
          "base_uri": "https://localhost:8080/"
        },
        "id": "M3yyifj7PIdo",
        "outputId": "90274d6d-c576-4178-9045-7972da91f1e1"
      },
      "id": "M3yyifj7PIdo",
      "execution_count": null,
      "outputs": [
        {
          "output_type": "stream",
          "name": "stdout",
          "text": [
            "✅ 결측 제거 후 shape: (65088686, 13)\n",
            "📌 자택_시군구 결측 개수: 0\n"
          ]
        }
      ]
    },
    {
      "cell_type": "markdown",
      "source": [
        "# 최종 병합"
      ],
      "metadata": {
        "id": "dW__JnnNQVk2"
      },
      "id": "dW__JnnNQVk2"
    },
    {
      "cell_type": "code",
      "source": [
        "# 최종 병합 (고객ID + 거래년월 == 기준년월)\n",
        "df_merged_all = pd.merge(card_df, customer_df, how='left',\n",
        "                       left_on=['고객ID', '거래년월'],\n",
        "                       right_on=['고객ID', '기준년월'])"
      ],
      "metadata": {
        "id": "DyDYScTwPIbQ"
      },
      "id": "DyDYScTwPIbQ",
      "execution_count": null,
      "outputs": []
    },
    {
      "cell_type": "code",
      "source": [
        "# 기준년월은 거래년월과 같으므로 제거\n",
        "df_merged_all.drop(columns=['기준년월'], inplace=True)\n"
      ],
      "metadata": {
        "id": "4l4EK7-fPIY4"
      },
      "id": "4l4EK7-fPIY4",
      "execution_count": null,
      "outputs": []
    },
    {
      "cell_type": "code",
      "execution_count": null,
      "id": "34258718-5e98-40cd-8f16-9a7a41309c8c",
      "metadata": {
        "colab": {
          "base_uri": "https://localhost:8080/"
        },
        "id": "34258718-5e98-40cd-8f16-9a7a41309c8c",
        "outputId": "59302be4-cb99-4694-f2b9-5999136646d3"
      },
      "outputs": [
        {
          "output_type": "execute_result",
          "data": {
            "text/plain": [
              "(188347819, 18)"
            ]
          },
          "metadata": {},
          "execution_count": 33
        }
      ],
      "source": [
        "df_merged_all.shape"
      ]
    },
    {
      "cell_type": "code",
      "source": [
        "# 컬럼별 결측값 개수 출력\n",
        "missing_count = df_merged_all.isnull().sum()\n",
        "missing_count = missing_count.sort_values(ascending=False)  # 결측치 많은 순으로 정렬\n",
        "print(missing_count)\n"
      ],
      "metadata": {
        "colab": {
          "base_uri": "https://localhost:8080/"
        },
        "id": "gLWfODFBTYxn",
        "outputId": "dd209985-a756-4681-8366-aaf4c0d04aef"
      },
      "id": "gLWfODFBTYxn",
      "execution_count": null,
      "outputs": [
        {
          "output_type": "stream",
          "name": "stdout",
          "text": [
            "고객등급        7861803\n",
            "성별          7861803\n",
            "수신_외화예금     7861803\n",
            "수신_펀드       7861803\n",
            "연령대         7861803\n",
            "수신_적립식예금    7861803\n",
            "수신_거치식예금    7861803\n",
            "수신_요구불예금    7861803\n",
            "자택_시군구      7861803\n",
            "자택_시도       7861803\n",
            "대출금액        7861803\n",
            "거래년월              0\n",
            "고객ID              0\n",
            "승인금액              0\n",
            "가맹점업종명            0\n",
            "가맹점_광역시도          0\n",
            "가맹점_시군구           0\n",
            "승인건수              0\n",
            "dtype: int64\n"
          ]
        }
      ]
    },
    {
      "cell_type": "code",
      "source": [
        "# 결측치가 있는 주요 컬럼 리스트 정의\n",
        "missing_cols = [\n",
        "    '고객등급', '성별', '연령대', '자택_시군구', '자택_시도',\n",
        "    '수신_요구불예금', '수신_거치식예금', '수신_적립식예금',\n",
        "    '수신_펀드', '수신_외화예금', '대출금액'\n",
        "]\n",
        "\n",
        "# 해당 컬럼들에 하나라도 NaN이 있는 행 제거\n",
        "df_merged_all = df_merged_all.dropna(subset=missing_cols)\n",
        "\n",
        "# 결과 확인\n",
        "print(\"✅ 결측 제거 후 shape:\", df_merged_all.shape)\n",
        "print(\"📌 남은 결측 개수 (확인용):\")\n",
        "print(df_merged_all[missing_cols].isnull().sum())\n"
      ],
      "metadata": {
        "colab": {
          "base_uri": "https://localhost:8080/"
        },
        "id": "a0X9YQ0VRur1",
        "outputId": "bf5ed20f-6494-4eb8-c24d-9904311577a9"
      },
      "id": "a0X9YQ0VRur1",
      "execution_count": null,
      "outputs": [
        {
          "output_type": "stream",
          "name": "stdout",
          "text": [
            "✅ 결측 제거 후 shape: (180486016, 18)\n",
            "📌 남은 결측 개수 (확인용):\n",
            "고객등급        0\n",
            "성별          0\n",
            "연령대         0\n",
            "자택_시군구      0\n",
            "자택_시도       0\n",
            "수신_요구불예금    0\n",
            "수신_거치식예금    0\n",
            "수신_적립식예금    0\n",
            "수신_펀드       0\n",
            "수신_외화예금     0\n",
            "대출금액        0\n",
            "dtype: int64\n"
          ]
        }
      ]
    },
    {
      "cell_type": "code",
      "source": [
        "df_merged_all.info()"
      ],
      "metadata": {
        "colab": {
          "base_uri": "https://localhost:8080/"
        },
        "id": "78La5qxYR85X",
        "outputId": "2805458b-2084-4858-a9fa-b9deafc3f19c"
      },
      "id": "78La5qxYR85X",
      "execution_count": null,
      "outputs": [
        {
          "output_type": "stream",
          "name": "stdout",
          "text": [
            "<class 'pandas.core.frame.DataFrame'>\n",
            "Index: 180486016 entries, 0 to 188347818\n",
            "Data columns (total 18 columns):\n",
            " #   Column    Dtype  \n",
            "---  ------    -----  \n",
            " 0   거래년월      int64  \n",
            " 1   고객ID      int64  \n",
            " 2   가맹점업종명    object \n",
            " 3   가맹점_광역시도  object \n",
            " 4   가맹점_시군구   object \n",
            " 5   승인건수      object \n",
            " 6   승인금액      int64  \n",
            " 7   연령대       object \n",
            " 8   성별        object \n",
            " 9   고객등급      object \n",
            " 10  자택_시도     object \n",
            " 11  자택_시군구    object \n",
            " 12  수신_요구불예금  float64\n",
            " 13  수신_거치식예금  float64\n",
            " 14  수신_적립식예금  float64\n",
            " 15  수신_펀드     float64\n",
            " 16  수신_외화예금   float64\n",
            " 17  대출금액      float64\n",
            "dtypes: float64(6), int64(3), object(9)\n",
            "memory usage: 25.5+ GB\n"
          ]
        }
      ]
    },
    {
      "cell_type": "code",
      "source": [
        "df_merged_all.to_csv('/content/drive/MyDrive/df_merged_all.csv', index=False)"
      ],
      "metadata": {
        "id": "J4eMWMpyOPsZ"
      },
      "id": "J4eMWMpyOPsZ",
      "execution_count": null,
      "outputs": []
    },
    {
      "cell_type": "code",
      "source": [],
      "metadata": {
        "id": "AZJ5RGkNzvpL"
      },
      "id": "AZJ5RGkNzvpL",
      "execution_count": null,
      "outputs": []
    },
    {
      "cell_type": "markdown",
      "source": [
        "# Load"
      ],
      "metadata": {
        "id": "YSvBbatrOzf1"
      },
      "id": "YSvBbatrOzf1"
    },
    {
      "cell_type": "code",
      "source": [
        "import numpy as np\n",
        "import pandas as pd\n",
        "import seaborn as sns"
      ],
      "metadata": {
        "id": "4_rKzYUeO_cN"
      },
      "id": "4_rKzYUeO_cN",
      "execution_count": 1,
      "outputs": []
    },
    {
      "cell_type": "code",
      "source": [
        "from google.colab import drive\n",
        "drive.mount('/content/drive')"
      ],
      "metadata": {
        "id": "0TJADfNRO_UN",
        "colab": {
          "base_uri": "https://localhost:8080/"
        },
        "outputId": "88fe2385-3c99-416a-af49-b02346f3925d"
      },
      "id": "0TJADfNRO_UN",
      "execution_count": 2,
      "outputs": [
        {
          "output_type": "stream",
          "name": "stdout",
          "text": [
            "Mounted at /content/drive\n"
          ]
        }
      ]
    },
    {
      "cell_type": "code",
      "source": [
        "df_merged_all=pd.read_csv('/content/drive/MyDrive/df_merged_all.csv', encoding='utf-8-sig')"
      ],
      "metadata": {
        "id": "E84I667kOz1m"
      },
      "id": "E84I667kOz1m",
      "execution_count": 3,
      "outputs": []
    },
    {
      "cell_type": "markdown",
      "source": [
        "# EDA"
      ],
      "metadata": {
        "id": "Z23J9FrwHddz"
      },
      "id": "Z23J9FrwHddz"
    },
    {
      "cell_type": "code",
      "source": [
        "df_merged_all.head(5)"
      ],
      "metadata": {
        "colab": {
          "base_uri": "https://localhost:8080/",
          "height": 310
        },
        "id": "M07WW_LEIpWN",
        "outputId": "776d3eb8-e441-4e9c-96bf-47dbd124783a"
      },
      "id": "M07WW_LEIpWN",
      "execution_count": null,
      "outputs": [
        {
          "output_type": "execute_result",
          "data": {
            "text/plain": [
              "     거래년월        고객ID 가맹점업종명 가맹점_광역시도 가맹점_시군구  승인건수   승인금액    연령대 성별  고객등급  \\\n",
              "0  202112  4080934272   일반한식     경상북도     경주시  5번이하  20000    20대  여  일반등급   \n",
              "1  202112  4116127380   일반한식     경상북도     경주시  5번이하  20000    20대  여  일반등급   \n",
              "2  202112  2914424833   일반한식     경상북도     경주시  5번이하  20000    20대  여  일반등급   \n",
              "3  202112  2950007638   일반한식     경상북도     경주시  5번이하  60000  10대미만  남  일반등급   \n",
              "4  202112  2931907302   일반한식     경상북도     경주시  5번이하  10000    20대  남  일반등급   \n",
              "\n",
              "   자택_시도 자택_시군구   수신_요구불예금  수신_거치식예금   수신_적립식예금  수신_펀드  수신_외화예금  대출금액  \n",
              "0   경상북도    경주시  2400000.0       0.0  3100000.0    0.0      0.0   0.0  \n",
              "1  울산광역시    울주군   200000.0       0.0        0.0    0.0      0.0   0.0  \n",
              "2   경상북도    경산시   100000.0       0.0        0.0    0.0      0.0   0.0  \n",
              "3   경상북도    경주시   100000.0       0.0        0.0    0.0      0.0   0.0  \n",
              "4   경상북도    경주시  4400000.0       0.0        0.0    0.0      0.0   0.0  "
            ],
            "text/html": [
              "\n",
              "  <div id=\"df-e0bcd48f-77ec-4279-b6e1-713726c0e8c1\" class=\"colab-df-container\">\n",
              "    <div>\n",
              "<style scoped>\n",
              "    .dataframe tbody tr th:only-of-type {\n",
              "        vertical-align: middle;\n",
              "    }\n",
              "\n",
              "    .dataframe tbody tr th {\n",
              "        vertical-align: top;\n",
              "    }\n",
              "\n",
              "    .dataframe thead th {\n",
              "        text-align: right;\n",
              "    }\n",
              "</style>\n",
              "<table border=\"1\" class=\"dataframe\">\n",
              "  <thead>\n",
              "    <tr style=\"text-align: right;\">\n",
              "      <th></th>\n",
              "      <th>거래년월</th>\n",
              "      <th>고객ID</th>\n",
              "      <th>가맹점업종명</th>\n",
              "      <th>가맹점_광역시도</th>\n",
              "      <th>가맹점_시군구</th>\n",
              "      <th>승인건수</th>\n",
              "      <th>승인금액</th>\n",
              "      <th>연령대</th>\n",
              "      <th>성별</th>\n",
              "      <th>고객등급</th>\n",
              "      <th>자택_시도</th>\n",
              "      <th>자택_시군구</th>\n",
              "      <th>수신_요구불예금</th>\n",
              "      <th>수신_거치식예금</th>\n",
              "      <th>수신_적립식예금</th>\n",
              "      <th>수신_펀드</th>\n",
              "      <th>수신_외화예금</th>\n",
              "      <th>대출금액</th>\n",
              "    </tr>\n",
              "  </thead>\n",
              "  <tbody>\n",
              "    <tr>\n",
              "      <th>0</th>\n",
              "      <td>202112</td>\n",
              "      <td>4080934272</td>\n",
              "      <td>일반한식</td>\n",
              "      <td>경상북도</td>\n",
              "      <td>경주시</td>\n",
              "      <td>5번이하</td>\n",
              "      <td>20000</td>\n",
              "      <td>20대</td>\n",
              "      <td>여</td>\n",
              "      <td>일반등급</td>\n",
              "      <td>경상북도</td>\n",
              "      <td>경주시</td>\n",
              "      <td>2400000.0</td>\n",
              "      <td>0.0</td>\n",
              "      <td>3100000.0</td>\n",
              "      <td>0.0</td>\n",
              "      <td>0.0</td>\n",
              "      <td>0.0</td>\n",
              "    </tr>\n",
              "    <tr>\n",
              "      <th>1</th>\n",
              "      <td>202112</td>\n",
              "      <td>4116127380</td>\n",
              "      <td>일반한식</td>\n",
              "      <td>경상북도</td>\n",
              "      <td>경주시</td>\n",
              "      <td>5번이하</td>\n",
              "      <td>20000</td>\n",
              "      <td>20대</td>\n",
              "      <td>여</td>\n",
              "      <td>일반등급</td>\n",
              "      <td>울산광역시</td>\n",
              "      <td>울주군</td>\n",
              "      <td>200000.0</td>\n",
              "      <td>0.0</td>\n",
              "      <td>0.0</td>\n",
              "      <td>0.0</td>\n",
              "      <td>0.0</td>\n",
              "      <td>0.0</td>\n",
              "    </tr>\n",
              "    <tr>\n",
              "      <th>2</th>\n",
              "      <td>202112</td>\n",
              "      <td>2914424833</td>\n",
              "      <td>일반한식</td>\n",
              "      <td>경상북도</td>\n",
              "      <td>경주시</td>\n",
              "      <td>5번이하</td>\n",
              "      <td>20000</td>\n",
              "      <td>20대</td>\n",
              "      <td>여</td>\n",
              "      <td>일반등급</td>\n",
              "      <td>경상북도</td>\n",
              "      <td>경산시</td>\n",
              "      <td>100000.0</td>\n",
              "      <td>0.0</td>\n",
              "      <td>0.0</td>\n",
              "      <td>0.0</td>\n",
              "      <td>0.0</td>\n",
              "      <td>0.0</td>\n",
              "    </tr>\n",
              "    <tr>\n",
              "      <th>3</th>\n",
              "      <td>202112</td>\n",
              "      <td>2950007638</td>\n",
              "      <td>일반한식</td>\n",
              "      <td>경상북도</td>\n",
              "      <td>경주시</td>\n",
              "      <td>5번이하</td>\n",
              "      <td>60000</td>\n",
              "      <td>10대미만</td>\n",
              "      <td>남</td>\n",
              "      <td>일반등급</td>\n",
              "      <td>경상북도</td>\n",
              "      <td>경주시</td>\n",
              "      <td>100000.0</td>\n",
              "      <td>0.0</td>\n",
              "      <td>0.0</td>\n",
              "      <td>0.0</td>\n",
              "      <td>0.0</td>\n",
              "      <td>0.0</td>\n",
              "    </tr>\n",
              "    <tr>\n",
              "      <th>4</th>\n",
              "      <td>202112</td>\n",
              "      <td>2931907302</td>\n",
              "      <td>일반한식</td>\n",
              "      <td>경상북도</td>\n",
              "      <td>경주시</td>\n",
              "      <td>5번이하</td>\n",
              "      <td>10000</td>\n",
              "      <td>20대</td>\n",
              "      <td>남</td>\n",
              "      <td>일반등급</td>\n",
              "      <td>경상북도</td>\n",
              "      <td>경주시</td>\n",
              "      <td>4400000.0</td>\n",
              "      <td>0.0</td>\n",
              "      <td>0.0</td>\n",
              "      <td>0.0</td>\n",
              "      <td>0.0</td>\n",
              "      <td>0.0</td>\n",
              "    </tr>\n",
              "  </tbody>\n",
              "</table>\n",
              "</div>\n",
              "    <div class=\"colab-df-buttons\">\n",
              "\n",
              "  <div class=\"colab-df-container\">\n",
              "    <button class=\"colab-df-convert\" onclick=\"convertToInteractive('df-e0bcd48f-77ec-4279-b6e1-713726c0e8c1')\"\n",
              "            title=\"Convert this dataframe to an interactive table.\"\n",
              "            style=\"display:none;\">\n",
              "\n",
              "  <svg xmlns=\"http://www.w3.org/2000/svg\" height=\"24px\" viewBox=\"0 -960 960 960\">\n",
              "    <path d=\"M120-120v-720h720v720H120Zm60-500h600v-160H180v160Zm220 220h160v-160H400v160Zm0 220h160v-160H400v160ZM180-400h160v-160H180v160Zm440 0h160v-160H620v160ZM180-180h160v-160H180v160Zm440 0h160v-160H620v160Z\"/>\n",
              "  </svg>\n",
              "    </button>\n",
              "\n",
              "  <style>\n",
              "    .colab-df-container {\n",
              "      display:flex;\n",
              "      gap: 12px;\n",
              "    }\n",
              "\n",
              "    .colab-df-convert {\n",
              "      background-color: #E8F0FE;\n",
              "      border: none;\n",
              "      border-radius: 50%;\n",
              "      cursor: pointer;\n",
              "      display: none;\n",
              "      fill: #1967D2;\n",
              "      height: 32px;\n",
              "      padding: 0 0 0 0;\n",
              "      width: 32px;\n",
              "    }\n",
              "\n",
              "    .colab-df-convert:hover {\n",
              "      background-color: #E2EBFA;\n",
              "      box-shadow: 0px 1px 2px rgba(60, 64, 67, 0.3), 0px 1px 3px 1px rgba(60, 64, 67, 0.15);\n",
              "      fill: #174EA6;\n",
              "    }\n",
              "\n",
              "    .colab-df-buttons div {\n",
              "      margin-bottom: 4px;\n",
              "    }\n",
              "\n",
              "    [theme=dark] .colab-df-convert {\n",
              "      background-color: #3B4455;\n",
              "      fill: #D2E3FC;\n",
              "    }\n",
              "\n",
              "    [theme=dark] .colab-df-convert:hover {\n",
              "      background-color: #434B5C;\n",
              "      box-shadow: 0px 1px 3px 1px rgba(0, 0, 0, 0.15);\n",
              "      filter: drop-shadow(0px 1px 2px rgba(0, 0, 0, 0.3));\n",
              "      fill: #FFFFFF;\n",
              "    }\n",
              "  </style>\n",
              "\n",
              "    <script>\n",
              "      const buttonEl =\n",
              "        document.querySelector('#df-e0bcd48f-77ec-4279-b6e1-713726c0e8c1 button.colab-df-convert');\n",
              "      buttonEl.style.display =\n",
              "        google.colab.kernel.accessAllowed ? 'block' : 'none';\n",
              "\n",
              "      async function convertToInteractive(key) {\n",
              "        const element = document.querySelector('#df-e0bcd48f-77ec-4279-b6e1-713726c0e8c1');\n",
              "        const dataTable =\n",
              "          await google.colab.kernel.invokeFunction('convertToInteractive',\n",
              "                                                    [key], {});\n",
              "        if (!dataTable) return;\n",
              "\n",
              "        const docLinkHtml = 'Like what you see? Visit the ' +\n",
              "          '<a target=\"_blank\" href=https://colab.research.google.com/notebooks/data_table.ipynb>data table notebook</a>'\n",
              "          + ' to learn more about interactive tables.';\n",
              "        element.innerHTML = '';\n",
              "        dataTable['output_type'] = 'display_data';\n",
              "        await google.colab.output.renderOutput(dataTable, element);\n",
              "        const docLink = document.createElement('div');\n",
              "        docLink.innerHTML = docLinkHtml;\n",
              "        element.appendChild(docLink);\n",
              "      }\n",
              "    </script>\n",
              "  </div>\n",
              "\n",
              "\n",
              "<div id=\"df-4e5664f3-c999-4795-8abf-ff5fdc97fd91\">\n",
              "  <button class=\"colab-df-quickchart\" onclick=\"quickchart('df-4e5664f3-c999-4795-8abf-ff5fdc97fd91')\"\n",
              "            title=\"Suggest charts\"\n",
              "            style=\"display:none;\">\n",
              "\n",
              "<svg xmlns=\"http://www.w3.org/2000/svg\" height=\"24px\"viewBox=\"0 0 24 24\"\n",
              "     width=\"24px\">\n",
              "    <g>\n",
              "        <path d=\"M19 3H5c-1.1 0-2 .9-2 2v14c0 1.1.9 2 2 2h14c1.1 0 2-.9 2-2V5c0-1.1-.9-2-2-2zM9 17H7v-7h2v7zm4 0h-2V7h2v10zm4 0h-2v-4h2v4z\"/>\n",
              "    </g>\n",
              "</svg>\n",
              "  </button>\n",
              "\n",
              "<style>\n",
              "  .colab-df-quickchart {\n",
              "      --bg-color: #E8F0FE;\n",
              "      --fill-color: #1967D2;\n",
              "      --hover-bg-color: #E2EBFA;\n",
              "      --hover-fill-color: #174EA6;\n",
              "      --disabled-fill-color: #AAA;\n",
              "      --disabled-bg-color: #DDD;\n",
              "  }\n",
              "\n",
              "  [theme=dark] .colab-df-quickchart {\n",
              "      --bg-color: #3B4455;\n",
              "      --fill-color: #D2E3FC;\n",
              "      --hover-bg-color: #434B5C;\n",
              "      --hover-fill-color: #FFFFFF;\n",
              "      --disabled-bg-color: #3B4455;\n",
              "      --disabled-fill-color: #666;\n",
              "  }\n",
              "\n",
              "  .colab-df-quickchart {\n",
              "    background-color: var(--bg-color);\n",
              "    border: none;\n",
              "    border-radius: 50%;\n",
              "    cursor: pointer;\n",
              "    display: none;\n",
              "    fill: var(--fill-color);\n",
              "    height: 32px;\n",
              "    padding: 0;\n",
              "    width: 32px;\n",
              "  }\n",
              "\n",
              "  .colab-df-quickchart:hover {\n",
              "    background-color: var(--hover-bg-color);\n",
              "    box-shadow: 0 1px 2px rgba(60, 64, 67, 0.3), 0 1px 3px 1px rgba(60, 64, 67, 0.15);\n",
              "    fill: var(--button-hover-fill-color);\n",
              "  }\n",
              "\n",
              "  .colab-df-quickchart-complete:disabled,\n",
              "  .colab-df-quickchart-complete:disabled:hover {\n",
              "    background-color: var(--disabled-bg-color);\n",
              "    fill: var(--disabled-fill-color);\n",
              "    box-shadow: none;\n",
              "  }\n",
              "\n",
              "  .colab-df-spinner {\n",
              "    border: 2px solid var(--fill-color);\n",
              "    border-color: transparent;\n",
              "    border-bottom-color: var(--fill-color);\n",
              "    animation:\n",
              "      spin 1s steps(1) infinite;\n",
              "  }\n",
              "\n",
              "  @keyframes spin {\n",
              "    0% {\n",
              "      border-color: transparent;\n",
              "      border-bottom-color: var(--fill-color);\n",
              "      border-left-color: var(--fill-color);\n",
              "    }\n",
              "    20% {\n",
              "      border-color: transparent;\n",
              "      border-left-color: var(--fill-color);\n",
              "      border-top-color: var(--fill-color);\n",
              "    }\n",
              "    30% {\n",
              "      border-color: transparent;\n",
              "      border-left-color: var(--fill-color);\n",
              "      border-top-color: var(--fill-color);\n",
              "      border-right-color: var(--fill-color);\n",
              "    }\n",
              "    40% {\n",
              "      border-color: transparent;\n",
              "      border-right-color: var(--fill-color);\n",
              "      border-top-color: var(--fill-color);\n",
              "    }\n",
              "    60% {\n",
              "      border-color: transparent;\n",
              "      border-right-color: var(--fill-color);\n",
              "    }\n",
              "    80% {\n",
              "      border-color: transparent;\n",
              "      border-right-color: var(--fill-color);\n",
              "      border-bottom-color: var(--fill-color);\n",
              "    }\n",
              "    90% {\n",
              "      border-color: transparent;\n",
              "      border-bottom-color: var(--fill-color);\n",
              "    }\n",
              "  }\n",
              "</style>\n",
              "\n",
              "  <script>\n",
              "    async function quickchart(key) {\n",
              "      const quickchartButtonEl =\n",
              "        document.querySelector('#' + key + ' button');\n",
              "      quickchartButtonEl.disabled = true;  // To prevent multiple clicks.\n",
              "      quickchartButtonEl.classList.add('colab-df-spinner');\n",
              "      try {\n",
              "        const charts = await google.colab.kernel.invokeFunction(\n",
              "            'suggestCharts', [key], {});\n",
              "      } catch (error) {\n",
              "        console.error('Error during call to suggestCharts:', error);\n",
              "      }\n",
              "      quickchartButtonEl.classList.remove('colab-df-spinner');\n",
              "      quickchartButtonEl.classList.add('colab-df-quickchart-complete');\n",
              "    }\n",
              "    (() => {\n",
              "      let quickchartButtonEl =\n",
              "        document.querySelector('#df-4e5664f3-c999-4795-8abf-ff5fdc97fd91 button');\n",
              "      quickchartButtonEl.style.display =\n",
              "        google.colab.kernel.accessAllowed ? 'block' : 'none';\n",
              "    })();\n",
              "  </script>\n",
              "</div>\n",
              "\n",
              "    </div>\n",
              "  </div>\n"
            ],
            "application/vnd.google.colaboratory.intrinsic+json": {
              "type": "dataframe",
              "variable_name": "df_merged_all"
            }
          },
          "metadata": {},
          "execution_count": 19
        }
      ]
    },
    {
      "cell_type": "code",
      "source": [
        "df_merged_all['승인건수'].unique()"
      ],
      "metadata": {
        "colab": {
          "base_uri": "https://localhost:8080/"
        },
        "id": "EPIPXasiiEaY",
        "outputId": "ae2d5396-30c8-47f0-873a-a3a9ad5d79df"
      },
      "id": "EPIPXasiiEaY",
      "execution_count": null,
      "outputs": [
        {
          "output_type": "execute_result",
          "data": {
            "text/plain": [
              "array(['5번이하', '5번초과 10번이하', '15번초과 20번이하', '10번초과 15번이하', '20번 초과'],\n",
              "      dtype=object)"
            ]
          },
          "metadata": {},
          "execution_count": 44
        }
      ]
    },
    {
      "cell_type": "code",
      "source": [
        "# 고객등급 값의 비율 계산 (normalize=True → 비율)\n",
        "grade_ratio = df_merged_all['고객등급'].value_counts(normalize=True, dropna=False)\n",
        "\n",
        "# 백분율로 보기 좋게 정리\n",
        "grade_ratio = (grade_ratio * 100).round(2)\n",
        "\n",
        "# 출력\n",
        "print(\"📊 고객등급 분포 비율 (%):\")\n",
        "print(grade_ratio)\n"
      ],
      "metadata": {
        "colab": {
          "base_uri": "https://localhost:8080/"
        },
        "id": "fFhKRr0oaQGo",
        "outputId": "f55870bd-d6bd-4523-f922-6ab2d68adaa9"
      },
      "id": "fFhKRr0oaQGo",
      "execution_count": 4,
      "outputs": [
        {
          "output_type": "stream",
          "name": "stdout",
          "text": [
            "📊 고객등급 분포 비율 (%):\n",
            "고객등급\n",
            "일반등급     92.95\n",
            "우수등급      6.85\n",
            "최우수등급     0.20\n",
            "Name: proportion, dtype: float64\n"
          ]
        }
      ]
    },
    {
      "cell_type": "markdown",
      "source": [
        "# 칼럼 제거"
      ],
      "metadata": {
        "id": "7P6B92asQ3wR"
      },
      "id": "7P6B92asQ3wR"
    },
    {
      "cell_type": "code",
      "source": [
        "# '가맹점업종명' 컬럼 제거\n",
        "df_merged_all.drop(columns=['가맹점업종명'], inplace=True)\n",
        "# 결과 확인\n",
        "print(df_merged_all.columns)"
      ],
      "metadata": {
        "colab": {
          "base_uri": "https://localhost:8080/"
        },
        "id": "Rd39g-e8Q4Cr",
        "outputId": "a70c1a74-b0d2-47ae-f413-6f8a528bb2c7"
      },
      "id": "Rd39g-e8Q4Cr",
      "execution_count": null,
      "outputs": [
        {
          "output_type": "stream",
          "name": "stdout",
          "text": [
            "Index(['거래년월', '고객ID', '가맹점_광역시도', '가맹점_시군구', '승인건수', '승인금액', '연령대', '성별',\n",
            "       '고객등급', '자택_시도', '자택_시군구', '수신_요구불예금', '수신_거치식예금', '수신_적립식예금', '수신_펀드',\n",
            "       '수신_외화예금', '대출금액'],\n",
            "      dtype='object')\n"
          ]
        }
      ]
    },
    {
      "cell_type": "code",
      "source": [
        "# '가맹점_광역시도' 컬럼 제거\n",
        "df_merged_all.drop(columns=['가맹점_광역시도'], inplace=True)\n",
        "# 결과 확인\n",
        "print(df_merged_all.columns)"
      ],
      "metadata": {
        "colab": {
          "base_uri": "https://localhost:8080/"
        },
        "id": "QiI6URgeY3L9",
        "outputId": "b1747007-61f7-4448-fe0a-9d8dfae9813e"
      },
      "id": "QiI6URgeY3L9",
      "execution_count": null,
      "outputs": [
        {
          "output_type": "stream",
          "name": "stdout",
          "text": [
            "Index(['거래년월', '고객ID', '가맹점_시군구', '승인건수', '승인금액', '연령대', '성별', '고객등급', '자택_시도',\n",
            "       '자택_시군구', '수신_요구불예금', '수신_거치식예금', '수신_적립식예금', '수신_펀드', '수신_외화예금',\n",
            "       '대출금액'],\n",
            "      dtype='object')\n"
          ]
        }
      ]
    },
    {
      "cell_type": "code",
      "source": [
        "# '가맹점_시군구' 컬럼 제거\n",
        "df_merged_all.drop(columns=['가맹점_시군구'], inplace=True)\n",
        "# 결과 확인\n",
        "print(df_merged_all.columns)"
      ],
      "metadata": {
        "colab": {
          "base_uri": "https://localhost:8080/"
        },
        "id": "PN6_Vq7JY9Bu",
        "outputId": "cb778e2f-1edd-4a9f-a4d6-e2dc043f4c66"
      },
      "id": "PN6_Vq7JY9Bu",
      "execution_count": null,
      "outputs": [
        {
          "output_type": "stream",
          "name": "stdout",
          "text": [
            "Index(['거래년월', '고객ID', '승인건수', '승인금액', '연령대', '성별', '고객등급', '자택_시도', '자택_시군구',\n",
            "       '수신_요구불예금', '수신_거치식예금', '수신_적립식예금', '수신_펀드', '수신_외화예금', '대출금액'],\n",
            "      dtype='object')\n"
          ]
        }
      ]
    },
    {
      "cell_type": "code",
      "source": [
        "# '수신_거치식예금' 컬럼 제거\n",
        "df_merged_all.drop(columns=['수신_거치식예금'], inplace=True)\n",
        "# 결과 확인\n",
        "print(df_merged_all.columns)"
      ],
      "metadata": {
        "colab": {
          "base_uri": "https://localhost:8080/"
        },
        "id": "9s2psz3eY_U8",
        "outputId": "e0ca4cfc-e8d4-4fb9-e319-f3ca29857cd6"
      },
      "id": "9s2psz3eY_U8",
      "execution_count": null,
      "outputs": [
        {
          "output_type": "stream",
          "name": "stdout",
          "text": [
            "Index(['거래년월', '고객ID', '승인건수', '승인금액', '연령대', '성별', '고객등급', '자택_시도', '자택_시군구',\n",
            "       '수신_요구불예금', '수신_적립식예금', '수신_펀드', '수신_외화예금', '대출금액'],\n",
            "      dtype='object')\n"
          ]
        }
      ]
    },
    {
      "cell_type": "code",
      "source": [
        "# '수신_적립식예금' 컬럼 제거\n",
        "df_merged_all.drop(columns=['수신_적립식예금'], inplace=True)\n",
        "# 결과 확인\n",
        "print(df_merged_all.columns)"
      ],
      "metadata": {
        "colab": {
          "base_uri": "https://localhost:8080/"
        },
        "id": "lafeZjsNY_09",
        "outputId": "a7d6c03c-001b-405b-cea8-52051b5692a4"
      },
      "id": "lafeZjsNY_09",
      "execution_count": null,
      "outputs": [
        {
          "output_type": "stream",
          "name": "stdout",
          "text": [
            "Index(['거래년월', '고객ID', '승인건수', '승인금액', '연령대', '성별', '고객등급', '자택_시도', '자택_시군구',\n",
            "       '수신_요구불예금', '수신_펀드', '수신_외화예금', '대출금액'],\n",
            "      dtype='object')\n"
          ]
        }
      ]
    },
    {
      "cell_type": "code",
      "source": [
        "# '수신_외화예금' 컬럼 제거\n",
        "df_merged_all.drop(columns=['수신_외화예금'], inplace=True)\n",
        "# 결과 확인\n",
        "print(df_merged_all.columns)"
      ],
      "metadata": {
        "colab": {
          "base_uri": "https://localhost:8080/"
        },
        "id": "9-PenRihZRdP",
        "outputId": "2a281bfc-9f89-4ee7-bb25-bfa1e09b4805"
      },
      "id": "9-PenRihZRdP",
      "execution_count": null,
      "outputs": [
        {
          "output_type": "stream",
          "name": "stdout",
          "text": [
            "Index(['거래년월', '고객ID', '승인건수', '승인금액', '연령대', '성별', '고객등급', '자택_시도', '자택_시군구',\n",
            "       '수신_요구불예금', '수신_펀드', '대출금액'],\n",
            "      dtype='object')\n"
          ]
        }
      ]
    },
    {
      "cell_type": "code",
      "source": [
        "# '수신_펀드' 컬럼 제거\n",
        "df_merged_all.drop(columns=['수신_펀드'], inplace=True)\n",
        "# 결과 확인\n",
        "print(df_merged_all.columns)"
      ],
      "metadata": {
        "colab": {
          "base_uri": "https://localhost:8080/"
        },
        "id": "GDRjkblZdYoR",
        "outputId": "5a39f40b-95dd-4f41-c188-08e0f6e5ade3"
      },
      "id": "GDRjkblZdYoR",
      "execution_count": null,
      "outputs": [
        {
          "output_type": "stream",
          "name": "stdout",
          "text": [
            "Index(['거래년월', '고객ID', '승인건수', '승인금액', '연령대', '성별', '고객등급', '자택_시도', '자택_시군구',\n",
            "       '수신_요구불예금', '대출금액'],\n",
            "      dtype='object')\n"
          ]
        }
      ]
    },
    {
      "cell_type": "code",
      "source": [
        "# '자택_시군구' 컬럼 제거\n",
        "df_merged_all.drop(columns=['자택_시군구'], inplace=True)\n",
        "# 결과 확인\n",
        "print(df_merged_all.columns)"
      ],
      "metadata": {
        "colab": {
          "base_uri": "https://localhost:8080/"
        },
        "id": "IX0fyKWpbBCd",
        "outputId": "0c9303a2-80a5-4225-a174-c5de2ebd6ae4"
      },
      "id": "IX0fyKWpbBCd",
      "execution_count": null,
      "outputs": [
        {
          "output_type": "stream",
          "name": "stdout",
          "text": [
            "Index(['거래년월', '고객ID', '승인건수', '승인금액', '연령대', '성별', '고객등급', '자택_시도',\n",
            "       '수신_요구불예금', '대출금액'],\n",
            "      dtype='object')\n"
          ]
        }
      ]
    },
    {
      "cell_type": "markdown",
      "source": [
        "# 거주시도명 칼럼 수정"
      ],
      "metadata": {
        "id": "wiP4Sq1GZrDu"
      },
      "id": "wiP4Sq1GZrDu"
    },
    {
      "cell_type": "code",
      "source": [
        "df_merged_all['자택_시도'].unique()"
      ],
      "metadata": {
        "colab": {
          "base_uri": "https://localhost:8080/"
        },
        "id": "m_1zi_XjZpyi",
        "outputId": "3bb3cc96-cd4c-4a20-f548-cf03cb9afa88"
      },
      "id": "m_1zi_XjZpyi",
      "execution_count": null,
      "outputs": [
        {
          "output_type": "execute_result",
          "data": {
            "text/plain": [
              "array(['경상북도', '울산광역시', '대구광역시', '서울특별시', '대전광역시', '충청북도', '경상남도',\n",
              "       '부산광역시', '경기도', '충청남도', '강원특별자치도', '인천광역시', '제주특별자치도', '전북특별자치도',\n",
              "       '광주광역시', '전라남도'], dtype=object)"
            ]
          },
          "metadata": {},
          "execution_count": 53
        }
      ]
    },
    {
      "cell_type": "code",
      "source": [
        "# 1. 값 매핑을 위한 딕셔너리\n",
        "sido_map = {\n",
        "    '경상북도': '경북',\n",
        "    '울산광역시': '울산',\n",
        "    '대구광역시': '대구',\n",
        "    '서울특별시': '서울',\n",
        "    '대전광역시': '대전',\n",
        "    '충청북도': '충북',\n",
        "    '경상남도': '경남',\n",
        "    '부산광역시': '부산',\n",
        "    '경기도': '경기',\n",
        "    '충청남도': '충남',\n",
        "    '강원특별자치도': '강원',\n",
        "    '인천광역시': '인천',\n",
        "    '제주특별자치도': '제주',\n",
        "    '전북특별자치도': '전북',\n",
        "    '광주광역시': '광주',\n",
        "    '전라남도': '전남'\n",
        "}\n",
        "\n",
        "# 2. 값 변경\n",
        "df_merged_all['자택_시도'] = df_merged_all['자택_시도'].map(sido_map)\n",
        "\n",
        "# 3. 컬럼명 변경\n",
        "df_merged_all.rename(columns={'자택_시도': '거주시도명'}, inplace=True)\n",
        "\n",
        "# 결과 확인\n",
        "print(df_merged_all['거주시도명'].unique())\n"
      ],
      "metadata": {
        "colab": {
          "base_uri": "https://localhost:8080/"
        },
        "id": "gWqrwfpSbNMS",
        "outputId": "217e4082-b3a9-4a07-b35d-00b6b06caeaf"
      },
      "id": "gWqrwfpSbNMS",
      "execution_count": null,
      "outputs": [
        {
          "output_type": "stream",
          "name": "stdout",
          "text": [
            "['경북' '울산' '대구' '서울' '대전' '충북' '경남' '부산' '경기' '충남' '강원' '인천' '제주' '전북'\n",
            " '광주' '전남']\n"
          ]
        }
      ]
    },
    {
      "cell_type": "code",
      "source": [
        "df_merged_all.head(5)"
      ],
      "metadata": {
        "colab": {
          "base_uri": "https://localhost:8080/",
          "height": 206
        },
        "id": "lq17bF9QdJv3",
        "outputId": "dda899ec-b87a-4175-8761-1c0fee85866b"
      },
      "id": "lq17bF9QdJv3",
      "execution_count": null,
      "outputs": [
        {
          "output_type": "execute_result",
          "data": {
            "text/plain": [
              "     거래년월        고객ID  승인건수   승인금액    연령대 성별  고객등급 거주시도명   수신_요구불예금  대출금액\n",
              "0  202112  4080934272  5번이하  20000    20대  여  일반등급    경북  2400000.0   0.0\n",
              "1  202112  4116127380  5번이하  20000    20대  여  일반등급    울산   200000.0   0.0\n",
              "2  202112  2914424833  5번이하  20000    20대  여  일반등급    경북   100000.0   0.0\n",
              "3  202112  2950007638  5번이하  60000  10대미만  남  일반등급    경북   100000.0   0.0\n",
              "4  202112  2931907302  5번이하  10000    20대  남  일반등급    경북  4400000.0   0.0"
            ],
            "text/html": [
              "\n",
              "  <div id=\"df-80c89fdb-3f07-44b1-8922-a5e9f6bd1b0a\" class=\"colab-df-container\">\n",
              "    <div>\n",
              "<style scoped>\n",
              "    .dataframe tbody tr th:only-of-type {\n",
              "        vertical-align: middle;\n",
              "    }\n",
              "\n",
              "    .dataframe tbody tr th {\n",
              "        vertical-align: top;\n",
              "    }\n",
              "\n",
              "    .dataframe thead th {\n",
              "        text-align: right;\n",
              "    }\n",
              "</style>\n",
              "<table border=\"1\" class=\"dataframe\">\n",
              "  <thead>\n",
              "    <tr style=\"text-align: right;\">\n",
              "      <th></th>\n",
              "      <th>거래년월</th>\n",
              "      <th>고객ID</th>\n",
              "      <th>승인건수</th>\n",
              "      <th>승인금액</th>\n",
              "      <th>연령대</th>\n",
              "      <th>성별</th>\n",
              "      <th>고객등급</th>\n",
              "      <th>거주시도명</th>\n",
              "      <th>수신_요구불예금</th>\n",
              "      <th>대출금액</th>\n",
              "    </tr>\n",
              "  </thead>\n",
              "  <tbody>\n",
              "    <tr>\n",
              "      <th>0</th>\n",
              "      <td>202112</td>\n",
              "      <td>4080934272</td>\n",
              "      <td>5번이하</td>\n",
              "      <td>20000</td>\n",
              "      <td>20대</td>\n",
              "      <td>여</td>\n",
              "      <td>일반등급</td>\n",
              "      <td>경북</td>\n",
              "      <td>2400000.0</td>\n",
              "      <td>0.0</td>\n",
              "    </tr>\n",
              "    <tr>\n",
              "      <th>1</th>\n",
              "      <td>202112</td>\n",
              "      <td>4116127380</td>\n",
              "      <td>5번이하</td>\n",
              "      <td>20000</td>\n",
              "      <td>20대</td>\n",
              "      <td>여</td>\n",
              "      <td>일반등급</td>\n",
              "      <td>울산</td>\n",
              "      <td>200000.0</td>\n",
              "      <td>0.0</td>\n",
              "    </tr>\n",
              "    <tr>\n",
              "      <th>2</th>\n",
              "      <td>202112</td>\n",
              "      <td>2914424833</td>\n",
              "      <td>5번이하</td>\n",
              "      <td>20000</td>\n",
              "      <td>20대</td>\n",
              "      <td>여</td>\n",
              "      <td>일반등급</td>\n",
              "      <td>경북</td>\n",
              "      <td>100000.0</td>\n",
              "      <td>0.0</td>\n",
              "    </tr>\n",
              "    <tr>\n",
              "      <th>3</th>\n",
              "      <td>202112</td>\n",
              "      <td>2950007638</td>\n",
              "      <td>5번이하</td>\n",
              "      <td>60000</td>\n",
              "      <td>10대미만</td>\n",
              "      <td>남</td>\n",
              "      <td>일반등급</td>\n",
              "      <td>경북</td>\n",
              "      <td>100000.0</td>\n",
              "      <td>0.0</td>\n",
              "    </tr>\n",
              "    <tr>\n",
              "      <th>4</th>\n",
              "      <td>202112</td>\n",
              "      <td>2931907302</td>\n",
              "      <td>5번이하</td>\n",
              "      <td>10000</td>\n",
              "      <td>20대</td>\n",
              "      <td>남</td>\n",
              "      <td>일반등급</td>\n",
              "      <td>경북</td>\n",
              "      <td>4400000.0</td>\n",
              "      <td>0.0</td>\n",
              "    </tr>\n",
              "  </tbody>\n",
              "</table>\n",
              "</div>\n",
              "    <div class=\"colab-df-buttons\">\n",
              "\n",
              "  <div class=\"colab-df-container\">\n",
              "    <button class=\"colab-df-convert\" onclick=\"convertToInteractive('df-80c89fdb-3f07-44b1-8922-a5e9f6bd1b0a')\"\n",
              "            title=\"Convert this dataframe to an interactive table.\"\n",
              "            style=\"display:none;\">\n",
              "\n",
              "  <svg xmlns=\"http://www.w3.org/2000/svg\" height=\"24px\" viewBox=\"0 -960 960 960\">\n",
              "    <path d=\"M120-120v-720h720v720H120Zm60-500h600v-160H180v160Zm220 220h160v-160H400v160Zm0 220h160v-160H400v160ZM180-400h160v-160H180v160Zm440 0h160v-160H620v160ZM180-180h160v-160H180v160Zm440 0h160v-160H620v160Z\"/>\n",
              "  </svg>\n",
              "    </button>\n",
              "\n",
              "  <style>\n",
              "    .colab-df-container {\n",
              "      display:flex;\n",
              "      gap: 12px;\n",
              "    }\n",
              "\n",
              "    .colab-df-convert {\n",
              "      background-color: #E8F0FE;\n",
              "      border: none;\n",
              "      border-radius: 50%;\n",
              "      cursor: pointer;\n",
              "      display: none;\n",
              "      fill: #1967D2;\n",
              "      height: 32px;\n",
              "      padding: 0 0 0 0;\n",
              "      width: 32px;\n",
              "    }\n",
              "\n",
              "    .colab-df-convert:hover {\n",
              "      background-color: #E2EBFA;\n",
              "      box-shadow: 0px 1px 2px rgba(60, 64, 67, 0.3), 0px 1px 3px 1px rgba(60, 64, 67, 0.15);\n",
              "      fill: #174EA6;\n",
              "    }\n",
              "\n",
              "    .colab-df-buttons div {\n",
              "      margin-bottom: 4px;\n",
              "    }\n",
              "\n",
              "    [theme=dark] .colab-df-convert {\n",
              "      background-color: #3B4455;\n",
              "      fill: #D2E3FC;\n",
              "    }\n",
              "\n",
              "    [theme=dark] .colab-df-convert:hover {\n",
              "      background-color: #434B5C;\n",
              "      box-shadow: 0px 1px 3px 1px rgba(0, 0, 0, 0.15);\n",
              "      filter: drop-shadow(0px 1px 2px rgba(0, 0, 0, 0.3));\n",
              "      fill: #FFFFFF;\n",
              "    }\n",
              "  </style>\n",
              "\n",
              "    <script>\n",
              "      const buttonEl =\n",
              "        document.querySelector('#df-80c89fdb-3f07-44b1-8922-a5e9f6bd1b0a button.colab-df-convert');\n",
              "      buttonEl.style.display =\n",
              "        google.colab.kernel.accessAllowed ? 'block' : 'none';\n",
              "\n",
              "      async function convertToInteractive(key) {\n",
              "        const element = document.querySelector('#df-80c89fdb-3f07-44b1-8922-a5e9f6bd1b0a');\n",
              "        const dataTable =\n",
              "          await google.colab.kernel.invokeFunction('convertToInteractive',\n",
              "                                                    [key], {});\n",
              "        if (!dataTable) return;\n",
              "\n",
              "        const docLinkHtml = 'Like what you see? Visit the ' +\n",
              "          '<a target=\"_blank\" href=https://colab.research.google.com/notebooks/data_table.ipynb>data table notebook</a>'\n",
              "          + ' to learn more about interactive tables.';\n",
              "        element.innerHTML = '';\n",
              "        dataTable['output_type'] = 'display_data';\n",
              "        await google.colab.output.renderOutput(dataTable, element);\n",
              "        const docLink = document.createElement('div');\n",
              "        docLink.innerHTML = docLinkHtml;\n",
              "        element.appendChild(docLink);\n",
              "      }\n",
              "    </script>\n",
              "  </div>\n",
              "\n",
              "\n",
              "<div id=\"df-b927222a-e11d-4d9c-8892-2a7d9fe2806f\">\n",
              "  <button class=\"colab-df-quickchart\" onclick=\"quickchart('df-b927222a-e11d-4d9c-8892-2a7d9fe2806f')\"\n",
              "            title=\"Suggest charts\"\n",
              "            style=\"display:none;\">\n",
              "\n",
              "<svg xmlns=\"http://www.w3.org/2000/svg\" height=\"24px\"viewBox=\"0 0 24 24\"\n",
              "     width=\"24px\">\n",
              "    <g>\n",
              "        <path d=\"M19 3H5c-1.1 0-2 .9-2 2v14c0 1.1.9 2 2 2h14c1.1 0 2-.9 2-2V5c0-1.1-.9-2-2-2zM9 17H7v-7h2v7zm4 0h-2V7h2v10zm4 0h-2v-4h2v4z\"/>\n",
              "    </g>\n",
              "</svg>\n",
              "  </button>\n",
              "\n",
              "<style>\n",
              "  .colab-df-quickchart {\n",
              "      --bg-color: #E8F0FE;\n",
              "      --fill-color: #1967D2;\n",
              "      --hover-bg-color: #E2EBFA;\n",
              "      --hover-fill-color: #174EA6;\n",
              "      --disabled-fill-color: #AAA;\n",
              "      --disabled-bg-color: #DDD;\n",
              "  }\n",
              "\n",
              "  [theme=dark] .colab-df-quickchart {\n",
              "      --bg-color: #3B4455;\n",
              "      --fill-color: #D2E3FC;\n",
              "      --hover-bg-color: #434B5C;\n",
              "      --hover-fill-color: #FFFFFF;\n",
              "      --disabled-bg-color: #3B4455;\n",
              "      --disabled-fill-color: #666;\n",
              "  }\n",
              "\n",
              "  .colab-df-quickchart {\n",
              "    background-color: var(--bg-color);\n",
              "    border: none;\n",
              "    border-radius: 50%;\n",
              "    cursor: pointer;\n",
              "    display: none;\n",
              "    fill: var(--fill-color);\n",
              "    height: 32px;\n",
              "    padding: 0;\n",
              "    width: 32px;\n",
              "  }\n",
              "\n",
              "  .colab-df-quickchart:hover {\n",
              "    background-color: var(--hover-bg-color);\n",
              "    box-shadow: 0 1px 2px rgba(60, 64, 67, 0.3), 0 1px 3px 1px rgba(60, 64, 67, 0.15);\n",
              "    fill: var(--button-hover-fill-color);\n",
              "  }\n",
              "\n",
              "  .colab-df-quickchart-complete:disabled,\n",
              "  .colab-df-quickchart-complete:disabled:hover {\n",
              "    background-color: var(--disabled-bg-color);\n",
              "    fill: var(--disabled-fill-color);\n",
              "    box-shadow: none;\n",
              "  }\n",
              "\n",
              "  .colab-df-spinner {\n",
              "    border: 2px solid var(--fill-color);\n",
              "    border-color: transparent;\n",
              "    border-bottom-color: var(--fill-color);\n",
              "    animation:\n",
              "      spin 1s steps(1) infinite;\n",
              "  }\n",
              "\n",
              "  @keyframes spin {\n",
              "    0% {\n",
              "      border-color: transparent;\n",
              "      border-bottom-color: var(--fill-color);\n",
              "      border-left-color: var(--fill-color);\n",
              "    }\n",
              "    20% {\n",
              "      border-color: transparent;\n",
              "      border-left-color: var(--fill-color);\n",
              "      border-top-color: var(--fill-color);\n",
              "    }\n",
              "    30% {\n",
              "      border-color: transparent;\n",
              "      border-left-color: var(--fill-color);\n",
              "      border-top-color: var(--fill-color);\n",
              "      border-right-color: var(--fill-color);\n",
              "    }\n",
              "    40% {\n",
              "      border-color: transparent;\n",
              "      border-right-color: var(--fill-color);\n",
              "      border-top-color: var(--fill-color);\n",
              "    }\n",
              "    60% {\n",
              "      border-color: transparent;\n",
              "      border-right-color: var(--fill-color);\n",
              "    }\n",
              "    80% {\n",
              "      border-color: transparent;\n",
              "      border-right-color: var(--fill-color);\n",
              "      border-bottom-color: var(--fill-color);\n",
              "    }\n",
              "    90% {\n",
              "      border-color: transparent;\n",
              "      border-bottom-color: var(--fill-color);\n",
              "    }\n",
              "  }\n",
              "</style>\n",
              "\n",
              "  <script>\n",
              "    async function quickchart(key) {\n",
              "      const quickchartButtonEl =\n",
              "        document.querySelector('#' + key + ' button');\n",
              "      quickchartButtonEl.disabled = true;  // To prevent multiple clicks.\n",
              "      quickchartButtonEl.classList.add('colab-df-spinner');\n",
              "      try {\n",
              "        const charts = await google.colab.kernel.invokeFunction(\n",
              "            'suggestCharts', [key], {});\n",
              "      } catch (error) {\n",
              "        console.error('Error during call to suggestCharts:', error);\n",
              "      }\n",
              "      quickchartButtonEl.classList.remove('colab-df-spinner');\n",
              "      quickchartButtonEl.classList.add('colab-df-quickchart-complete');\n",
              "    }\n",
              "    (() => {\n",
              "      let quickchartButtonEl =\n",
              "        document.querySelector('#df-b927222a-e11d-4d9c-8892-2a7d9fe2806f button');\n",
              "      quickchartButtonEl.style.display =\n",
              "        google.colab.kernel.accessAllowed ? 'block' : 'none';\n",
              "    })();\n",
              "  </script>\n",
              "</div>\n",
              "\n",
              "    </div>\n",
              "  </div>\n"
            ],
            "application/vnd.google.colaboratory.intrinsic+json": {
              "type": "dataframe",
              "variable_name": "df_merged_all"
            }
          },
          "metadata": {},
          "execution_count": 32
        }
      ]
    },
    {
      "cell_type": "markdown",
      "source": [
        "# datetime 변환"
      ],
      "metadata": {
        "id": "w-ST4Wv_Trw3"
      },
      "id": "w-ST4Wv_Trw3"
    },
    {
      "cell_type": "code",
      "source": [
        "# '거래년월'을 문자열로 변환한 뒤 datetime 처리\n",
        "df_merged_all['거래년월'] = pd.to_datetime(df_merged_all['거래년월'].astype(str), format='%Y%m')"
      ],
      "metadata": {
        "id": "bfz9t4DTHeMA"
      },
      "id": "bfz9t4DTHeMA",
      "execution_count": null,
      "outputs": []
    },
    {
      "cell_type": "code",
      "source": [
        "df_merged_all['거래년월'].info()"
      ],
      "metadata": {
        "colab": {
          "base_uri": "https://localhost:8080/"
        },
        "id": "yBTshn2r544v",
        "outputId": "b53fa04e-8b69-47f7-ddc9-ac0ea6553565"
      },
      "id": "yBTshn2r544v",
      "execution_count": null,
      "outputs": [
        {
          "output_type": "stream",
          "name": "stdout",
          "text": [
            "<class 'pandas.core.series.Series'>\n",
            "RangeIndex: 180486016 entries, 0 to 180486015\n",
            "Series name: 거래년월\n",
            "Non-Null Count      Dtype         \n",
            "--------------      -----         \n",
            "180486016 non-null  datetime64[ns]\n",
            "dtypes: datetime64[ns](1)\n",
            "memory usage: 1.3 GB\n"
          ]
        }
      ]
    },
    {
      "cell_type": "markdown",
      "source": [
        "# 라벨 인코딩"
      ],
      "metadata": {
        "id": "OagukaMqTw7T"
      },
      "id": "OagukaMqTw7T"
    },
    {
      "cell_type": "code",
      "source": [
        "# 승인건수 지정 인코딩\n",
        "usage_map = {\n",
        "    '5번이하': 0,\n",
        "    '5번초과 10번이하': 1,\n",
        "    '10번초과 15번이하': 2,\n",
        "    '15번초과 20번이하': 3,\n",
        "    '20번 초과': 4,\n",
        "}\n",
        "df_merged_all['승인건수'] = df_merged_all['승인건수'].map(usage_map)\n",
        "\n",
        "# 연령대 지정 인코딩\n",
        "age_map = {\n",
        "    '10대미만': 0,\n",
        "    '20대': 1,\n",
        "    '30대': 2,\n",
        "    '40대': 3,\n",
        "    '50대': 4,\n",
        "    '60대이상': 5\n",
        "}\n",
        "df_merged_all['연령대'] = df_merged_all['연령대'].map(age_map)\n",
        "\n",
        "# 고객등급 지정 인코딩\n",
        "grade_map = {\n",
        "    '최우수등급': 0,\n",
        "    '우수등급': 1,\n",
        "    '일반등급': 2\n",
        "}\n",
        "df_merged_all['고객등급'] = df_merged_all['고객등급'].map(grade_map)\n"
      ],
      "metadata": {
        "id": "CjKr3scPTxRS"
      },
      "id": "CjKr3scPTxRS",
      "execution_count": null,
      "outputs": []
    },
    {
      "cell_type": "code",
      "source": [
        "# 고객등급 지정 인코딩 // 바꿔가면서 테스트\n",
        "sex_map = {\n",
        "    '남': 1,\n",
        "    '여': 0\n",
        "}\n",
        "df_merged_all['성별'] = df_merged_all['성별'].map(sex_map)\n",
        "# 3. 컬럼명 변경\n",
        "df_merged_all.rename(columns={'성별': '남녀구분코드'}, inplace=True)"
      ],
      "metadata": {
        "id": "aO54dnZ-gOz7"
      },
      "id": "aO54dnZ-gOz7",
      "execution_count": null,
      "outputs": []
    },
    {
      "cell_type": "code",
      "source": [
        "df_merged_all.head(5)"
      ],
      "metadata": {
        "colab": {
          "base_uri": "https://localhost:8080/",
          "height": 206
        },
        "id": "pUH8PhsBf_rT",
        "outputId": "cbcd6bb2-15b3-4748-c4b2-eea2a447a583"
      },
      "id": "pUH8PhsBf_rT",
      "execution_count": null,
      "outputs": [
        {
          "output_type": "execute_result",
          "data": {
            "text/plain": [
              "        거래년월        고객ID  승인건수   승인금액  연령대  남녀구분코드  고객등급 거주시도명   수신_요구불예금  \\\n",
              "0 2021-12-01  4080934272     0  20000    1       1     2    경북  2400000.0   \n",
              "1 2021-12-01  4116127380     0  20000    1       1     2    울산   200000.0   \n",
              "2 2021-12-01  2914424833     0  20000    1       1     2    경북   100000.0   \n",
              "3 2021-12-01  2950007638     0  60000    0       0     2    경북   100000.0   \n",
              "4 2021-12-01  2931907302     0  10000    1       0     2    경북  4400000.0   \n",
              "\n",
              "   대출금액  \n",
              "0   0.0  \n",
              "1   0.0  \n",
              "2   0.0  \n",
              "3   0.0  \n",
              "4   0.0  "
            ],
            "text/html": [
              "\n",
              "  <div id=\"df-137bfefa-cf90-404f-be8f-1a638bc37925\" class=\"colab-df-container\">\n",
              "    <div>\n",
              "<style scoped>\n",
              "    .dataframe tbody tr th:only-of-type {\n",
              "        vertical-align: middle;\n",
              "    }\n",
              "\n",
              "    .dataframe tbody tr th {\n",
              "        vertical-align: top;\n",
              "    }\n",
              "\n",
              "    .dataframe thead th {\n",
              "        text-align: right;\n",
              "    }\n",
              "</style>\n",
              "<table border=\"1\" class=\"dataframe\">\n",
              "  <thead>\n",
              "    <tr style=\"text-align: right;\">\n",
              "      <th></th>\n",
              "      <th>거래년월</th>\n",
              "      <th>고객ID</th>\n",
              "      <th>승인건수</th>\n",
              "      <th>승인금액</th>\n",
              "      <th>연령대</th>\n",
              "      <th>남녀구분코드</th>\n",
              "      <th>고객등급</th>\n",
              "      <th>거주시도명</th>\n",
              "      <th>수신_요구불예금</th>\n",
              "      <th>대출금액</th>\n",
              "    </tr>\n",
              "  </thead>\n",
              "  <tbody>\n",
              "    <tr>\n",
              "      <th>0</th>\n",
              "      <td>2021-12-01</td>\n",
              "      <td>4080934272</td>\n",
              "      <td>0</td>\n",
              "      <td>20000</td>\n",
              "      <td>1</td>\n",
              "      <td>1</td>\n",
              "      <td>2</td>\n",
              "      <td>경북</td>\n",
              "      <td>2400000.0</td>\n",
              "      <td>0.0</td>\n",
              "    </tr>\n",
              "    <tr>\n",
              "      <th>1</th>\n",
              "      <td>2021-12-01</td>\n",
              "      <td>4116127380</td>\n",
              "      <td>0</td>\n",
              "      <td>20000</td>\n",
              "      <td>1</td>\n",
              "      <td>1</td>\n",
              "      <td>2</td>\n",
              "      <td>울산</td>\n",
              "      <td>200000.0</td>\n",
              "      <td>0.0</td>\n",
              "    </tr>\n",
              "    <tr>\n",
              "      <th>2</th>\n",
              "      <td>2021-12-01</td>\n",
              "      <td>2914424833</td>\n",
              "      <td>0</td>\n",
              "      <td>20000</td>\n",
              "      <td>1</td>\n",
              "      <td>1</td>\n",
              "      <td>2</td>\n",
              "      <td>경북</td>\n",
              "      <td>100000.0</td>\n",
              "      <td>0.0</td>\n",
              "    </tr>\n",
              "    <tr>\n",
              "      <th>3</th>\n",
              "      <td>2021-12-01</td>\n",
              "      <td>2950007638</td>\n",
              "      <td>0</td>\n",
              "      <td>60000</td>\n",
              "      <td>0</td>\n",
              "      <td>0</td>\n",
              "      <td>2</td>\n",
              "      <td>경북</td>\n",
              "      <td>100000.0</td>\n",
              "      <td>0.0</td>\n",
              "    </tr>\n",
              "    <tr>\n",
              "      <th>4</th>\n",
              "      <td>2021-12-01</td>\n",
              "      <td>2931907302</td>\n",
              "      <td>0</td>\n",
              "      <td>10000</td>\n",
              "      <td>1</td>\n",
              "      <td>0</td>\n",
              "      <td>2</td>\n",
              "      <td>경북</td>\n",
              "      <td>4400000.0</td>\n",
              "      <td>0.0</td>\n",
              "    </tr>\n",
              "  </tbody>\n",
              "</table>\n",
              "</div>\n",
              "    <div class=\"colab-df-buttons\">\n",
              "\n",
              "  <div class=\"colab-df-container\">\n",
              "    <button class=\"colab-df-convert\" onclick=\"convertToInteractive('df-137bfefa-cf90-404f-be8f-1a638bc37925')\"\n",
              "            title=\"Convert this dataframe to an interactive table.\"\n",
              "            style=\"display:none;\">\n",
              "\n",
              "  <svg xmlns=\"http://www.w3.org/2000/svg\" height=\"24px\" viewBox=\"0 -960 960 960\">\n",
              "    <path d=\"M120-120v-720h720v720H120Zm60-500h600v-160H180v160Zm220 220h160v-160H400v160Zm0 220h160v-160H400v160ZM180-400h160v-160H180v160Zm440 0h160v-160H620v160ZM180-180h160v-160H180v160Zm440 0h160v-160H620v160Z\"/>\n",
              "  </svg>\n",
              "    </button>\n",
              "\n",
              "  <style>\n",
              "    .colab-df-container {\n",
              "      display:flex;\n",
              "      gap: 12px;\n",
              "    }\n",
              "\n",
              "    .colab-df-convert {\n",
              "      background-color: #E8F0FE;\n",
              "      border: none;\n",
              "      border-radius: 50%;\n",
              "      cursor: pointer;\n",
              "      display: none;\n",
              "      fill: #1967D2;\n",
              "      height: 32px;\n",
              "      padding: 0 0 0 0;\n",
              "      width: 32px;\n",
              "    }\n",
              "\n",
              "    .colab-df-convert:hover {\n",
              "      background-color: #E2EBFA;\n",
              "      box-shadow: 0px 1px 2px rgba(60, 64, 67, 0.3), 0px 1px 3px 1px rgba(60, 64, 67, 0.15);\n",
              "      fill: #174EA6;\n",
              "    }\n",
              "\n",
              "    .colab-df-buttons div {\n",
              "      margin-bottom: 4px;\n",
              "    }\n",
              "\n",
              "    [theme=dark] .colab-df-convert {\n",
              "      background-color: #3B4455;\n",
              "      fill: #D2E3FC;\n",
              "    }\n",
              "\n",
              "    [theme=dark] .colab-df-convert:hover {\n",
              "      background-color: #434B5C;\n",
              "      box-shadow: 0px 1px 3px 1px rgba(0, 0, 0, 0.15);\n",
              "      filter: drop-shadow(0px 1px 2px rgba(0, 0, 0, 0.3));\n",
              "      fill: #FFFFFF;\n",
              "    }\n",
              "  </style>\n",
              "\n",
              "    <script>\n",
              "      const buttonEl =\n",
              "        document.querySelector('#df-137bfefa-cf90-404f-be8f-1a638bc37925 button.colab-df-convert');\n",
              "      buttonEl.style.display =\n",
              "        google.colab.kernel.accessAllowed ? 'block' : 'none';\n",
              "\n",
              "      async function convertToInteractive(key) {\n",
              "        const element = document.querySelector('#df-137bfefa-cf90-404f-be8f-1a638bc37925');\n",
              "        const dataTable =\n",
              "          await google.colab.kernel.invokeFunction('convertToInteractive',\n",
              "                                                    [key], {});\n",
              "        if (!dataTable) return;\n",
              "\n",
              "        const docLinkHtml = 'Like what you see? Visit the ' +\n",
              "          '<a target=\"_blank\" href=https://colab.research.google.com/notebooks/data_table.ipynb>data table notebook</a>'\n",
              "          + ' to learn more about interactive tables.';\n",
              "        element.innerHTML = '';\n",
              "        dataTable['output_type'] = 'display_data';\n",
              "        await google.colab.output.renderOutput(dataTable, element);\n",
              "        const docLink = document.createElement('div');\n",
              "        docLink.innerHTML = docLinkHtml;\n",
              "        element.appendChild(docLink);\n",
              "      }\n",
              "    </script>\n",
              "  </div>\n",
              "\n",
              "\n",
              "<div id=\"df-310ec044-62ae-4e06-a6ee-f1edb52e8bf9\">\n",
              "  <button class=\"colab-df-quickchart\" onclick=\"quickchart('df-310ec044-62ae-4e06-a6ee-f1edb52e8bf9')\"\n",
              "            title=\"Suggest charts\"\n",
              "            style=\"display:none;\">\n",
              "\n",
              "<svg xmlns=\"http://www.w3.org/2000/svg\" height=\"24px\"viewBox=\"0 0 24 24\"\n",
              "     width=\"24px\">\n",
              "    <g>\n",
              "        <path d=\"M19 3H5c-1.1 0-2 .9-2 2v14c0 1.1.9 2 2 2h14c1.1 0 2-.9 2-2V5c0-1.1-.9-2-2-2zM9 17H7v-7h2v7zm4 0h-2V7h2v10zm4 0h-2v-4h2v4z\"/>\n",
              "    </g>\n",
              "</svg>\n",
              "  </button>\n",
              "\n",
              "<style>\n",
              "  .colab-df-quickchart {\n",
              "      --bg-color: #E8F0FE;\n",
              "      --fill-color: #1967D2;\n",
              "      --hover-bg-color: #E2EBFA;\n",
              "      --hover-fill-color: #174EA6;\n",
              "      --disabled-fill-color: #AAA;\n",
              "      --disabled-bg-color: #DDD;\n",
              "  }\n",
              "\n",
              "  [theme=dark] .colab-df-quickchart {\n",
              "      --bg-color: #3B4455;\n",
              "      --fill-color: #D2E3FC;\n",
              "      --hover-bg-color: #434B5C;\n",
              "      --hover-fill-color: #FFFFFF;\n",
              "      --disabled-bg-color: #3B4455;\n",
              "      --disabled-fill-color: #666;\n",
              "  }\n",
              "\n",
              "  .colab-df-quickchart {\n",
              "    background-color: var(--bg-color);\n",
              "    border: none;\n",
              "    border-radius: 50%;\n",
              "    cursor: pointer;\n",
              "    display: none;\n",
              "    fill: var(--fill-color);\n",
              "    height: 32px;\n",
              "    padding: 0;\n",
              "    width: 32px;\n",
              "  }\n",
              "\n",
              "  .colab-df-quickchart:hover {\n",
              "    background-color: var(--hover-bg-color);\n",
              "    box-shadow: 0 1px 2px rgba(60, 64, 67, 0.3), 0 1px 3px 1px rgba(60, 64, 67, 0.15);\n",
              "    fill: var(--button-hover-fill-color);\n",
              "  }\n",
              "\n",
              "  .colab-df-quickchart-complete:disabled,\n",
              "  .colab-df-quickchart-complete:disabled:hover {\n",
              "    background-color: var(--disabled-bg-color);\n",
              "    fill: var(--disabled-fill-color);\n",
              "    box-shadow: none;\n",
              "  }\n",
              "\n",
              "  .colab-df-spinner {\n",
              "    border: 2px solid var(--fill-color);\n",
              "    border-color: transparent;\n",
              "    border-bottom-color: var(--fill-color);\n",
              "    animation:\n",
              "      spin 1s steps(1) infinite;\n",
              "  }\n",
              "\n",
              "  @keyframes spin {\n",
              "    0% {\n",
              "      border-color: transparent;\n",
              "      border-bottom-color: var(--fill-color);\n",
              "      border-left-color: var(--fill-color);\n",
              "    }\n",
              "    20% {\n",
              "      border-color: transparent;\n",
              "      border-left-color: var(--fill-color);\n",
              "      border-top-color: var(--fill-color);\n",
              "    }\n",
              "    30% {\n",
              "      border-color: transparent;\n",
              "      border-left-color: var(--fill-color);\n",
              "      border-top-color: var(--fill-color);\n",
              "      border-right-color: var(--fill-color);\n",
              "    }\n",
              "    40% {\n",
              "      border-color: transparent;\n",
              "      border-right-color: var(--fill-color);\n",
              "      border-top-color: var(--fill-color);\n",
              "    }\n",
              "    60% {\n",
              "      border-color: transparent;\n",
              "      border-right-color: var(--fill-color);\n",
              "    }\n",
              "    80% {\n",
              "      border-color: transparent;\n",
              "      border-right-color: var(--fill-color);\n",
              "      border-bottom-color: var(--fill-color);\n",
              "    }\n",
              "    90% {\n",
              "      border-color: transparent;\n",
              "      border-bottom-color: var(--fill-color);\n",
              "    }\n",
              "  }\n",
              "</style>\n",
              "\n",
              "  <script>\n",
              "    async function quickchart(key) {\n",
              "      const quickchartButtonEl =\n",
              "        document.querySelector('#' + key + ' button');\n",
              "      quickchartButtonEl.disabled = true;  // To prevent multiple clicks.\n",
              "      quickchartButtonEl.classList.add('colab-df-spinner');\n",
              "      try {\n",
              "        const charts = await google.colab.kernel.invokeFunction(\n",
              "            'suggestCharts', [key], {});\n",
              "      } catch (error) {\n",
              "        console.error('Error during call to suggestCharts:', error);\n",
              "      }\n",
              "      quickchartButtonEl.classList.remove('colab-df-spinner');\n",
              "      quickchartButtonEl.classList.add('colab-df-quickchart-complete');\n",
              "    }\n",
              "    (() => {\n",
              "      let quickchartButtonEl =\n",
              "        document.querySelector('#df-310ec044-62ae-4e06-a6ee-f1edb52e8bf9 button');\n",
              "      quickchartButtonEl.style.display =\n",
              "        google.colab.kernel.accessAllowed ? 'block' : 'none';\n",
              "    })();\n",
              "  </script>\n",
              "</div>\n",
              "\n",
              "    </div>\n",
              "  </div>\n"
            ],
            "application/vnd.google.colaboratory.intrinsic+json": {
              "type": "dataframe",
              "variable_name": "df_merged_all"
            }
          },
          "metadata": {},
          "execution_count": 58
        }
      ]
    },
    {
      "cell_type": "code",
      "source": [
        "df_merged_all.info()"
      ],
      "metadata": {
        "colab": {
          "base_uri": "https://localhost:8080/"
        },
        "id": "zrSq7Ifyg4ex",
        "outputId": "0b83f950-027a-466d-866b-9fe960fb3c9d"
      },
      "id": "zrSq7Ifyg4ex",
      "execution_count": null,
      "outputs": [
        {
          "output_type": "stream",
          "name": "stdout",
          "text": [
            "<class 'pandas.core.frame.DataFrame'>\n",
            "RangeIndex: 180486016 entries, 0 to 180486015\n",
            "Data columns (total 10 columns):\n",
            " #   Column    Dtype         \n",
            "---  ------    -----         \n",
            " 0   거래년월      datetime64[ns]\n",
            " 1   고객ID      int64         \n",
            " 2   승인건수      float64       \n",
            " 3   승인금액      int64         \n",
            " 4   연령대       int64         \n",
            " 5   남녀구분코드    int64         \n",
            " 6   고객등급      float64       \n",
            " 7   거주시도명     object        \n",
            " 8   수신_요구불예금  float64       \n",
            " 9   대출금액      float64       \n",
            "dtypes: datetime64[ns](1), float64(4), int64(4), object(1)\n",
            "memory usage: 13.4+ GB\n"
          ]
        }
      ]
    },
    {
      "cell_type": "code",
      "source": [
        "# 컬럼별 결측값 개수 출력\n",
        "missing_count = df_merged_all.isnull().sum()\n",
        "missing_count = missing_count.sort_values(ascending=False)  # 결측치 많은 순으로 정렬\n",
        "print(missing_count)\n"
      ],
      "metadata": {
        "colab": {
          "base_uri": "https://localhost:8080/"
        },
        "id": "aylarhx-hkSS",
        "outputId": "a670d879-2430-42c0-b37f-0670bcb92bcc"
      },
      "id": "aylarhx-hkSS",
      "execution_count": null,
      "outputs": [
        {
          "output_type": "stream",
          "name": "stdout",
          "text": [
            "거래년월        0\n",
            "고객ID        0\n",
            "승인건수        0\n",
            "승인금액        0\n",
            "연령대         0\n",
            "남녀구분코드      0\n",
            "고객등급        0\n",
            "수신_요구불예금    0\n",
            "대출금액        0\n",
            "거주시도명_경기    0\n",
            "거주시도명_경남    0\n",
            "거주시도명_경북    0\n",
            "거주시도명_광주    0\n",
            "거주시도명_대구    0\n",
            "거주시도명_대전    0\n",
            "거주시도명_부산    0\n",
            "거주시도명_서울    0\n",
            "거주시도명_울산    0\n",
            "거주시도명_인천    0\n",
            "거주시도명_전남    0\n",
            "거주시도명_전북    0\n",
            "거주시도명_제주    0\n",
            "거주시도명_충남    0\n",
            "거주시도명_충북    0\n",
            "dtype: int64\n"
          ]
        }
      ]
    },
    {
      "cell_type": "code",
      "source": [],
      "metadata": {
        "id": "goEZgllnjSyX"
      },
      "id": "goEZgllnjSyX",
      "execution_count": null,
      "outputs": []
    },
    {
      "cell_type": "markdown",
      "source": [
        "# 원핫 인코딩"
      ],
      "metadata": {
        "id": "Mx2VidklT03f"
      },
      "id": "Mx2VidklT03f"
    },
    {
      "cell_type": "code",
      "source": [],
      "metadata": {
        "id": "C7MOA9icf-Lv"
      },
      "id": "C7MOA9icf-Lv",
      "execution_count": null,
      "outputs": []
    },
    {
      "cell_type": "code",
      "source": [
        "onehot_cols = ['거주시도명']\n",
        "\n",
        "df_merged_all = pd.get_dummies(df_merged_all, columns=onehot_cols, drop_first=True)\n"
      ],
      "metadata": {
        "id": "kcroozSoT0Xt"
      },
      "id": "kcroozSoT0Xt",
      "execution_count": null,
      "outputs": []
    },
    {
      "cell_type": "code",
      "source": [
        "print(\"✅ 최종 인코딩된 데이터 shape:\", df_merged_all.shape)\n",
        "print(df_merged_all.head(2))\n"
      ],
      "metadata": {
        "colab": {
          "base_uri": "https://localhost:8080/"
        },
        "id": "poCwmUFlT4yB",
        "outputId": "b954f6e1-5f02-48e1-d00b-6c794e6bc2f3"
      },
      "id": "poCwmUFlT4yB",
      "execution_count": null,
      "outputs": [
        {
          "output_type": "stream",
          "name": "stdout",
          "text": [
            "✅ 최종 인코딩된 데이터 shape: (180486016, 24)\n",
            "        거래년월        고객ID  승인건수   승인금액  연령대  남녀구분코드  고객등급   수신_요구불예금  대출금액  \\\n",
            "0 2021-12-01  4080934272     0  20000    1       1     2  2400000.0   0.0   \n",
            "1 2021-12-01  4116127380     0  20000    1       1     2   200000.0   0.0   \n",
            "\n",
            "   거주시도명_경기  ...  거주시도명_대전  거주시도명_부산  거주시도명_서울  거주시도명_울산  거주시도명_인천  거주시도명_전남  \\\n",
            "0     False  ...     False     False     False     False     False     False   \n",
            "1     False  ...     False     False     False      True     False     False   \n",
            "\n",
            "   거주시도명_전북  거주시도명_제주  거주시도명_충남  거주시도명_충북  \n",
            "0     False     False     False     False  \n",
            "1     False     False     False     False  \n",
            "\n",
            "[2 rows x 24 columns]\n"
          ]
        }
      ]
    },
    {
      "cell_type": "code",
      "source": [
        "df_merged_all.info()"
      ],
      "metadata": {
        "colab": {
          "base_uri": "https://localhost:8080/"
        },
        "id": "TzzL5YKaZbKc",
        "outputId": "8002f564-633d-42fc-e0cd-e685ef56104f"
      },
      "id": "TzzL5YKaZbKc",
      "execution_count": null,
      "outputs": [
        {
          "output_type": "stream",
          "name": "stdout",
          "text": [
            "<class 'pandas.core.frame.DataFrame'>\n",
            "RangeIndex: 180486016 entries, 0 to 180486015\n",
            "Data columns (total 24 columns):\n",
            " #   Column    Dtype         \n",
            "---  ------    -----         \n",
            " 0   거래년월      datetime64[ns]\n",
            " 1   고객ID      int64         \n",
            " 2   승인건수      int64         \n",
            " 3   승인금액      int64         \n",
            " 4   연령대       int64         \n",
            " 5   남녀구분코드    int64         \n",
            " 6   고객등급      int64         \n",
            " 7   수신_요구불예금  float64       \n",
            " 8   대출금액      float64       \n",
            " 9   거주시도명_경기  bool          \n",
            " 10  거주시도명_경남  bool          \n",
            " 11  거주시도명_경북  bool          \n",
            " 12  거주시도명_광주  bool          \n",
            " 13  거주시도명_대구  bool          \n",
            " 14  거주시도명_대전  bool          \n",
            " 15  거주시도명_부산  bool          \n",
            " 16  거주시도명_서울  bool          \n",
            " 17  거주시도명_울산  bool          \n",
            " 18  거주시도명_인천  bool          \n",
            " 19  거주시도명_전남  bool          \n",
            " 20  거주시도명_전북  bool          \n",
            " 21  거주시도명_제주  bool          \n",
            " 22  거주시도명_충남  bool          \n",
            " 23  거주시도명_충북  bool          \n",
            "dtypes: bool(15), datetime64[ns](1), float64(2), int64(6)\n",
            "memory usage: 14.6 GB\n"
          ]
        }
      ]
    },
    {
      "cell_type": "code",
      "source": [
        "# 조건을 함수로 정의\n",
        "def has_decimal_first_digit_between_1_and_9(x):\n",
        "    if pd.isna(x):\n",
        "        return False\n",
        "    decimal_part = x - int(x)\n",
        "    first_decimal_digit = int(decimal_part * 10) % 10\n",
        "    return 1 <= first_decimal_digit <= 9\n",
        "\n",
        "# 두 컬럼에서 해당 조건을 만족하는 값 필터링\n",
        "mask_요구불 = df_merged_all['수신_요구불예금'].apply(has_decimal_first_digit_between_1_and_9)\n",
        "mask_대출 = df_merged_all['대출금액'].apply(has_decimal_first_digit_between_1_and_9)\n",
        "\n",
        "# 결과 확인\n",
        "요구불_소수있는값 = df_merged_all[mask_요구불]\n",
        "대출_소수있는값 = df_merged_all[mask_대출]\n",
        "\n",
        "# 개수 출력\n",
        "print(\"✅ 수신_요구불예금 - 소수 첫째자리가 1~9인 값 개수:\", 요구불_소수있는값.shape[0])\n",
        "print(\"✅ 대출금액 - 소수 첫째자리가 1~9인 값 개수:\", 대출_소수있는값.shape[0])\n"
      ],
      "metadata": {
        "colab": {
          "base_uri": "https://localhost:8080/"
        },
        "id": "uzOFXHFCpSrZ",
        "outputId": "a093f76a-9837-43ba-a10b-7dc8f2062d80"
      },
      "id": "uzOFXHFCpSrZ",
      "execution_count": null,
      "outputs": [
        {
          "output_type": "stream",
          "name": "stdout",
          "text": [
            "✅ 수신_요구불예금 - 소수 첫째자리가 1~9인 값 개수: 0\n",
            "✅ 대출금액 - 소수 첫째자리가 1~9인 값 개수: 0\n"
          ]
        }
      ]
    },
    {
      "cell_type": "code",
      "source": [
        "# float64 타입인 컬럼만 선택\n",
        "float_cols = df_merged_all.select_dtypes(include=['float64']).columns\n",
        "\n",
        "# 해당 컬럼들을 int64로 변환\n",
        "df_merged_all[float_cols] = df_merged_all[float_cols].astype('int64')\n",
        "\n",
        "# 결과 확인\n",
        "print(df_merged_all[float_cols].dtypes)\n"
      ],
      "metadata": {
        "colab": {
          "base_uri": "https://localhost:8080/"
        },
        "id": "3xCFEfYtrjv1",
        "outputId": "cfdb17bb-95f1-4b0d-a4fd-619285b018c1"
      },
      "id": "3xCFEfYtrjv1",
      "execution_count": null,
      "outputs": [
        {
          "output_type": "stream",
          "name": "stdout",
          "text": [
            "수신_요구불예금    int64\n",
            "대출금액        int64\n",
            "dtype: object\n"
          ]
        }
      ]
    },
    {
      "cell_type": "code",
      "source": [
        "#bool_cols = df_merged_all.select_dtypes(include='bool').columns\n",
        "#df_merged_all[bool_cols] = df_merged_all[bool_cols].astype('int64')"
      ],
      "metadata": {
        "id": "3QIoYcDNaCHV"
      },
      "id": "3QIoYcDNaCHV",
      "execution_count": null,
      "outputs": []
    },
    {
      "cell_type": "code",
      "source": [
        "df_merged_all.info()"
      ],
      "metadata": {
        "colab": {
          "base_uri": "https://localhost:8080/"
        },
        "id": "Zyg3-iPLaiPj",
        "outputId": "9d4b170d-4d65-4ec6-d1f1-3c04852869d5"
      },
      "id": "Zyg3-iPLaiPj",
      "execution_count": null,
      "outputs": [
        {
          "output_type": "stream",
          "name": "stdout",
          "text": [
            "<class 'pandas.core.frame.DataFrame'>\n",
            "RangeIndex: 180486016 entries, 0 to 180486015\n",
            "Data columns (total 24 columns):\n",
            " #   Column    Dtype         \n",
            "---  ------    -----         \n",
            " 0   거래년월      datetime64[ns]\n",
            " 1   고객ID      int64         \n",
            " 2   승인건수      int64         \n",
            " 3   승인금액      int64         \n",
            " 4   연령대       int64         \n",
            " 5   남녀구분코드    int64         \n",
            " 6   고객등급      int64         \n",
            " 7   수신_요구불예금  int64         \n",
            " 8   대출금액      int64         \n",
            " 9   거주시도명_경기  bool          \n",
            " 10  거주시도명_경남  bool          \n",
            " 11  거주시도명_경북  bool          \n",
            " 12  거주시도명_광주  bool          \n",
            " 13  거주시도명_대구  bool          \n",
            " 14  거주시도명_대전  bool          \n",
            " 15  거주시도명_부산  bool          \n",
            " 16  거주시도명_서울  bool          \n",
            " 17  거주시도명_울산  bool          \n",
            " 18  거주시도명_인천  bool          \n",
            " 19  거주시도명_전남  bool          \n",
            " 20  거주시도명_전북  bool          \n",
            " 21  거주시도명_제주  bool          \n",
            " 22  거주시도명_충남  bool          \n",
            " 23  거주시도명_충북  bool          \n",
            "dtypes: bool(15), datetime64[ns](1), int64(8)\n",
            "memory usage: 14.6 GB\n"
          ]
        }
      ]
    },
    {
      "cell_type": "code",
      "source": [
        "df_merged_all.to_csv('/content/drive/MyDrive/iM뱅크전처리.csv', index=False)"
      ],
      "metadata": {
        "id": "IibMPvU5i_Nl"
      },
      "id": "IibMPvU5i_Nl",
      "execution_count": null,
      "outputs": []
    },
    {
      "cell_type": "code",
      "source": [
        "test_df=df_merged_all.copy()"
      ],
      "metadata": {
        "id": "VnnmdMgIzWli"
      },
      "id": "VnnmdMgIzWli",
      "execution_count": null,
      "outputs": []
    },
    {
      "cell_type": "markdown",
      "id": "292354fc-333d-4e79-a3be-9af6b3f586ac",
      "metadata": {
        "id": "292354fc-333d-4e79-a3be-9af6b3f586ac"
      },
      "source": [
        "# 모델링"
      ]
    },
    {
      "cell_type": "markdown",
      "source": [
        "## 테스트 파일 & 모델링 파일 불러오기"
      ],
      "metadata": {
        "id": "og2B94OjRfy_"
      },
      "id": "og2B94OjRfy_"
    },
    {
      "cell_type": "code",
      "source": [
        "import numpy as np\n",
        "import pandas as pd\n",
        "import seaborn as sns"
      ],
      "metadata": {
        "id": "nJAUhB6SYEdZ"
      },
      "id": "nJAUhB6SYEdZ",
      "execution_count": null,
      "outputs": []
    },
    {
      "cell_type": "code",
      "source": [
        "from google.colab import drive\n",
        "drive.mount('/content/drive')"
      ],
      "metadata": {
        "id": "i2opUpye3SZv",
        "colab": {
          "base_uri": "https://localhost:8080/"
        },
        "outputId": "5718a477-2625-498b-8016-9bfdc44f4f91"
      },
      "id": "i2opUpye3SZv",
      "execution_count": null,
      "outputs": [
        {
          "output_type": "stream",
          "name": "stdout",
          "text": [
            "Mounted at /content/drive\n"
          ]
        }
      ]
    },
    {
      "cell_type": "code",
      "source": [
        "test_df=pd.read_csv('/content/drive/MyDrive/iM뱅크전처리.csv', encoding='utf-8-sig')"
      ],
      "metadata": {
        "id": "28gnS89t3SNe"
      },
      "id": "28gnS89t3SNe",
      "execution_count": 5,
      "outputs": []
    },
    {
      "cell_type": "code",
      "source": [
        "test_df.info()"
      ],
      "metadata": {
        "colab": {
          "base_uri": "https://localhost:8080/"
        },
        "id": "U4KweZ2_40B4",
        "outputId": "a6ba060f-fe23-43de-bbe6-697a83b66872"
      },
      "id": "U4KweZ2_40B4",
      "execution_count": null,
      "outputs": [
        {
          "output_type": "stream",
          "name": "stdout",
          "text": [
            "<class 'pandas.core.frame.DataFrame'>\n",
            "RangeIndex: 180486016 entries, 0 to 180486015\n",
            "Data columns (total 24 columns):\n",
            " #   Column    Dtype \n",
            "---  ------    ----- \n",
            " 0   거래년월      object\n",
            " 1   고객ID      int64 \n",
            " 2   승인건수      int64 \n",
            " 3   승인금액      int64 \n",
            " 4   연령대       int64 \n",
            " 5   남녀구분코드    int64 \n",
            " 6   고객등급      int64 \n",
            " 7   수신_요구불예금  int64 \n",
            " 8   대출금액      int64 \n",
            " 9   거주시도명_경기  bool  \n",
            " 10  거주시도명_경남  bool  \n",
            " 11  거주시도명_경북  bool  \n",
            " 12  거주시도명_광주  bool  \n",
            " 13  거주시도명_대구  bool  \n",
            " 14  거주시도명_대전  bool  \n",
            " 15  거주시도명_부산  bool  \n",
            " 16  거주시도명_서울  bool  \n",
            " 17  거주시도명_울산  bool  \n",
            " 18  거주시도명_인천  bool  \n",
            " 19  거주시도명_전남  bool  \n",
            " 20  거주시도명_전북  bool  \n",
            " 21  거주시도명_제주  bool  \n",
            " 22  거주시도명_충남  bool  \n",
            " 23  거주시도명_충북  bool  \n",
            "dtypes: bool(15), int64(8), object(1)\n",
            "memory usage: 14.6+ GB\n"
          ]
        }
      ]
    },
    {
      "cell_type": "code",
      "source": [
        "# 고객등급 비율 (%) 확인\n",
        "grade_ratio = test_df['고객등급'].value_counts(normalize=True) * 100\n",
        "print(grade_ratio.sort_index())  # 등급 순으로 정렬하려면 sort_index()\n"
      ],
      "metadata": {
        "id": "5iamAjFl7tWx",
        "colab": {
          "base_uri": "https://localhost:8080/"
        },
        "outputId": "b7228413-b1a5-4074-ac54-93318d9b64d3"
      },
      "id": "5iamAjFl7tWx",
      "execution_count": null,
      "outputs": [
        {
          "output_type": "stream",
          "name": "stdout",
          "text": [
            "고객등급\n",
            "0     0.198858\n",
            "1     6.850464\n",
            "2    92.950678\n",
            "Name: proportion, dtype: float64\n"
          ]
        }
      ]
    },
    {
      "cell_type": "code",
      "source": [
        "import matplotlib.pyplot as plt\n",
        "\n",
        "# 고객등급 비율 계산\n",
        "grade_ratio = test_df['고객등급'].value_counts(normalize=True, dropna=False)\n",
        "grade_ratio = (grade_ratio * 100).round(2)\n",
        "\n",
        "# NaN → 문자열로 변환 (그래프에 표시되게)\n",
        "grade_ratio.index = grade_ratio.index.astype(str)\n",
        "\n",
        "# 🎨 막대마다 다른 색상 지정 (필요 시 색 개수 늘리기)\n",
        "colors = plt.cm.Set3(range(len(grade_ratio)))  # 예: Set3 컬러맵 활용\n",
        "\n",
        "# 막대그래프 그리기\n",
        "plt.figure(figsize=(8, 5))\n",
        "bars = plt.bar(grade_ratio.index, grade_ratio.values, color=colors)\n",
        "plt.xlabel('rank')\n",
        "plt.ylabel('rate (%)')\n",
        "plt.title('rank rate')\n",
        "plt.grid(axis='y', linestyle='--', alpha=0.5)\n",
        "\n",
        "# 막대 위에 퍼센트 표시\n",
        "for bar in bars:\n",
        "    height = bar.get_height()\n",
        "    plt.text(bar.get_x() + bar.get_width()/2, height + 0.5, f'{height:.1f}%',\n",
        "             ha='center', va='bottom', fontsize=10)\n",
        "\n",
        "plt.tight_layout()\n",
        "plt.show()\n"
      ],
      "metadata": {
        "colab": {
          "base_uri": "https://localhost:8080/",
          "height": 507
        },
        "id": "5NHFHNjDgxwA",
        "outputId": "d4c02217-6c78-496e-f208-190d54046277"
      },
      "id": "5NHFHNjDgxwA",
      "execution_count": 7,
      "outputs": [
        {
          "output_type": "display_data",
          "data": {
            "text/plain": [
              "<Figure size 800x500 with 1 Axes>"
            ],
            "image/png": "[encoded data removed]"
          },
          "metadata": {}
        }
      ]
    },
    {
      "cell_type": "code",
      "source": [
        "고객등급\n",
        "0    0.04\n",
        "1    0.01\n",
        "\n",
        "2    5.32\n",
        "\n",
        "3   14.55\n",
        "4   80.09\n",
        "Name: proportion, dtype: float64"
      ],
      "metadata": {
        "id": "a9_PuEIqUzhX"
      },
      "id": "a9_PuEIqUzhX",
      "execution_count": null,
      "outputs": []
    },
    {
      "cell_type": "code",
      "source": [
        "# 먼저 설치 필요 (Colab이나 Jupyter 환경에서는 아래 실행 필요)\n",
        "!pip install xgboost catboost lightgbm --quiet\n"
      ],
      "metadata": {
        "colab": {
          "base_uri": "https://localhost:8080/"
        },
        "id": "HrgD8o5NQmg3",
        "outputId": "80257106-5c48-4026-c37d-2ce17b00b54f"
      },
      "id": "HrgD8o5NQmg3",
      "execution_count": 9,
      "outputs": [
        {
          "output_type": "stream",
          "name": "stdout",
          "text": [
            "\u001b[2K   \u001b[90m━━━━━━━━━━━━━━━━━━━━━━━━━━━━━━━━━━━━━━━━\u001b[0m \u001b[32m253.9/253.9 MB\u001b[0m \u001b[31m4.3 MB/s\u001b[0m eta \u001b[36m0:00:00\u001b[0m\n",
            "\u001b[2K   \u001b[90m━━━━━━━━━━━━━━━━━━━━━━━━━━━━━━━━━━━━━━━━\u001b[0m \u001b[32m99.2/99.2 MB\u001b[0m \u001b[31m11.5 MB/s\u001b[0m eta \u001b[36m0:00:00\u001b[0m\n",
            "\u001b[2K   \u001b[90m━━━━━━━━━━━━━━━━━━━━━━━━━━━━━━━━━━━━━━━━\u001b[0m \u001b[32m3.6/3.6 MB\u001b[0m \u001b[31m91.3 MB/s\u001b[0m eta \u001b[36m0:00:00\u001b[0m\n",
            "\u001b[2K   \u001b[90m━━━━━━━━━━━━━━━━━━━━━━━━━━━━━━━━━━━━━━━━\u001b[0m \u001b[32m47.1/47.1 kB\u001b[0m \u001b[31m1.0 MB/s\u001b[0m eta \u001b[36m0:00:00\u001b[0m\n",
            "\u001b[2K   \u001b[90m━━━━━━━━━━━━━━━━━━━━━━━━━━━━━━━━━━━━━━━━\u001b[0m \u001b[32m291.7/291.7 MB\u001b[0m \u001b[31m3.6 MB/s\u001b[0m eta \u001b[36m0:00:00\u001b[0m\n",
            "\u001b[?25h"
          ]
        }
      ]
    },
    {
      "cell_type": "code",
      "source": [
        "import pickle\n",
        "with open('/content/drive/MyDrive/open/voting_model(D)','rb') as f: #voting, stacking, bagging,rf\n",
        "    voting_dlf= pickle.load(f)"
      ],
      "metadata": {
        "id": "Hj_J1aTFQpr5"
      },
      "id": "Hj_J1aTFQpr5",
      "execution_count": 10,
      "outputs": []
    },
    {
      "cell_type": "code",
      "source": [
        "test_df"
      ],
      "metadata": {
        "colab": {
          "base_uri": "https://localhost:8080/",
          "height": 649
        },
        "id": "GwfrNa8ERxSm",
        "outputId": "6230f872-f687-41c1-ac4f-242f205dc0f8"
      },
      "id": "GwfrNa8ERxSm",
      "execution_count": null,
      "outputs": [
        {
          "output_type": "execute_result",
          "data": {
            "text/plain": [
              "                 거래년월        고객ID  승인건수   승인금액  연령대  남녀구분코드  고객등급  수신_요구불예금  \\\n",
              "0          2021-12-01  4080934272     0  20000    1       1     2   2400000   \n",
              "1          2021-12-01  4116127380     0  20000    1       1     2    200000   \n",
              "2          2021-12-01  2914424833     0  20000    1       1     2    100000   \n",
              "3          2021-12-01  2950007638     0  60000    0       0     2    100000   \n",
              "4          2021-12-01  2931907302     0  10000    1       0     2   4400000   \n",
              "...               ...         ...   ...    ...  ...     ...   ...       ...   \n",
              "180486011  2023-01-01  7210942935     0  50000    4       1     2   3600000   \n",
              "180486012  2023-01-01  3857466791     0  20000    4       0     2    900000   \n",
              "180486013  2023-01-01  4075163762     0  40000    0       0     2         0   \n",
              "180486014  2023-01-01  2956984953     0  10000    1       0     2   7700000   \n",
              "180486015  2023-01-01  8345799655     0  20000    4       0     2    600000   \n",
              "\n",
              "              대출금액  거주시도명_경기  ...  거주시도명_대전  거주시도명_부산  거주시도명_서울  거주시도명_울산  \\\n",
              "0                0     False  ...     False     False     False     False   \n",
              "1                0     False  ...     False     False     False      True   \n",
              "2                0     False  ...     False     False     False     False   \n",
              "3                0     False  ...     False     False     False     False   \n",
              "4                0     False  ...     False     False     False     False   \n",
              "...            ...       ...  ...       ...       ...       ...       ...   \n",
              "180486011        0     False  ...     False     False     False     False   \n",
              "180486012        0     False  ...     False     False     False     False   \n",
              "180486013        0     False  ...     False     False     False     False   \n",
              "180486014        0     False  ...     False     False     False     False   \n",
              "180486015  8800000     False  ...     False     False     False      True   \n",
              "\n",
              "           거주시도명_인천  거주시도명_전남  거주시도명_전북  거주시도명_제주  거주시도명_충남  거주시도명_충북  \n",
              "0             False     False     False     False     False     False  \n",
              "1             False     False     False     False     False     False  \n",
              "2             False     False     False     False     False     False  \n",
              "3             False     False     False     False     False     False  \n",
              "4             False     False     False     False     False     False  \n",
              "...             ...       ...       ...       ...       ...       ...  \n",
              "180486011     False     False     False     False     False     False  \n",
              "180486012     False     False     False     False     False     False  \n",
              "180486013     False     False     False     False     False     False  \n",
              "180486014     False     False     False     False     False     False  \n",
              "180486015     False     False     False     False     False     False  \n",
              "\n",
              "[180486016 rows x 24 columns]"
            ],
            "text/html": [
              "\n",
              "  <div id=\"df-39047dc9-5ec4-439d-8255-94f44c27fb15\" class=\"colab-df-container\">\n",
              "    <div>\n",
              "<style scoped>\n",
              "    .dataframe tbody tr th:only-of-type {\n",
              "        vertical-align: middle;\n",
              "    }\n",
              "\n",
              "    .dataframe tbody tr th {\n",
              "        vertical-align: top;\n",
              "    }\n",
              "\n",
              "    .dataframe thead th {\n",
              "        text-align: right;\n",
              "    }\n",
              "</style>\n",
              "<table border=\"1\" class=\"dataframe\">\n",
              "  <thead>\n",
              "    <tr style=\"text-align: right;\">\n",
              "      <th></th>\n",
              "      <th>거래년월</th>\n",
              "      <th>고객ID</th>\n",
              "      <th>승인건수</th>\n",
              "      <th>승인금액</th>\n",
              "      <th>연령대</th>\n",
              "      <th>남녀구분코드</th>\n",
              "      <th>고객등급</th>\n",
              "      <th>수신_요구불예금</th>\n",
              "      <th>대출금액</th>\n",
              "      <th>거주시도명_경기</th>\n",
              "      <th>...</th>\n",
              "      <th>거주시도명_대전</th>\n",
              "      <th>거주시도명_부산</th>\n",
              "      <th>거주시도명_서울</th>\n",
              "      <th>거주시도명_울산</th>\n",
              "      <th>거주시도명_인천</th>\n",
              "      <th>거주시도명_전남</th>\n",
              "      <th>거주시도명_전북</th>\n",
              "      <th>거주시도명_제주</th>\n",
              "      <th>거주시도명_충남</th>\n",
              "      <th>거주시도명_충북</th>\n",
              "    </tr>\n",
              "  </thead>\n",
              "  <tbody>\n",
              "    <tr>\n",
              "      <th>0</th>\n",
              "      <td>2021-12-01</td>\n",
              "      <td>4080934272</td>\n",
              "      <td>0</td>\n",
              "      <td>20000</td>\n",
              "      <td>1</td>\n",
              "      <td>1</td>\n",
              "      <td>2</td>\n",
              "      <td>2400000</td>\n",
              "      <td>0</td>\n",
              "      <td>False</td>\n",
              "      <td>...</td>\n",
              "      <td>False</td>\n",
              "      <td>False</td>\n",
              "      <td>False</td>\n",
              "      <td>False</td>\n",
              "      <td>False</td>\n",
              "      <td>False</td>\n",
              "      <td>False</td>\n",
              "      <td>False</td>\n",
              "      <td>False</td>\n",
              "      <td>False</td>\n",
              "    </tr>\n",
              "    <tr>\n",
              "      <th>1</th>\n",
              "      <td>2021-12-01</td>\n",
              "      <td>4116127380</td>\n",
              "      <td>0</td>\n",
              "      <td>20000</td>\n",
              "      <td>1</td>\n",
              "      <td>1</td>\n",
              "      <td>2</td>\n",
              "      <td>200000</td>\n",
              "      <td>0</td>\n",
              "      <td>False</td>\n",
              "      <td>...</td>\n",
              "      <td>False</td>\n",
              "      <td>False</td>\n",
              "      <td>False</td>\n",
              "      <td>True</td>\n",
              "      <td>False</td>\n",
              "      <td>False</td>\n",
              "      <td>False</td>\n",
              "      <td>False</td>\n",
              "      <td>False</td>\n",
              "      <td>False</td>\n",
              "    </tr>\n",
              "    <tr>\n",
              "      <th>2</th>\n",
              "      <td>2021-12-01</td>\n",
              "      <td>2914424833</td>\n",
              "      <td>0</td>\n",
              "      <td>20000</td>\n",
              "      <td>1</td>\n",
              "      <td>1</td>\n",
              "      <td>2</td>\n",
              "      <td>100000</td>\n",
              "      <td>0</td>\n",
              "      <td>False</td>\n",
              "      <td>...</td>\n",
              "      <td>False</td>\n",
              "      <td>False</td>\n",
              "      <td>False</td>\n",
              "      <td>False</td>\n",
              "      <td>False</td>\n",
              "      <td>False</td>\n",
              "      <td>False</td>\n",
              "      <td>False</td>\n",
              "      <td>False</td>\n",
              "      <td>False</td>\n",
              "    </tr>\n",
              "    <tr>\n",
              "      <th>3</th>\n",
              "      <td>2021-12-01</td>\n",
              "      <td>2950007638</td>\n",
              "      <td>0</td>\n",
              "      <td>60000</td>\n",
              "      <td>0</td>\n",
              "      <td>0</td>\n",
              "      <td>2</td>\n",
              "      <td>100000</td>\n",
              "      <td>0</td>\n",
              "      <td>False</td>\n",
              "      <td>...</td>\n",
              "      <td>False</td>\n",
              "      <td>False</td>\n",
              "      <td>False</td>\n",
              "      <td>False</td>\n",
              "      <td>False</td>\n",
              "      <td>False</td>\n",
              "      <td>False</td>\n",
              "      <td>False</td>\n",
              "      <td>False</td>\n",
              "      <td>False</td>\n",
              "    </tr>\n",
              "    <tr>\n",
              "      <th>4</th>\n",
              "      <td>2021-12-01</td>\n",
              "      <td>2931907302</td>\n",
              "      <td>0</td>\n",
              "      <td>10000</td>\n",
              "      <td>1</td>\n",
              "      <td>0</td>\n",
              "      <td>2</td>\n",
              "      <td>4400000</td>\n",
              "      <td>0</td>\n",
              "      <td>False</td>\n",
              "      <td>...</td>\n",
              "      <td>False</td>\n",
              "      <td>False</td>\n",
              "      <td>False</td>\n",
              "      <td>False</td>\n",
              "      <td>False</td>\n",
              "      <td>False</td>\n",
              "      <td>False</td>\n",
              "      <td>False</td>\n",
              "      <td>False</td>\n",
              "      <td>False</td>\n",
              "    </tr>\n",
              "    <tr>\n",
              "      <th>...</th>\n",
              "      <td>...</td>\n",
              "      <td>...</td>\n",
              "      <td>...</td>\n",
              "      <td>...</td>\n",
              "      <td>...</td>\n",
              "      <td>...</td>\n",
              "      <td>...</td>\n",
              "      <td>...</td>\n",
              "      <td>...</td>\n",
              "      <td>...</td>\n",
              "      <td>...</td>\n",
              "      <td>...</td>\n",
              "      <td>...</td>\n",
              "      <td>...</td>\n",
              "      <td>...</td>\n",
              "      <td>...</td>\n",
              "      <td>...</td>\n",
              "      <td>...</td>\n",
              "      <td>...</td>\n",
              "      <td>...</td>\n",
              "      <td>...</td>\n",
              "    </tr>\n",
              "    <tr>\n",
              "      <th>180486011</th>\n",
              "      <td>2023-01-01</td>\n",
              "      <td>7210942935</td>\n",
              "      <td>0</td>\n",
              "      <td>50000</td>\n",
              "      <td>4</td>\n",
              "      <td>1</td>\n",
              "      <td>2</td>\n",
              "      <td>3600000</td>\n",
              "      <td>0</td>\n",
              "      <td>False</td>\n",
              "      <td>...</td>\n",
              "      <td>False</td>\n",
              "      <td>False</td>\n",
              "      <td>False</td>\n",
              "      <td>False</td>\n",
              "      <td>False</td>\n",
              "      <td>False</td>\n",
              "      <td>False</td>\n",
              "      <td>False</td>\n",
              "      <td>False</td>\n",
              "      <td>False</td>\n",
              "    </tr>\n",
              "    <tr>\n",
              "      <th>180486012</th>\n",
              "      <td>2023-01-01</td>\n",
              "      <td>3857466791</td>\n",
              "      <td>0</td>\n",
              "      <td>20000</td>\n",
              "      <td>4</td>\n",
              "      <td>0</td>\n",
              "      <td>2</td>\n",
              "      <td>900000</td>\n",
              "      <td>0</td>\n",
              "      <td>False</td>\n",
              "      <td>...</td>\n",
              "      <td>False</td>\n",
              "      <td>False</td>\n",
              "      <td>False</td>\n",
              "      <td>False</td>\n",
              "      <td>False</td>\n",
              "      <td>False</td>\n",
              "      <td>False</td>\n",
              "      <td>False</td>\n",
              "      <td>False</td>\n",
              "      <td>False</td>\n",
              "    </tr>\n",
              "    <tr>\n",
              "      <th>180486013</th>\n",
              "      <td>2023-01-01</td>\n",
              "      <td>4075163762</td>\n",
              "      <td>0</td>\n",
              "      <td>40000</td>\n",
              "      <td>0</td>\n",
              "      <td>0</td>\n",
              "      <td>2</td>\n",
              "      <td>0</td>\n",
              "      <td>0</td>\n",
              "      <td>False</td>\n",
              "      <td>...</td>\n",
              "      <td>False</td>\n",
              "      <td>False</td>\n",
              "      <td>False</td>\n",
              "      <td>False</td>\n",
              "      <td>False</td>\n",
              "      <td>False</td>\n",
              "      <td>False</td>\n",
              "      <td>False</td>\n",
              "      <td>False</td>\n",
              "      <td>False</td>\n",
              "    </tr>\n",
              "    <tr>\n",
              "      <th>180486014</th>\n",
              "      <td>2023-01-01</td>\n",
              "      <td>2956984953</td>\n",
              "      <td>0</td>\n",
              "      <td>10000</td>\n",
              "      <td>1</td>\n",
              "      <td>0</td>\n",
              "      <td>2</td>\n",
              "      <td>7700000</td>\n",
              "      <td>0</td>\n",
              "      <td>False</td>\n",
              "      <td>...</td>\n",
              "      <td>False</td>\n",
              "      <td>False</td>\n",
              "      <td>False</td>\n",
              "      <td>False</td>\n",
              "      <td>False</td>\n",
              "      <td>False</td>\n",
              "      <td>False</td>\n",
              "      <td>False</td>\n",
              "      <td>False</td>\n",
              "      <td>False</td>\n",
              "    </tr>\n",
              "    <tr>\n",
              "      <th>180486015</th>\n",
              "      <td>2023-01-01</td>\n",
              "      <td>8345799655</td>\n",
              "      <td>0</td>\n",
              "      <td>20000</td>\n",
              "      <td>4</td>\n",
              "      <td>0</td>\n",
              "      <td>2</td>\n",
              "      <td>600000</td>\n",
              "      <td>8800000</td>\n",
              "      <td>False</td>\n",
              "      <td>...</td>\n",
              "      <td>False</td>\n",
              "      <td>False</td>\n",
              "      <td>False</td>\n",
              "      <td>True</td>\n",
              "      <td>False</td>\n",
              "      <td>False</td>\n",
              "      <td>False</td>\n",
              "      <td>False</td>\n",
              "      <td>False</td>\n",
              "      <td>False</td>\n",
              "    </tr>\n",
              "  </tbody>\n",
              "</table>\n",
              "<p>180486016 rows × 24 columns</p>\n",
              "</div>\n",
              "    <div class=\"colab-df-buttons\">\n",
              "\n",
              "  <div class=\"colab-df-container\">\n",
              "    <button class=\"colab-df-convert\" onclick=\"convertToInteractive('df-39047dc9-5ec4-439d-8255-94f44c27fb15')\"\n",
              "            title=\"Convert this dataframe to an interactive table.\"\n",
              "            style=\"display:none;\">\n",
              "\n",
              "  <svg xmlns=\"http://www.w3.org/2000/svg\" height=\"24px\" viewBox=\"0 -960 960 960\">\n",
              "    <path d=\"M120-120v-720h720v720H120Zm60-500h600v-160H180v160Zm220 220h160v-160H400v160Zm0 220h160v-160H400v160ZM180-400h160v-160H180v160Zm440 0h160v-160H620v160ZM180-180h160v-160H180v160Zm440 0h160v-160H620v160Z\"/>\n",
              "  </svg>\n",
              "    </button>\n",
              "\n",
              "  <style>\n",
              "    .colab-df-container {\n",
              "      display:flex;\n",
              "      gap: 12px;\n",
              "    }\n",
              "\n",
              "    .colab-df-convert {\n",
              "      background-color: #E8F0FE;\n",
              "      border: none;\n",
              "      border-radius: 50%;\n",
              "      cursor: pointer;\n",
              "      display: none;\n",
              "      fill: #1967D2;\n",
              "      height: 32px;\n",
              "      padding: 0 0 0 0;\n",
              "      width: 32px;\n",
              "    }\n",
              "\n",
              "    .colab-df-convert:hover {\n",
              "      background-color: #E2EBFA;\n",
              "      box-shadow: 0px 1px 2px rgba(60, 64, 67, 0.3), 0px 1px 3px 1px rgba(60, 64, 67, 0.15);\n",
              "      fill: #174EA6;\n",
              "    }\n",
              "\n",
              "    .colab-df-buttons div {\n",
              "      margin-bottom: 4px;\n",
              "    }\n",
              "\n",
              "    [theme=dark] .colab-df-convert {\n",
              "      background-color: #3B4455;\n",
              "      fill: #D2E3FC;\n",
              "    }\n",
              "\n",
              "    [theme=dark] .colab-df-convert:hover {\n",
              "      background-color: #434B5C;\n",
              "      box-shadow: 0px 1px 3px 1px rgba(0, 0, 0, 0.15);\n",
              "      filter: drop-shadow(0px 1px 2px rgba(0, 0, 0, 0.3));\n",
              "      fill: #FFFFFF;\n",
              "    }\n",
              "  </style>\n",
              "\n",
              "    <script>\n",
              "      const buttonEl =\n",
              "        document.querySelector('#df-39047dc9-5ec4-439d-8255-94f44c27fb15 button.colab-df-convert');\n",
              "      buttonEl.style.display =\n",
              "        google.colab.kernel.accessAllowed ? 'block' : 'none';\n",
              "\n",
              "      async function convertToInteractive(key) {\n",
              "        const element = document.querySelector('#df-39047dc9-5ec4-439d-8255-94f44c27fb15');\n",
              "        const dataTable =\n",
              "          await google.colab.kernel.invokeFunction('convertToInteractive',\n",
              "                                                    [key], {});\n",
              "        if (!dataTable) return;\n",
              "\n",
              "        const docLinkHtml = 'Like what you see? Visit the ' +\n",
              "          '<a target=\"_blank\" href=https://colab.research.google.com/notebooks/data_table.ipynb>data table notebook</a>'\n",
              "          + ' to learn more about interactive tables.';\n",
              "        element.innerHTML = '';\n",
              "        dataTable['output_type'] = 'display_data';\n",
              "        await google.colab.output.renderOutput(dataTable, element);\n",
              "        const docLink = document.createElement('div');\n",
              "        docLink.innerHTML = docLinkHtml;\n",
              "        element.appendChild(docLink);\n",
              "      }\n",
              "    </script>\n",
              "  </div>\n",
              "\n",
              "\n",
              "<div id=\"df-39d9df81-0441-419e-b49c-617cced6081e\">\n",
              "  <button class=\"colab-df-quickchart\" onclick=\"quickchart('df-39d9df81-0441-419e-b49c-617cced6081e')\"\n",
              "            title=\"Suggest charts\"\n",
              "            style=\"display:none;\">\n",
              "\n",
              "<svg xmlns=\"http://www.w3.org/2000/svg\" height=\"24px\"viewBox=\"0 0 24 24\"\n",
              "     width=\"24px\">\n",
              "    <g>\n",
              "        <path d=\"M19 3H5c-1.1 0-2 .9-2 2v14c0 1.1.9 2 2 2h14c1.1 0 2-.9 2-2V5c0-1.1-.9-2-2-2zM9 17H7v-7h2v7zm4 0h-2V7h2v10zm4 0h-2v-4h2v4z\"/>\n",
              "    </g>\n",
              "</svg>\n",
              "  </button>\n",
              "\n",
              "<style>\n",
              "  .colab-df-quickchart {\n",
              "      --bg-color: #E8F0FE;\n",
              "      --fill-color: #1967D2;\n",
              "      --hover-bg-color: #E2EBFA;\n",
              "      --hover-fill-color: #174EA6;\n",
              "      --disabled-fill-color: #AAA;\n",
              "      --disabled-bg-color: #DDD;\n",
              "  }\n",
              "\n",
              "  [theme=dark] .colab-df-quickchart {\n",
              "      --bg-color: #3B4455;\n",
              "      --fill-color: #D2E3FC;\n",
              "      --hover-bg-color: #434B5C;\n",
              "      --hover-fill-color: #FFFFFF;\n",
              "      --disabled-bg-color: #3B4455;\n",
              "      --disabled-fill-color: #666;\n",
              "  }\n",
              "\n",
              "  .colab-df-quickchart {\n",
              "    background-color: var(--bg-color);\n",
              "    border: none;\n",
              "    border-radius: 50%;\n",
              "    cursor: pointer;\n",
              "    display: none;\n",
              "    fill: var(--fill-color);\n",
              "    height: 32px;\n",
              "    padding: 0;\n",
              "    width: 32px;\n",
              "  }\n",
              "\n",
              "  .colab-df-quickchart:hover {\n",
              "    background-color: var(--hover-bg-color);\n",
              "    box-shadow: 0 1px 2px rgba(60, 64, 67, 0.3), 0 1px 3px 1px rgba(60, 64, 67, 0.15);\n",
              "    fill: var(--button-hover-fill-color);\n",
              "  }\n",
              "\n",
              "  .colab-df-quickchart-complete:disabled,\n",
              "  .colab-df-quickchart-complete:disabled:hover {\n",
              "    background-color: var(--disabled-bg-color);\n",
              "    fill: var(--disabled-fill-color);\n",
              "    box-shadow: none;\n",
              "  }\n",
              "\n",
              "  .colab-df-spinner {\n",
              "    border: 2px solid var(--fill-color);\n",
              "    border-color: transparent;\n",
              "    border-bottom-color: var(--fill-color);\n",
              "    animation:\n",
              "      spin 1s steps(1) infinite;\n",
              "  }\n",
              "\n",
              "  @keyframes spin {\n",
              "    0% {\n",
              "      border-color: transparent;\n",
              "      border-bottom-color: var(--fill-color);\n",
              "      border-left-color: var(--fill-color);\n",
              "    }\n",
              "    20% {\n",
              "      border-color: transparent;\n",
              "      border-left-color: var(--fill-color);\n",
              "      border-top-color: var(--fill-color);\n",
              "    }\n",
              "    30% {\n",
              "      border-color: transparent;\n",
              "      border-left-color: var(--fill-color);\n",
              "      border-top-color: var(--fill-color);\n",
              "      border-right-color: var(--fill-color);\n",
              "    }\n",
              "    40% {\n",
              "      border-color: transparent;\n",
              "      border-right-color: var(--fill-color);\n",
              "      border-top-color: var(--fill-color);\n",
              "    }\n",
              "    60% {\n",
              "      border-color: transparent;\n",
              "      border-right-color: var(--fill-color);\n",
              "    }\n",
              "    80% {\n",
              "      border-color: transparent;\n",
              "      border-right-color: var(--fill-color);\n",
              "      border-bottom-color: var(--fill-color);\n",
              "    }\n",
              "    90% {\n",
              "      border-color: transparent;\n",
              "      border-bottom-color: var(--fill-color);\n",
              "    }\n",
              "  }\n",
              "</style>\n",
              "\n",
              "  <script>\n",
              "    async function quickchart(key) {\n",
              "      const quickchartButtonEl =\n",
              "        document.querySelector('#' + key + ' button');\n",
              "      quickchartButtonEl.disabled = true;  // To prevent multiple clicks.\n",
              "      quickchartButtonEl.classList.add('colab-df-spinner');\n",
              "      try {\n",
              "        const charts = await google.colab.kernel.invokeFunction(\n",
              "            'suggestCharts', [key], {});\n",
              "      } catch (error) {\n",
              "        console.error('Error during call to suggestCharts:', error);\n",
              "      }\n",
              "      quickchartButtonEl.classList.remove('colab-df-spinner');\n",
              "      quickchartButtonEl.classList.add('colab-df-quickchart-complete');\n",
              "    }\n",
              "    (() => {\n",
              "      let quickchartButtonEl =\n",
              "        document.querySelector('#df-39d9df81-0441-419e-b49c-617cced6081e button');\n",
              "      quickchartButtonEl.style.display =\n",
              "        google.colab.kernel.accessAllowed ? 'block' : 'none';\n",
              "    })();\n",
              "  </script>\n",
              "</div>\n",
              "\n",
              "  <div id=\"id_96021d48-254f-4944-8c73-86532d0db8bb\">\n",
              "    <style>\n",
              "      .colab-df-generate {\n",
              "        background-color: #E8F0FE;\n",
              "        border: none;\n",
              "        border-radius: 50%;\n",
              "        cursor: pointer;\n",
              "        display: none;\n",
              "        fill: #1967D2;\n",
              "        height: 32px;\n",
              "        padding: 0 0 0 0;\n",
              "        width: 32px;\n",
              "      }\n",
              "\n",
              "      .colab-df-generate:hover {\n",
              "        background-color: #E2EBFA;\n",
              "        box-shadow: 0px 1px 2px rgba(60, 64, 67, 0.3), 0px 1px 3px 1px rgba(60, 64, 67, 0.15);\n",
              "        fill: #174EA6;\n",
              "      }\n",
              "\n",
              "      [theme=dark] .colab-df-generate {\n",
              "        background-color: #3B4455;\n",
              "        fill: #D2E3FC;\n",
              "      }\n",
              "\n",
              "      [theme=dark] .colab-df-generate:hover {\n",
              "        background-color: #434B5C;\n",
              "        box-shadow: 0px 1px 3px 1px rgba(0, 0, 0, 0.15);\n",
              "        filter: drop-shadow(0px 1px 2px rgba(0, 0, 0, 0.3));\n",
              "        fill: #FFFFFF;\n",
              "      }\n",
              "    </style>\n",
              "    <button class=\"colab-df-generate\" onclick=\"generateWithVariable('test_df')\"\n",
              "            title=\"Generate code using this dataframe.\"\n",
              "            style=\"display:none;\">\n",
              "\n",
              "  <svg xmlns=\"http://www.w3.org/2000/svg\" height=\"24px\"viewBox=\"0 0 24 24\"\n",
              "       width=\"24px\">\n",
              "    <path d=\"M7,19H8.4L18.45,9,17,7.55,7,17.6ZM5,21V16.75L18.45,3.32a2,2,0,0,1,2.83,0l1.4,1.43a1.91,1.91,0,0,1,.58,1.4,1.91,1.91,0,0,1-.58,1.4L9.25,21ZM18.45,9,17,7.55Zm-12,3A5.31,5.31,0,0,0,4.9,8.1,5.31,5.31,0,0,0,1,6.5,5.31,5.31,0,0,0,4.9,4.9,5.31,5.31,0,0,0,6.5,1,5.31,5.31,0,0,0,8.1,4.9,5.31,5.31,0,0,0,12,6.5,5.46,5.46,0,0,0,6.5,12Z\"/>\n",
              "  </svg>\n",
              "    </button>\n",
              "    <script>\n",
              "      (() => {\n",
              "      const buttonEl =\n",
              "        document.querySelector('#id_96021d48-254f-4944-8c73-86532d0db8bb button.colab-df-generate');\n",
              "      buttonEl.style.display =\n",
              "        google.colab.kernel.accessAllowed ? 'block' : 'none';\n",
              "\n",
              "      buttonEl.onclick = () => {\n",
              "        google.colab.notebook.generateWithVariable('test_df');\n",
              "      }\n",
              "      })();\n",
              "    </script>\n",
              "  </div>\n",
              "\n",
              "    </div>\n",
              "  </div>\n"
            ],
            "application/vnd.google.colaboratory.intrinsic+json": {
              "type": "dataframe",
              "variable_name": "test_df"
            }
          },
          "metadata": {},
          "execution_count": 6
        }
      ]
    },
    {
      "cell_type": "markdown",
      "source": [
        "## 학습 데이터에 맞게 정리"
      ],
      "metadata": {
        "id": "rt6d7U5aRm0G"
      },
      "id": "rt6d7U5aRm0G"
    },
    {
      "cell_type": "code",
      "source": [
        "eval_df = test_df.copy()"
      ],
      "metadata": {
        "id": "p2WukmoEbOlq"
      },
      "id": "p2WukmoEbOlq",
      "execution_count": null,
      "outputs": []
    },
    {
      "cell_type": "code",
      "source": [
        "print(voting_dlf.feature_names_in_)"
      ],
      "metadata": {
        "colab": {
          "base_uri": "https://localhost:8080/"
        },
        "id": "dFMNQfjYdiKk",
        "outputId": "82a7aba3-8043-4a0d-b244-05361d7d973d"
      },
      "id": "dFMNQfjYdiKk",
      "execution_count": null,
      "outputs": [
        {
          "output_type": "stream",
          "name": "stdout",
          "text": [
            "['승인건수' '승인금액' '연령대' '남녀구분코드' '수신_요구불예금' '대출금액' '거주시도명_경기' '거주시도명_경남'\n",
            " '거주시도명_경북' '거주시도명_광주' '거주시도명_대구' '거주시도명_대전' '거주시도명_부산' '거주시도명_서울'\n",
            " '거주시도명_울산' '거주시도명_인천' '거주시도명_전남' '거주시도명_전북' '거주시도명_제주' '거주시도명_충남'\n",
            " '거주시도명_충북']\n"
          ]
        }
      ]
    },
    {
      "cell_type": "code",
      "source": [
        "eval_df.info()"
      ],
      "metadata": {
        "colab": {
          "base_uri": "https://localhost:8080/"
        },
        "id": "KPmuOviEdNuu",
        "outputId": "67f873dd-0640-44e5-eed7-2075ab26f0ed"
      },
      "id": "KPmuOviEdNuu",
      "execution_count": null,
      "outputs": [
        {
          "output_type": "stream",
          "name": "stdout",
          "text": [
            "<class 'pandas.core.frame.DataFrame'>\n",
            "RangeIndex: 180486016 entries, 0 to 180486015\n",
            "Data columns (total 24 columns):\n",
            " #   Column    Dtype \n",
            "---  ------    ----- \n",
            " 0   거래년월      object\n",
            " 1   고객ID      int64 \n",
            " 2   승인건수      int64 \n",
            " 3   승인금액      int64 \n",
            " 4   연령대       int64 \n",
            " 5   남녀구분코드    int64 \n",
            " 6   고객등급      int64 \n",
            " 7   수신_요구불예금  int64 \n",
            " 8   대출금액      int64 \n",
            " 9   거주시도명_경기  bool  \n",
            " 10  거주시도명_경남  bool  \n",
            " 11  거주시도명_경북  bool  \n",
            " 12  거주시도명_광주  bool  \n",
            " 13  거주시도명_대구  bool  \n",
            " 14  거주시도명_대전  bool  \n",
            " 15  거주시도명_부산  bool  \n",
            " 16  거주시도명_서울  bool  \n",
            " 17  거주시도명_울산  bool  \n",
            " 18  거주시도명_인천  bool  \n",
            " 19  거주시도명_전남  bool  \n",
            " 20  거주시도명_전북  bool  \n",
            " 21  거주시도명_제주  bool  \n",
            " 22  거주시도명_충남  bool  \n",
            " 23  거주시도명_충북  bool  \n",
            "dtypes: bool(15), int64(8), object(1)\n",
            "memory usage: 14.6+ GB\n"
          ]
        }
      ]
    },
    {
      "cell_type": "code",
      "source": [
        "# '거래년월'을 datetime으로 변환 후, 연-월까지만 남기기\n",
        "eval_df['거래년월'] = pd.to_datetime(eval_df['거래년월'], errors='coerce').dt.to_period('M').dt.to_timestamp()"
      ],
      "metadata": {
        "id": "mkcFhCDoeGtO"
      },
      "id": "mkcFhCDoeGtO",
      "execution_count": null,
      "outputs": []
    },
    {
      "cell_type": "markdown",
      "source": [
        "## 모델 예측"
      ],
      "metadata": {
        "id": "Yi98eQAJcKPH"
      },
      "id": "Yi98eQAJcKPH"
    },
    {
      "cell_type": "code",
      "source": [
        "from sklearn.metrics import accuracy_score, classification_report\n",
        "\n",
        "# 거래년월을 datetime으로 변환\n",
        "eval_df['거래년월'] = pd.to_datetime(eval_df['거래년월'], errors='coerce')\n",
        "\n",
        "# 모델 학습에 사용했던 피처 중에서,\n",
        "# eval_df에 존재하고, 수치형이며, datetime은 제외한 컬럼만 추출\n",
        "common_cols = [\n",
        "    col for col in voting_dlf.feature_names_in_\n",
        "    if col in eval_df.columns\n",
        "    and pd.api.types.is_numeric_dtype(eval_df[col])\n",
        "    and not pd.api.types.is_datetime64_any_dtype(eval_df[col])\n",
        "]\n",
        "\n",
        "# 예측용 데이터 구성\n",
        "X_eval = eval_df[common_cols]\n",
        "\n",
        "# 예측\n",
        "preds = voting_dlf.predict(X_eval)\n",
        "eval_df['고객등급_예측'] = preds\n",
        "\n",
        "# 5단계 → 3단계로 리매핑\n",
        "def remap_grades(preds):\n",
        "    return pd.Series(preds).map(lambda x: 0 if x in [0, 1] else 1 if x == 2 else 2)\n",
        "\n",
        "eval_df['고객등급_예측_리매핑'] = remap_grades(eval_df['고객등급_예측'])\n",
        "\n",
        "# 성능 평가 (실제값: '고객등급', 예측값: '고객등급_예측_리매핑')\n",
        "print(\"Accuracy:\", accuracy_score(eval_df['고객등급'], eval_df['고객등급_예측_리매핑']))\n",
        "print(\"Classification Report:\\n\", classification_report(eval_df['고객등급'], eval_df['고객등급_예측_리매핑']))\n"
      ],
      "metadata": {
        "colab": {
          "base_uri": "https://localhost:8080/"
        },
        "id": "nYYV3C4nSPCn",
        "outputId": "7ca1d173-68df-44e9-9346-a77038d2ea96"
      },
      "id": "nYYV3C4nSPCn",
      "execution_count": null,
      "outputs": [
        {
          "output_type": "stream",
          "name": "stdout",
          "text": [
            "Accuracy: 0.23004995024102035\n",
            "Classification Report:\n",
            "               precision    recall  f1-score   support\n",
            "\n",
            "           0       0.00      0.01      0.00    358911\n",
            "           1       0.08      0.92      0.14  12364130\n",
            "           2       0.97      0.18      0.30 167762975\n",
            "\n",
            "    accuracy                           0.23 180486016\n",
            "   macro avg       0.35      0.37      0.15 180486016\n",
            "weighted avg       0.91      0.23      0.29 180486016\n",
            "\n"
          ]
        }
      ]
    },
    {
      "cell_type": "code",
      "source": [],
      "metadata": {
        "id": "NkLPk2yOSgF6"
      },
      "id": "NkLPk2yOSgF6",
      "execution_count": null,
      "outputs": []
    }
  ],
  "metadata": {
    "kernelspec": {
      "display_name": "Python 3",
      "name": "python3"
    },
    "language_info": {
      "codemirror_mode": {
        "name": "ipython",
        "version": 3
      },
      "file_extension": ".py",
      "mimetype": "text/x-python",
      "name": "python",
      "nbconvert_exporter": "python",
      "pygments_lexer": "ipython3",
      "version": "3.12.7"
    },
    "colab": {
      "provenance": [],
      "machine_shape": "hm",
      "gpuType": "V28",
      "collapsed_sections": [
        "U0pV-6cnOxja",
        "kqZzy-r2O2by",
        "YSvBbatrOzf1"
      ]
    },
    "accelerator": "TPU"
  },
  "nbformat": 4,
  "nbformat_minor": 5
}