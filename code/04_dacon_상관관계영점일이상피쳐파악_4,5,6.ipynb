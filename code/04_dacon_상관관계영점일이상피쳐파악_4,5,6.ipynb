{
 "cells": [
  {
   "cell_type": "code",
   "execution_count": 1,
   "id": "9a46655b-aa96-4ea6-b715-ac77e23415cc",
   "metadata": {},
   "outputs": [],
   "source": [
    "import pandas as pd\n",
    "import numpy as np\n",
    "import seaborn as sns\n",
    "import matplotlib.pyplot as plt\n",
    "from sklearn.preprocessing import LabelEncoder"
   ]
  },
  {
   "cell_type": "code",
   "execution_count": 2,
   "id": "3cce126a-1390-44d2-ae42-c57b1afccc5c",
   "metadata": {},
   "outputs": [],
   "source": [
    "df1_7=pd.read_parquet('./data/train/1.회원정보/201807_train_회원정보.parquet')\n",
    "df4_7=pd.read_parquet('./data/train/4.청구입금정보/201807_train_청구정보.parquet')\n",
    "df5_7=pd.read_parquet('./data/train/5.잔액정보/201807_train_잔액정보.parquet')\n",
    "df6_7=pd.read_parquet('./data/train/6.채널정보/201807_train_채널정보.parquet')"
   ]
  },
  {
   "cell_type": "code",
   "execution_count": 3,
   "id": "18baaa71-cf27-435a-add1-af449020ee9a",
   "metadata": {},
   "outputs": [],
   "source": [
    "df1_8=pd.read_parquet('./data/train/1.회원정보/201808_train_회원정보.parquet')\n",
    "df4_8=pd.read_parquet('./data/train/4.청구입금정보/201808_train_청구정보.parquet')\n",
    "df5_8=pd.read_parquet('./data/train/5.잔액정보/201808_train_잔액정보.parquet')\n",
    "df6_8=pd.read_parquet('./data/train/6.채널정보/201808_train_채널정보.parquet')"
   ]
  },
  {
   "cell_type": "code",
   "execution_count": 4,
   "id": "b989e686-e306-4129-9941-8e08fd702ec6",
   "metadata": {},
   "outputs": [],
   "source": [
    "df1_9=pd.read_parquet('./data/train/1.회원정보/201809_train_회원정보.parquet')\n",
    "df4_9=pd.read_parquet('./data/train/4.청구입금정보/201809_train_청구정보.parquet')\n",
    "df5_9=pd.read_parquet('./data/train/5.잔액정보/201809_train_잔액정보.parquet')\n",
    "df6_9=pd.read_parquet('./data/train/6.채널정보/201809_train_채널정보.parquet')"
   ]
  },
  {
   "cell_type": "code",
   "execution_count": 5,
   "id": "0b87f670-6507-4cf3-a1ce-4d59b7a68132",
   "metadata": {},
   "outputs": [],
   "source": [
    "df1_10=pd.read_parquet('./data/train/1.회원정보/201810_train_회원정보.parquet')\n",
    "df4_10=pd.read_parquet('./data/train/4.청구입금정보/201810_train_청구정보.parquet')\n",
    "df5_10=pd.read_parquet('./data/train/5.잔액정보/201810_train_잔액정보.parquet')\n",
    "df6_10=pd.read_parquet('./data/train/6.채널정보/201810_train_채널정보.parquet')"
   ]
  },
  {
   "cell_type": "code",
   "execution_count": 6,
   "id": "ed38ecb7-6e99-4950-a687-b3771953516e",
   "metadata": {},
   "outputs": [],
   "source": [
    "df1_11=pd.read_parquet('./data/train/1.회원정보/201811_train_회원정보.parquet')\n",
    "df4_11=pd.read_parquet('./data/train/4.청구입금정보/201811_train_청구정보.parquet')\n",
    "df5_11=pd.read_parquet('./data/train/5.잔액정보/201811_train_잔액정보.parquet')\n",
    "df6_11=pd.read_parquet('./data/train/6.채널정보/201811_train_채널정보.parquet')"
   ]
  },
  {
   "cell_type": "code",
   "execution_count": 7,
   "id": "2f72f6f0-df48-4522-a0c6-b54c077a1f36",
   "metadata": {},
   "outputs": [],
   "source": [
    "df1_12=pd.read_parquet('./data/train/1.회원정보/201812_train_회원정보.parquet')\n",
    "df4_12=pd.read_parquet('./data/train/4.청구입금정보/201812_train_청구정보.parquet')\n",
    "df5_12=pd.read_parquet('./data/train/5.잔액정보/201812_train_잔액정보.parquet')\n",
    "df6_12=pd.read_parquet('./data/train/6.채널정보/201812_train_채널정보.parquet')"
   ]
  },
  {
   "cell_type": "markdown",
   "id": "4025df76-499b-41d7-8cf2-281e4cd61289",
   "metadata": {},
   "source": [
    "## 1. 6개월치 4,5,6 데이터프레임 merge"
   ]
  },
  {
   "cell_type": "code",
   "execution_count": 8,
   "id": "cf572f63-1480-4226-9d94-6fd9e8bf8957",
   "metadata": {},
   "outputs": [],
   "source": [
    "# 월 리스트\n",
    "months = ['7', '8', '9', '10', '11', '12']\n",
    "\n",
    "# 월별 결과 저장 리스트\n",
    "merged_monthly = []\n",
    "\n",
    "for m in months:\n",
    "    # 회원정보에서 ID, 기준년월, Segment만 추출\n",
    "    df1 = globals()[f'df1_{m}'][['ID', '기준년월', 'Segment']]\n",
    "\n",
    "    # 청구/잔액/채널 전체 정보\n",
    "    df4 = globals()[f'df4_{m}']\n",
    "    df5 = globals()[f'df5_{m}']\n",
    "    df6 = globals()[f'df6_{m}']\n",
    "\n",
    "    # ID, 기준년월 기준으로 순차 merge\n",
    "    merged = df1.merge(df4, on=['ID', '기준년월'], how='left') \\\n",
    "                .merge(df5, on=['ID', '기준년월'], how='left') \\\n",
    "                .merge(df6, on=['ID', '기준년월'], how='left')\n",
    "\n",
    "    # 월별 결과 누적\n",
    "    merged_monthly.append(merged)\n",
    "\n",
    "# 전체 월 통합\n",
    "final_df = pd.concat(merged_monthly, ignore_index=True)"
   ]
  },
  {
   "cell_type": "code",
   "execution_count": 9,
   "id": "d8ad3f2a-74c7-452e-ae94-802501f98fee",
   "metadata": {},
   "outputs": [
    {
     "data": {
      "text/html": [
       "<div>\n",
       "<style scoped>\n",
       "    .dataframe tbody tr th:only-of-type {\n",
       "        vertical-align: middle;\n",
       "    }\n",
       "\n",
       "    .dataframe tbody tr th {\n",
       "        vertical-align: top;\n",
       "    }\n",
       "\n",
       "    .dataframe thead th {\n",
       "        text-align: right;\n",
       "    }\n",
       "</style>\n",
       "<table border=\"1\" class=\"dataframe\">\n",
       "  <thead>\n",
       "    <tr style=\"text-align: right;\">\n",
       "      <th></th>\n",
       "      <th>ID</th>\n",
       "      <th>기준년월</th>\n",
       "      <th>Segment</th>\n",
       "      <th>대표결제일</th>\n",
       "      <th>대표결제방법코드</th>\n",
       "      <th>대표청구지고객주소구분코드</th>\n",
       "      <th>대표청구서수령지구분코드</th>\n",
       "      <th>청구서수령방법</th>\n",
       "      <th>청구서발송여부_B0</th>\n",
       "      <th>청구서발송여부_R3M</th>\n",
       "      <th>...</th>\n",
       "      <th>당사PAY_방문횟수_R6M</th>\n",
       "      <th>당사PAY_방문월수_R6M</th>\n",
       "      <th>당사멤버쉽_방문횟수_B0M</th>\n",
       "      <th>당사멤버쉽_방문횟수_R6M</th>\n",
       "      <th>당사멤버쉽_방문월수_R6M</th>\n",
       "      <th>OS구분코드</th>\n",
       "      <th>홈페이지_금융건수_R6M</th>\n",
       "      <th>홈페이지_선결제건수_R6M</th>\n",
       "      <th>홈페이지_금융건수_R3M</th>\n",
       "      <th>홈페이지_선결제건수_R3M</th>\n",
       "    </tr>\n",
       "  </thead>\n",
       "  <tbody>\n",
       "    <tr>\n",
       "      <th>0</th>\n",
       "      <td>TRAIN_000000</td>\n",
       "      <td>201807</td>\n",
       "      <td>D</td>\n",
       "      <td>27</td>\n",
       "      <td>자동이체</td>\n",
       "      <td>미확인</td>\n",
       "      <td>당사페이앱+이메일</td>\n",
       "      <td>문자메세지</td>\n",
       "      <td>1</td>\n",
       "      <td>1</td>\n",
       "      <td>...</td>\n",
       "      <td>0</td>\n",
       "      <td>0</td>\n",
       "      <td>22</td>\n",
       "      <td>221</td>\n",
       "      <td>6</td>\n",
       "      <td>Android</td>\n",
       "      <td>0</td>\n",
       "      <td>0</td>\n",
       "      <td>0</td>\n",
       "      <td>0</td>\n",
       "    </tr>\n",
       "    <tr>\n",
       "      <th>1</th>\n",
       "      <td>TRAIN_000001</td>\n",
       "      <td>201807</td>\n",
       "      <td>E</td>\n",
       "      <td>13</td>\n",
       "      <td>자동이체</td>\n",
       "      <td>주거지</td>\n",
       "      <td>우편</td>\n",
       "      <td>우편</td>\n",
       "      <td>1</td>\n",
       "      <td>1</td>\n",
       "      <td>...</td>\n",
       "      <td>0</td>\n",
       "      <td>0</td>\n",
       "      <td>0</td>\n",
       "      <td>0</td>\n",
       "      <td>0</td>\n",
       "      <td>None</td>\n",
       "      <td>0</td>\n",
       "      <td>0</td>\n",
       "      <td>0</td>\n",
       "      <td>0</td>\n",
       "    </tr>\n",
       "    <tr>\n",
       "      <th>2</th>\n",
       "      <td>TRAIN_000002</td>\n",
       "      <td>201807</td>\n",
       "      <td>C</td>\n",
       "      <td>1</td>\n",
       "      <td>자동이체</td>\n",
       "      <td>미확인</td>\n",
       "      <td>이메일</td>\n",
       "      <td>이메일</td>\n",
       "      <td>1</td>\n",
       "      <td>1</td>\n",
       "      <td>...</td>\n",
       "      <td>0</td>\n",
       "      <td>0</td>\n",
       "      <td>0</td>\n",
       "      <td>0</td>\n",
       "      <td>0</td>\n",
       "      <td>Android</td>\n",
       "      <td>11</td>\n",
       "      <td>6</td>\n",
       "      <td>5</td>\n",
       "      <td>5</td>\n",
       "    </tr>\n",
       "    <tr>\n",
       "      <th>3</th>\n",
       "      <td>TRAIN_000003</td>\n",
       "      <td>201807</td>\n",
       "      <td>D</td>\n",
       "      <td>5</td>\n",
       "      <td>자동이체</td>\n",
       "      <td>주거지</td>\n",
       "      <td>우편</td>\n",
       "      <td>우편</td>\n",
       "      <td>1</td>\n",
       "      <td>1</td>\n",
       "      <td>...</td>\n",
       "      <td>0</td>\n",
       "      <td>0</td>\n",
       "      <td>23</td>\n",
       "      <td>219</td>\n",
       "      <td>6</td>\n",
       "      <td>Android</td>\n",
       "      <td>0</td>\n",
       "      <td>0</td>\n",
       "      <td>0</td>\n",
       "      <td>0</td>\n",
       "    </tr>\n",
       "    <tr>\n",
       "      <th>4</th>\n",
       "      <td>TRAIN_000004</td>\n",
       "      <td>201807</td>\n",
       "      <td>E</td>\n",
       "      <td>13</td>\n",
       "      <td>자동이체</td>\n",
       "      <td>주거지</td>\n",
       "      <td>우편</td>\n",
       "      <td>우편</td>\n",
       "      <td>0</td>\n",
       "      <td>1</td>\n",
       "      <td>...</td>\n",
       "      <td>0</td>\n",
       "      <td>0</td>\n",
       "      <td>0</td>\n",
       "      <td>0</td>\n",
       "      <td>0</td>\n",
       "      <td>Android</td>\n",
       "      <td>0</td>\n",
       "      <td>0</td>\n",
       "      <td>0</td>\n",
       "      <td>0</td>\n",
       "    </tr>\n",
       "    <tr>\n",
       "      <th>...</th>\n",
       "      <td>...</td>\n",
       "      <td>...</td>\n",
       "      <td>...</td>\n",
       "      <td>...</td>\n",
       "      <td>...</td>\n",
       "      <td>...</td>\n",
       "      <td>...</td>\n",
       "      <td>...</td>\n",
       "      <td>...</td>\n",
       "      <td>...</td>\n",
       "      <td>...</td>\n",
       "      <td>...</td>\n",
       "      <td>...</td>\n",
       "      <td>...</td>\n",
       "      <td>...</td>\n",
       "      <td>...</td>\n",
       "      <td>...</td>\n",
       "      <td>...</td>\n",
       "      <td>...</td>\n",
       "      <td>...</td>\n",
       "      <td>...</td>\n",
       "    </tr>\n",
       "    <tr>\n",
       "      <th>2399995</th>\n",
       "      <td>TRAIN_399995</td>\n",
       "      <td>201812</td>\n",
       "      <td>E</td>\n",
       "      <td>25</td>\n",
       "      <td>자동이체</td>\n",
       "      <td>주거지</td>\n",
       "      <td>우편</td>\n",
       "      <td>우편</td>\n",
       "      <td>0</td>\n",
       "      <td>0</td>\n",
       "      <td>...</td>\n",
       "      <td>0</td>\n",
       "      <td>0</td>\n",
       "      <td>0</td>\n",
       "      <td>0</td>\n",
       "      <td>0</td>\n",
       "      <td>None</td>\n",
       "      <td>0</td>\n",
       "      <td>0</td>\n",
       "      <td>0</td>\n",
       "      <td>0</td>\n",
       "    </tr>\n",
       "    <tr>\n",
       "      <th>2399996</th>\n",
       "      <td>TRAIN_399996</td>\n",
       "      <td>201812</td>\n",
       "      <td>D</td>\n",
       "      <td>20</td>\n",
       "      <td>자동이체</td>\n",
       "      <td>미확인</td>\n",
       "      <td>이메일</td>\n",
       "      <td>이메일</td>\n",
       "      <td>1</td>\n",
       "      <td>1</td>\n",
       "      <td>...</td>\n",
       "      <td>0</td>\n",
       "      <td>0</td>\n",
       "      <td>0</td>\n",
       "      <td>0</td>\n",
       "      <td>1</td>\n",
       "      <td>None</td>\n",
       "      <td>0</td>\n",
       "      <td>0</td>\n",
       "      <td>0</td>\n",
       "      <td>0</td>\n",
       "    </tr>\n",
       "    <tr>\n",
       "      <th>2399997</th>\n",
       "      <td>TRAIN_399997</td>\n",
       "      <td>201812</td>\n",
       "      <td>C</td>\n",
       "      <td>20</td>\n",
       "      <td>자동이체</td>\n",
       "      <td>회사</td>\n",
       "      <td>우편</td>\n",
       "      <td>우편</td>\n",
       "      <td>1</td>\n",
       "      <td>1</td>\n",
       "      <td>...</td>\n",
       "      <td>0</td>\n",
       "      <td>0</td>\n",
       "      <td>0</td>\n",
       "      <td>0</td>\n",
       "      <td>0</td>\n",
       "      <td>None</td>\n",
       "      <td>0</td>\n",
       "      <td>0</td>\n",
       "      <td>0</td>\n",
       "      <td>0</td>\n",
       "    </tr>\n",
       "    <tr>\n",
       "      <th>2399998</th>\n",
       "      <td>TRAIN_399998</td>\n",
       "      <td>201812</td>\n",
       "      <td>E</td>\n",
       "      <td>20</td>\n",
       "      <td>자동이체</td>\n",
       "      <td>주거지</td>\n",
       "      <td>우편</td>\n",
       "      <td>우편</td>\n",
       "      <td>0</td>\n",
       "      <td>0</td>\n",
       "      <td>...</td>\n",
       "      <td>0</td>\n",
       "      <td>0</td>\n",
       "      <td>0</td>\n",
       "      <td>0</td>\n",
       "      <td>0</td>\n",
       "      <td>None</td>\n",
       "      <td>0</td>\n",
       "      <td>0</td>\n",
       "      <td>0</td>\n",
       "      <td>0</td>\n",
       "    </tr>\n",
       "    <tr>\n",
       "      <th>2399999</th>\n",
       "      <td>TRAIN_399999</td>\n",
       "      <td>201812</td>\n",
       "      <td>E</td>\n",
       "      <td>23</td>\n",
       "      <td>자동이체</td>\n",
       "      <td>주거지</td>\n",
       "      <td>우편</td>\n",
       "      <td>우편</td>\n",
       "      <td>1</td>\n",
       "      <td>1</td>\n",
       "      <td>...</td>\n",
       "      <td>0</td>\n",
       "      <td>0</td>\n",
       "      <td>0</td>\n",
       "      <td>0</td>\n",
       "      <td>0</td>\n",
       "      <td>None</td>\n",
       "      <td>0</td>\n",
       "      <td>0</td>\n",
       "      <td>0</td>\n",
       "      <td>0</td>\n",
       "    </tr>\n",
       "  </tbody>\n",
       "</table>\n",
       "<p>2400000 rows × 230 columns</p>\n",
       "</div>"
      ],
      "text/plain": [
       "                   ID    기준년월 Segment  대표결제일 대표결제방법코드 대표청구지고객주소구분코드  \\\n",
       "0        TRAIN_000000  201807       D     27     자동이체           미확인   \n",
       "1        TRAIN_000001  201807       E     13     자동이체           주거지   \n",
       "2        TRAIN_000002  201807       C      1     자동이체           미확인   \n",
       "3        TRAIN_000003  201807       D      5     자동이체           주거지   \n",
       "4        TRAIN_000004  201807       E     13     자동이체           주거지   \n",
       "...               ...     ...     ...    ...      ...           ...   \n",
       "2399995  TRAIN_399995  201812       E     25     자동이체           주거지   \n",
       "2399996  TRAIN_399996  201812       D     20     자동이체           미확인   \n",
       "2399997  TRAIN_399997  201812       C     20     자동이체            회사   \n",
       "2399998  TRAIN_399998  201812       E     20     자동이체           주거지   \n",
       "2399999  TRAIN_399999  201812       E     23     자동이체           주거지   \n",
       "\n",
       "        대표청구서수령지구분코드 청구서수령방법  청구서발송여부_B0  청구서발송여부_R3M  ...  당사PAY_방문횟수_R6M  \\\n",
       "0          당사페이앱+이메일   문자메세지           1            1  ...               0   \n",
       "1                 우편      우편           1            1  ...               0   \n",
       "2                이메일     이메일           1            1  ...               0   \n",
       "3                 우편      우편           1            1  ...               0   \n",
       "4                 우편      우편           0            1  ...               0   \n",
       "...              ...     ...         ...          ...  ...             ...   \n",
       "2399995           우편      우편           0            0  ...               0   \n",
       "2399996          이메일     이메일           1            1  ...               0   \n",
       "2399997           우편      우편           1            1  ...               0   \n",
       "2399998           우편      우편           0            0  ...               0   \n",
       "2399999           우편      우편           1            1  ...               0   \n",
       "\n",
       "         당사PAY_방문월수_R6M  당사멤버쉽_방문횟수_B0M  당사멤버쉽_방문횟수_R6M  당사멤버쉽_방문월수_R6M  \\\n",
       "0                     0              22             221               6   \n",
       "1                     0               0               0               0   \n",
       "2                     0               0               0               0   \n",
       "3                     0              23             219               6   \n",
       "4                     0               0               0               0   \n",
       "...                 ...             ...             ...             ...   \n",
       "2399995               0               0               0               0   \n",
       "2399996               0               0               0               1   \n",
       "2399997               0               0               0               0   \n",
       "2399998               0               0               0               0   \n",
       "2399999               0               0               0               0   \n",
       "\n",
       "          OS구분코드  홈페이지_금융건수_R6M  홈페이지_선결제건수_R6M  홈페이지_금융건수_R3M  홈페이지_선결제건수_R3M  \n",
       "0        Android              0               0              0               0  \n",
       "1           None              0               0              0               0  \n",
       "2        Android             11               6              5               5  \n",
       "3        Android              0               0              0               0  \n",
       "4        Android              0               0              0               0  \n",
       "...          ...            ...             ...            ...             ...  \n",
       "2399995     None              0               0              0               0  \n",
       "2399996     None              0               0              0               0  \n",
       "2399997     None              0               0              0               0  \n",
       "2399998     None              0               0              0               0  \n",
       "2399999     None              0               0              0               0  \n",
       "\n",
       "[2400000 rows x 230 columns]"
      ]
     },
     "execution_count": 9,
     "metadata": {},
     "output_type": "execute_result"
    }
   ],
   "source": [
    "final_df"
   ]
  },
  {
   "cell_type": "markdown",
   "id": "5fbbc7d7-fc10-4633-8079-73eeb8943bb5",
   "metadata": {},
   "source": [
    "## 2. 데이터 전처리"
   ]
  },
  {
   "cell_type": "markdown",
   "id": "e4ee2dd4-ccc0-4cb7-81f1-e525a9986541",
   "metadata": {},
   "source": [
    "#### datetime 변환"
   ]
  },
  {
   "cell_type": "code",
   "execution_count": 10,
   "id": "c9589e07-0978-4ccf-9aa0-323b67f0d8ab",
   "metadata": {},
   "outputs": [
    {
     "name": "stdout",
     "output_type": "stream",
     "text": [
      "final_df에 존재하는 날짜 관련 컬럼:\n",
      "['기준년월']\n"
     ]
    }
   ],
   "source": [
    "# 확인하고 싶은 컬럼 리스트\n",
    "date_columns = [\n",
    "    '기준년월',\n",
    "    '입회일자_신용',\n",
    "    '최종유효년월_신용_이용가능',\n",
    "    '최종유효년월_신용_이용',\n",
    "    '최종카드발급일자',\n",
    "    'RV신청일자',\n",
    "    '최종이용일자_기본',\n",
    "    '최종이용일자_신판',\n",
    "    '최종이용일자_CA',\n",
    "    '최종이용일자_카드론',\n",
    "    '최종이용일자_체크',\n",
    "    '최종이용일자_일시불',\n",
    "    '최종이용일자_할부',\n",
    "    '최종카드론_대출일자'\n",
    "]\n",
    "\n",
    "# 실제 존재하는 컬럼만 추출\n",
    "existing_columns = [col for col in date_columns if col in final_df.columns]\n",
    "\n",
    "# 결과 출력\n",
    "print(\"final_df에 존재하는 날짜 관련 컬럼:\")\n",
    "print(existing_columns)"
   ]
  },
  {
   "cell_type": "code",
   "execution_count": 11,
   "id": "506de732-d167-4573-81b1-94b575d546d1",
   "metadata": {},
   "outputs": [],
   "source": [
    "# 기준년월: datetime 변환\n",
    "final_df['기준년월'] = pd.to_datetime(\n",
    "    final_df['기준년월'].astype(str).where(final_df['기준년월'].astype(str).str.match(r'^\\d{6}$')),\n",
    "    format='%Y%m',\n",
    "    errors='coerce'\n",
    ")"
   ]
  },
  {
   "cell_type": "markdown",
   "id": "4feee5de-e887-45d2-908e-e95bbbb2badb",
   "metadata": {},
   "source": [
    "#### 고유값이 하나인 범주형데이터_피처 삭제"
   ]
  },
  {
   "cell_type": "code",
   "execution_count": 12,
   "id": "5e344284-7558-49a6-89f6-68e32b9e6e14",
   "metadata": {},
   "outputs": [
    {
     "name": "stdout",
     "output_type": "stream",
     "text": [
      "범주형 변수 목록:\n",
      "['ID', 'Segment', '대표결제방법코드', '대표청구지고객주소구분코드', '대표청구서수령지구분코드', '청구서수령방법', '할인건수_R3M', '할인건수_B0M', '인입횟수_ARS_R6M', '이용메뉴건수_ARS_R6M', '방문횟수_PC_R6M', '방문일수_PC_R6M', '방문횟수_앱_R6M', 'OS구분코드']\n"
     ]
    }
   ],
   "source": [
    "# 데이터 타입이 object이거나 category인 컬럼 추출\n",
    "categorical_columns = final_df.select_dtypes(include=['object', 'category']).columns.tolist()\n",
    "\n",
    "print(\"범주형 변수 목록:\")\n",
    "print(categorical_columns)"
   ]
  },
  {
   "cell_type": "code",
   "execution_count": 13,
   "id": "9047ea46-da7c-4c59-9119-20f8018a43e0",
   "metadata": {},
   "outputs": [
    {
     "name": "stdout",
     "output_type": "stream",
     "text": [
      "값이 하나뿐인 범주형 변수:\n",
      "['대표결제방법코드']\n"
     ]
    }
   ],
   "source": [
    "# 범주형 변수 추출\n",
    "categorical_columns = final_df.select_dtypes(include=['object', 'category']).columns\n",
    "\n",
    "# 유일한 값이 하나만 존재하는 컬럼 찾기\n",
    "single_value_columns = [col for col in categorical_columns if final_df[col].nunique(dropna=False) == 1]\n",
    "\n",
    "print(\"값이 하나뿐인 범주형 변수:\")\n",
    "print(single_value_columns)"
   ]
  },
  {
   "cell_type": "code",
   "execution_count": 14,
   "id": "1907741e-a584-4fb6-897b-84f426dfbe81",
   "metadata": {},
   "outputs": [
    {
     "data": {
      "text/plain": [
       "14"
      ]
     },
     "execution_count": 14,
     "metadata": {},
     "output_type": "execute_result"
    }
   ],
   "source": [
    "len(categorical_columns)"
   ]
  },
  {
   "cell_type": "code",
   "execution_count": 15,
   "id": "0bded18f-19e8-4030-ab41-e4c262bb7351",
   "metadata": {},
   "outputs": [],
   "source": [
    "final_df = final_df.drop(columns=['대표결제방법코드'])"
   ]
  },
  {
   "cell_type": "code",
   "execution_count": 16,
   "id": "332d1743-33ad-479f-8548-f651ffe1c5b8",
   "metadata": {},
   "outputs": [
    {
     "name": "stdout",
     "output_type": "stream",
     "text": [
      "False\n"
     ]
    }
   ],
   "source": [
    "print('대표결제방법코드' in final_df.columns)  # False면 성공"
   ]
  },
  {
   "cell_type": "markdown",
   "id": "36231dee-b931-4a0c-bd09-a2a70bb41db3",
   "metadata": {},
   "source": [
    "#### 결측치 처리"
   ]
  },
  {
   "cell_type": "code",
   "execution_count": 17,
   "id": "43d8539d-5eb4-488f-aaee-0b978798d2a1",
   "metadata": {},
   "outputs": [
    {
     "name": "stdout",
     "output_type": "stream",
     "text": [
      "     Column  MissingValues\n",
      "0  연체일자_B0M        2394336\n",
      "1    OS구분코드        1633566\n"
     ]
    }
   ],
   "source": [
    "# 결측치가 있는 칼럼과 결측치 수\n",
    "null_columns = final_df.isnull().sum()\n",
    "null_columns = null_columns[null_columns > 0].sort_values(ascending=False)\n",
    "\n",
    "# 보기 좋게 DataFrame으로 출력\n",
    "null_df = null_columns.reset_index()\n",
    "null_df.columns = ['Column', 'MissingValues']\n",
    "\n",
    "print(null_df)"
   ]
  },
  {
   "cell_type": "code",
   "execution_count": 18,
   "id": "fa60e03a-30a4-435a-a2f8-0cad147461c3",
   "metadata": {},
   "outputs": [
    {
     "name": "stdout",
     "output_type": "stream",
     "text": [
      "   연체일자_B0M\n",
      "0         0\n",
      "1         0\n",
      "2         0\n",
      "3         0\n",
      "4         0\n"
     ]
    }
   ],
   "source": [
    "label_date_cols = ['연체일자_B0M']\n",
    "\n",
    "# 각 컬럼에 대해 결측치 → '0' 대체 후 라벨 인코딩\n",
    "for col in label_date_cols:\n",
    "    # NaN → '0' 문자열로 대체 (숫자 → 문자열)\n",
    "    final_df[col] = final_df[col].fillna(0).astype(int).astype(str)\n",
    "\n",
    "    # 라벨 인코딩\n",
    "    le = LabelEncoder()\n",
    "    final_df[col] = le.fit_transform(final_df[col])\n",
    "\n",
    "# 결과 예시 출력\n",
    "print(final_df[label_date_cols].head())"
   ]
  },
  {
   "cell_type": "code",
   "execution_count": 19,
   "id": "9486a699-458e-4182-8d12-1897b133d8f0",
   "metadata": {},
   "outputs": [
    {
     "name": "stdout",
     "output_type": "stream",
     "text": [
      "             ID  연체일자_B0M\n",
      "0  TRAIN_000000         0\n",
      "1  TRAIN_000001         0\n",
      "2  TRAIN_000002         0\n",
      "3  TRAIN_000003         0\n",
      "4  TRAIN_000004         0\n"
     ]
    }
   ],
   "source": [
    "print(final_df[['ID'] + label_date_cols].head())"
   ]
  },
  {
   "cell_type": "code",
   "execution_count": 20,
   "id": "f6098030-2142-47f0-8fb3-9d3985fd66da",
   "metadata": {
    "scrolled": true
   },
   "outputs": [
    {
     "name": "stdout",
     "output_type": "stream",
     "text": [
      "   OS_Android  OS_IOS  OS_그외\n",
      "0        True   False  False\n",
      "1       False   False   True\n",
      "2        True   False  False\n",
      "3        True   False  False\n",
      "4        True   False  False\n"
     ]
    }
   ],
   "source": [
    "# 결측값을 '그외'로 채움\n",
    "final_df['OS구분코드'] = final_df['OS구분코드'].fillna('그외')\n",
    "\n",
    "# 원핫 인코딩 수행\n",
    "final_df = pd.get_dummies(final_df, columns=['OS구분코드'], prefix='OS')\n",
    "\n",
    "# 결과 확인 (앞 몇 칼럼만)\n",
    "print(final_df.filter(like='OS_').head())"
   ]
  },
  {
   "cell_type": "markdown",
   "id": "cc41c74b-63b6-4353-ad9c-460af9b0cd07",
   "metadata": {},
   "source": [
    "### 미이용 처리"
   ]
  },
  {
   "cell_type": "code",
   "execution_count": 21,
   "id": "0fe351c3-9e72-4442-972e-86de343c4bf5",
   "metadata": {},
   "outputs": [
    {
     "data": {
      "text/plain": [
       "array([-999999,       0,       1], dtype=int64)"
      ]
     },
     "execution_count": 21,
     "metadata": {},
     "output_type": "execute_result"
    }
   ],
   "source": [
    "final_df.연체일수_B1M.unique()"
   ]
  },
  {
   "cell_type": "code",
   "execution_count": 22,
   "id": "295cdcab-8999-4d83-9517-162232ad3fb7",
   "metadata": {},
   "outputs": [
    {
     "data": {
      "text/plain": [
       "array([-999999,       0,       1], dtype=int64)"
      ]
     },
     "execution_count": 22,
     "metadata": {},
     "output_type": "execute_result"
    }
   ],
   "source": [
    "final_df.연체일수_B2M.unique()"
   ]
  },
  {
   "cell_type": "code",
   "execution_count": 23,
   "id": "43998bca-4d87-4733-9689-78597dd8f3d1",
   "metadata": {},
   "outputs": [
    {
     "name": "stderr",
     "output_type": "stream",
     "text": [
      "C:\\Users\\campus4D042\\AppData\\Local\\Temp\\ipykernel_1212\\3798133708.py:1: FutureWarning: Setting an item of incompatible dtype is deprecated and will raise an error in a future version of pandas. Value '미이용' has dtype incompatible with int64, please explicitly cast to a compatible dtype first.\n",
      "  final_df.loc[final_df.연체일수_B1M == -999999, '연체일수_B1M'] = '미이용'\n"
     ]
    }
   ],
   "source": [
    "final_df.loc[final_df.연체일수_B1M == -999999, '연체일수_B1M'] = '미이용'"
   ]
  },
  {
   "cell_type": "code",
   "execution_count": 24,
   "id": "fa71b128-c7a3-44e5-99bd-31cd2b35d8a4",
   "metadata": {},
   "outputs": [
    {
     "name": "stderr",
     "output_type": "stream",
     "text": [
      "C:\\Users\\campus4D042\\AppData\\Local\\Temp\\ipykernel_1212\\379174806.py:1: FutureWarning: Setting an item of incompatible dtype is deprecated and will raise an error in a future version of pandas. Value '미이용' has dtype incompatible with int64, please explicitly cast to a compatible dtype first.\n",
      "  final_df.loc[final_df.연체일수_B2M == -999999, '연체일수_B2M'] = '미이용'\n"
     ]
    }
   ],
   "source": [
    "final_df.loc[final_df.연체일수_B2M == -999999, '연체일수_B2M'] = '미이용'"
   ]
  },
  {
   "cell_type": "markdown",
   "id": "a2857da1-093a-4610-9b60-6687a0cdf8cc",
   "metadata": {},
   "source": [
    "#### 범주형데이터 찾기(int or float -> category)"
   ]
  },
  {
   "cell_type": "code",
   "execution_count": 26,
   "id": "c90bea2c-48b4-4c41-9ba7-6375e19d2d8a",
   "metadata": {},
   "outputs": [],
   "source": [
    "# 변환 대상 컬럼 리스트\n",
    "category_cols = ['최종카드론_금융상환방식코드',\n",
    "    '남녀구분코드', '회원여부_이용가능', '회원여부_이용가능_CA',\n",
    "    '회원여부_이용가능_카드론', '소지여부_신용', '회원여부_연체',\n",
    "    '이용거절여부_카드론', '동의여부_한도증액안내', '수신거부여부_TM',\n",
    "    '수신거부여부_DM', '수신거부여부_메일', '수신거부여부_SMS',\n",
    "    '마케팅동의여부', '보유여부_해외겸용_본인', '이용가능여부_해외겸용_본인',\n",
    "    '이용여부_3M_해외겸용_본인', '보유여부_해외겸용_신용_본인',\n",
    "    '이용가능여부_해외겸용_신용_본인', '이용여부_3M_해외겸용_신용_본인',\n",
    "    '일시불ONLY전환가능여부', '연체감액여부_R3M', '시장단기연체여부_R6M',\n",
    "    '시장단기연체여부_R3M', '청구서발송여부_B0', '청구서발송여부_R3M',\n",
    "    '청구서발송여부_R6M'\n",
    "]\n",
    "# 실제 존재하는 컬럼만 선택\n",
    "existing_cols = [col for col in category_cols if col in final_df.columns]\n",
    "# 선택된 컬럼들을 category 타입으로 변환\n",
    "final_df[existing_cols] = final_df[existing_cols].astype('category')"
   ]
  },
  {
   "cell_type": "code",
   "execution_count": 27,
   "id": "d8b791f7-d61a-41e4-aa03-54482ec5ba48",
   "metadata": {},
   "outputs": [
    {
     "data": {
      "text/plain": [
       "['청구서발송여부_B0', '청구서발송여부_R3M', '청구서발송여부_R6M']"
      ]
     },
     "execution_count": 27,
     "metadata": {},
     "output_type": "execute_result"
    }
   ],
   "source": [
    "existing_cols"
   ]
  },
  {
   "cell_type": "markdown",
   "id": "a9b8a23f-5467-4c7a-b4ec-313d6283d934",
   "metadata": {},
   "source": [
    "#### 범주형데이터 인코딩"
   ]
  },
  {
   "cell_type": "code",
   "execution_count": 28,
   "id": "b371d4cf-d0ef-45f6-9ac6-41f19908e3c3",
   "metadata": {},
   "outputs": [
    {
     "name": "stdout",
     "output_type": "stream",
     "text": [
      "Index(['ID', 'Segment', '대표결제방법코드', '대표청구지고객주소구분코드', '대표청구서수령지구분코드', '청구서수령방법',\n",
      "       '할인건수_R3M', '할인건수_B0M', '인입횟수_ARS_R6M', '이용메뉴건수_ARS_R6M', '방문횟수_PC_R6M',\n",
      "       '방문일수_PC_R6M', '방문횟수_앱_R6M', 'OS구분코드'],\n",
      "      dtype='object')\n"
     ]
    }
   ],
   "source": [
    "print(categorical_columns)"
   ]
  },
  {
   "cell_type": "code",
   "execution_count": 29,
   "id": "4ad5919b-0ddd-41f0-b9b2-84fb20c1e886",
   "metadata": {},
   "outputs": [],
   "source": [
    "one_hot_cols = ['청구서발송여부_B0', '청구서발송여부_R3M', '청구서발송여부_R6M', '연체일수_B1M', '연체일수_B2M']\n",
    "final_df = pd.get_dummies(final_df, columns=one_hot_cols, prefix=one_hot_cols)"
   ]
  },
  {
   "cell_type": "code",
   "execution_count": 30,
   "id": "90d90c22-f165-4838-810d-b171bb871261",
   "metadata": {},
   "outputs": [
    {
     "name": "stdout",
     "output_type": "stream",
     "text": [
      "인코딩 완료. final_df shape: (2400000, 251)\n"
     ]
    }
   ],
   "source": [
    "# 인코딩 대상 컬럼\n",
    "one_hot_cols = [\n",
    "    '대표청구지고객주소구분코드',\n",
    "    '대표청구서수령지구분코드',\n",
    "    '청구서수령방법'\n",
    "]\n",
    "\n",
    "label_encode_cols = [\n",
    "    '할인건수_R3M',\n",
    "    '할인건수_B0M',\n",
    "    '인입횟수_ARS_R6M',\n",
    "    '이용메뉴건수_ARS_R6M',\n",
    "    '방문횟수_PC_R6M',\n",
    "    '방문일수_PC_R6M',\n",
    "    '방문횟수_앱_R6M'\n",
    "]\n",
    "\n",
    "# 1. 원핫 인코딩\n",
    "final_df = pd.get_dummies(final_df, columns=one_hot_cols, prefix=one_hot_cols)\n",
    "\n",
    "# 2. 라벨 인코딩 (올인원 스타일)\n",
    "le = LabelEncoder()\n",
    "for col in label_encode_cols:\n",
    "    final_df[col] = final_df[col].fillna('NaN')  # 결측치 임시 문자열 처리\n",
    "    final_df[col] = le.fit_transform(final_df[col].astype(str))\n",
    "\n",
    "# 결과 확인\n",
    "print(\"인코딩 완료. final_df shape:\", final_df.shape)"
   ]
  },
  {
   "cell_type": "code",
   "execution_count": 31,
   "id": "c0990394-7b5d-4f54-ae85-75745c11f08e",
   "metadata": {},
   "outputs": [
    {
     "name": "stdout",
     "output_type": "stream",
     "text": [
      "라벨 인코딩 매핑 결과:\n",
      "A → 0\n",
      "B → 1\n",
      "C → 2\n",
      "D → 3\n",
      "E → 4\n"
     ]
    }
   ],
   "source": [
    "# 라벨 인코더 선언\n",
    "le = LabelEncoder()\n",
    "\n",
    "# 결측치가 있다면 임시 문자열로 대체\n",
    "final_df['Segment'] = final_df['Segment'].fillna('NaN')\n",
    "\n",
    "# 인코딩 수행 (기존 Segment 칼럼 덮어쓰기)\n",
    "final_df['Segment'] = le.fit_transform(final_df['Segment'])\n",
    "\n",
    "# 인코딩된 값 확인\n",
    "label_mapping = dict(zip(le.classes_, le.transform(le.classes_)))\n",
    "print(\"라벨 인코딩 매핑 결과:\")\n",
    "for k, v in label_mapping.items():\n",
    "    print(f\"{k} → {v}\")"
   ]
  },
  {
   "cell_type": "code",
   "execution_count": 32,
   "id": "6b812999-7e00-46c7-b0e6-142c38551527",
   "metadata": {},
   "outputs": [
    {
     "data": {
      "text/html": [
       "<div>\n",
       "<style scoped>\n",
       "    .dataframe tbody tr th:only-of-type {\n",
       "        vertical-align: middle;\n",
       "    }\n",
       "\n",
       "    .dataframe tbody tr th {\n",
       "        vertical-align: top;\n",
       "    }\n",
       "\n",
       "    .dataframe thead th {\n",
       "        text-align: right;\n",
       "    }\n",
       "</style>\n",
       "<table border=\"1\" class=\"dataframe\">\n",
       "  <thead>\n",
       "    <tr style=\"text-align: right;\">\n",
       "      <th></th>\n",
       "      <th>ID</th>\n",
       "      <th>기준년월</th>\n",
       "      <th>Segment</th>\n",
       "      <th>대표결제일</th>\n",
       "      <th>청구금액_B0</th>\n",
       "      <th>청구금액_R3M</th>\n",
       "      <th>청구금액_R6M</th>\n",
       "      <th>포인트_마일리지_건별_B0M</th>\n",
       "      <th>포인트_마일리지_건별_R3M</th>\n",
       "      <th>포인트_포인트_건별_B0M</th>\n",
       "      <th>...</th>\n",
       "      <th>대표청구서수령지구분코드_문자메세지</th>\n",
       "      <th>대표청구서수령지구분코드_미수신</th>\n",
       "      <th>대표청구서수령지구분코드_우편</th>\n",
       "      <th>대표청구서수령지구분코드_이메일</th>\n",
       "      <th>청구서수령방법_K톡</th>\n",
       "      <th>청구서수령방법_당사멤버십</th>\n",
       "      <th>청구서수령방법_문자메세지</th>\n",
       "      <th>청구서수령방법_미수령</th>\n",
       "      <th>청구서수령방법_우편</th>\n",
       "      <th>청구서수령방법_이메일</th>\n",
       "    </tr>\n",
       "  </thead>\n",
       "  <tbody>\n",
       "    <tr>\n",
       "      <th>0</th>\n",
       "      <td>TRAIN_000000</td>\n",
       "      <td>2018-07-01</td>\n",
       "      <td>3</td>\n",
       "      <td>27</td>\n",
       "      <td>12226</td>\n",
       "      <td>46588</td>\n",
       "      <td>88693</td>\n",
       "      <td>0</td>\n",
       "      <td>0</td>\n",
       "      <td>1444</td>\n",
       "      <td>...</td>\n",
       "      <td>False</td>\n",
       "      <td>False</td>\n",
       "      <td>False</td>\n",
       "      <td>False</td>\n",
       "      <td>False</td>\n",
       "      <td>False</td>\n",
       "      <td>True</td>\n",
       "      <td>False</td>\n",
       "      <td>False</td>\n",
       "      <td>False</td>\n",
       "    </tr>\n",
       "    <tr>\n",
       "      <th>1</th>\n",
       "      <td>TRAIN_000001</td>\n",
       "      <td>2018-07-01</td>\n",
       "      <td>4</td>\n",
       "      <td>13</td>\n",
       "      <td>5834</td>\n",
       "      <td>10530</td>\n",
       "      <td>16861</td>\n",
       "      <td>0</td>\n",
       "      <td>0</td>\n",
       "      <td>0</td>\n",
       "      <td>...</td>\n",
       "      <td>False</td>\n",
       "      <td>False</td>\n",
       "      <td>True</td>\n",
       "      <td>False</td>\n",
       "      <td>False</td>\n",
       "      <td>False</td>\n",
       "      <td>False</td>\n",
       "      <td>False</td>\n",
       "      <td>True</td>\n",
       "      <td>False</td>\n",
       "    </tr>\n",
       "    <tr>\n",
       "      <th>2</th>\n",
       "      <td>TRAIN_000002</td>\n",
       "      <td>2018-07-01</td>\n",
       "      <td>2</td>\n",
       "      <td>1</td>\n",
       "      <td>21866</td>\n",
       "      <td>85931</td>\n",
       "      <td>165221</td>\n",
       "      <td>0</td>\n",
       "      <td>0</td>\n",
       "      <td>2305</td>\n",
       "      <td>...</td>\n",
       "      <td>False</td>\n",
       "      <td>False</td>\n",
       "      <td>False</td>\n",
       "      <td>True</td>\n",
       "      <td>False</td>\n",
       "      <td>False</td>\n",
       "      <td>False</td>\n",
       "      <td>False</td>\n",
       "      <td>False</td>\n",
       "      <td>True</td>\n",
       "    </tr>\n",
       "    <tr>\n",
       "      <th>3</th>\n",
       "      <td>TRAIN_000003</td>\n",
       "      <td>2018-07-01</td>\n",
       "      <td>3</td>\n",
       "      <td>5</td>\n",
       "      <td>16356</td>\n",
       "      <td>61518</td>\n",
       "      <td>127371</td>\n",
       "      <td>0</td>\n",
       "      <td>0</td>\n",
       "      <td>1452</td>\n",
       "      <td>...</td>\n",
       "      <td>False</td>\n",
       "      <td>False</td>\n",
       "      <td>True</td>\n",
       "      <td>False</td>\n",
       "      <td>False</td>\n",
       "      <td>False</td>\n",
       "      <td>False</td>\n",
       "      <td>False</td>\n",
       "      <td>True</td>\n",
       "      <td>False</td>\n",
       "    </tr>\n",
       "    <tr>\n",
       "      <th>4</th>\n",
       "      <td>TRAIN_000004</td>\n",
       "      <td>2018-07-01</td>\n",
       "      <td>4</td>\n",
       "      <td>13</td>\n",
       "      <td>0</td>\n",
       "      <td>0</td>\n",
       "      <td>155</td>\n",
       "      <td>0</td>\n",
       "      <td>0</td>\n",
       "      <td>0</td>\n",
       "      <td>...</td>\n",
       "      <td>False</td>\n",
       "      <td>False</td>\n",
       "      <td>True</td>\n",
       "      <td>False</td>\n",
       "      <td>False</td>\n",
       "      <td>False</td>\n",
       "      <td>False</td>\n",
       "      <td>False</td>\n",
       "      <td>True</td>\n",
       "      <td>False</td>\n",
       "    </tr>\n",
       "    <tr>\n",
       "      <th>...</th>\n",
       "      <td>...</td>\n",
       "      <td>...</td>\n",
       "      <td>...</td>\n",
       "      <td>...</td>\n",
       "      <td>...</td>\n",
       "      <td>...</td>\n",
       "      <td>...</td>\n",
       "      <td>...</td>\n",
       "      <td>...</td>\n",
       "      <td>...</td>\n",
       "      <td>...</td>\n",
       "      <td>...</td>\n",
       "      <td>...</td>\n",
       "      <td>...</td>\n",
       "      <td>...</td>\n",
       "      <td>...</td>\n",
       "      <td>...</td>\n",
       "      <td>...</td>\n",
       "      <td>...</td>\n",
       "      <td>...</td>\n",
       "      <td>...</td>\n",
       "    </tr>\n",
       "    <tr>\n",
       "      <th>2399995</th>\n",
       "      <td>TRAIN_399995</td>\n",
       "      <td>2018-12-01</td>\n",
       "      <td>4</td>\n",
       "      <td>25</td>\n",
       "      <td>0</td>\n",
       "      <td>0</td>\n",
       "      <td>0</td>\n",
       "      <td>0</td>\n",
       "      <td>0</td>\n",
       "      <td>0</td>\n",
       "      <td>...</td>\n",
       "      <td>False</td>\n",
       "      <td>False</td>\n",
       "      <td>True</td>\n",
       "      <td>False</td>\n",
       "      <td>False</td>\n",
       "      <td>False</td>\n",
       "      <td>False</td>\n",
       "      <td>False</td>\n",
       "      <td>True</td>\n",
       "      <td>False</td>\n",
       "    </tr>\n",
       "    <tr>\n",
       "      <th>2399996</th>\n",
       "      <td>TRAIN_399996</td>\n",
       "      <td>2018-12-01</td>\n",
       "      <td>3</td>\n",
       "      <td>20</td>\n",
       "      <td>14402</td>\n",
       "      <td>37515</td>\n",
       "      <td>99849</td>\n",
       "      <td>0</td>\n",
       "      <td>0</td>\n",
       "      <td>3339</td>\n",
       "      <td>...</td>\n",
       "      <td>False</td>\n",
       "      <td>False</td>\n",
       "      <td>False</td>\n",
       "      <td>True</td>\n",
       "      <td>False</td>\n",
       "      <td>False</td>\n",
       "      <td>False</td>\n",
       "      <td>False</td>\n",
       "      <td>False</td>\n",
       "      <td>True</td>\n",
       "    </tr>\n",
       "    <tr>\n",
       "      <th>2399997</th>\n",
       "      <td>TRAIN_399997</td>\n",
       "      <td>2018-12-01</td>\n",
       "      <td>2</td>\n",
       "      <td>20</td>\n",
       "      <td>5731</td>\n",
       "      <td>22274</td>\n",
       "      <td>41073</td>\n",
       "      <td>0</td>\n",
       "      <td>0</td>\n",
       "      <td>0</td>\n",
       "      <td>...</td>\n",
       "      <td>False</td>\n",
       "      <td>False</td>\n",
       "      <td>True</td>\n",
       "      <td>False</td>\n",
       "      <td>False</td>\n",
       "      <td>False</td>\n",
       "      <td>False</td>\n",
       "      <td>False</td>\n",
       "      <td>True</td>\n",
       "      <td>False</td>\n",
       "    </tr>\n",
       "    <tr>\n",
       "      <th>2399998</th>\n",
       "      <td>TRAIN_399998</td>\n",
       "      <td>2018-12-01</td>\n",
       "      <td>4</td>\n",
       "      <td>20</td>\n",
       "      <td>0</td>\n",
       "      <td>0</td>\n",
       "      <td>0</td>\n",
       "      <td>0</td>\n",
       "      <td>0</td>\n",
       "      <td>0</td>\n",
       "      <td>...</td>\n",
       "      <td>False</td>\n",
       "      <td>False</td>\n",
       "      <td>True</td>\n",
       "      <td>False</td>\n",
       "      <td>False</td>\n",
       "      <td>False</td>\n",
       "      <td>False</td>\n",
       "      <td>False</td>\n",
       "      <td>True</td>\n",
       "      <td>False</td>\n",
       "    </tr>\n",
       "    <tr>\n",
       "      <th>2399999</th>\n",
       "      <td>TRAIN_399999</td>\n",
       "      <td>2018-12-01</td>\n",
       "      <td>4</td>\n",
       "      <td>23</td>\n",
       "      <td>3422</td>\n",
       "      <td>9704</td>\n",
       "      <td>19948</td>\n",
       "      <td>0</td>\n",
       "      <td>0</td>\n",
       "      <td>0</td>\n",
       "      <td>...</td>\n",
       "      <td>False</td>\n",
       "      <td>False</td>\n",
       "      <td>True</td>\n",
       "      <td>False</td>\n",
       "      <td>False</td>\n",
       "      <td>False</td>\n",
       "      <td>False</td>\n",
       "      <td>False</td>\n",
       "      <td>True</td>\n",
       "      <td>False</td>\n",
       "    </tr>\n",
       "  </tbody>\n",
       "</table>\n",
       "<p>2400000 rows × 251 columns</p>\n",
       "</div>"
      ],
      "text/plain": [
       "                   ID       기준년월  Segment  대표결제일  청구금액_B0  청구금액_R3M  청구금액_R6M  \\\n",
       "0        TRAIN_000000 2018-07-01        3     27    12226     46588     88693   \n",
       "1        TRAIN_000001 2018-07-01        4     13     5834     10530     16861   \n",
       "2        TRAIN_000002 2018-07-01        2      1    21866     85931    165221   \n",
       "3        TRAIN_000003 2018-07-01        3      5    16356     61518    127371   \n",
       "4        TRAIN_000004 2018-07-01        4     13        0         0       155   \n",
       "...               ...        ...      ...    ...      ...       ...       ...   \n",
       "2399995  TRAIN_399995 2018-12-01        4     25        0         0         0   \n",
       "2399996  TRAIN_399996 2018-12-01        3     20    14402     37515     99849   \n",
       "2399997  TRAIN_399997 2018-12-01        2     20     5731     22274     41073   \n",
       "2399998  TRAIN_399998 2018-12-01        4     20        0         0         0   \n",
       "2399999  TRAIN_399999 2018-12-01        4     23     3422      9704     19948   \n",
       "\n",
       "         포인트_마일리지_건별_B0M  포인트_마일리지_건별_R3M  포인트_포인트_건별_B0M  ...  \\\n",
       "0                      0                0            1444  ...   \n",
       "1                      0                0               0  ...   \n",
       "2                      0                0            2305  ...   \n",
       "3                      0                0            1452  ...   \n",
       "4                      0                0               0  ...   \n",
       "...                  ...              ...             ...  ...   \n",
       "2399995                0                0               0  ...   \n",
       "2399996                0                0            3339  ...   \n",
       "2399997                0                0               0  ...   \n",
       "2399998                0                0               0  ...   \n",
       "2399999                0                0               0  ...   \n",
       "\n",
       "         대표청구서수령지구분코드_문자메세지  대표청구서수령지구분코드_미수신  대표청구서수령지구분코드_우편  \\\n",
       "0                     False             False            False   \n",
       "1                     False             False             True   \n",
       "2                     False             False            False   \n",
       "3                     False             False             True   \n",
       "4                     False             False             True   \n",
       "...                     ...               ...              ...   \n",
       "2399995               False             False             True   \n",
       "2399996               False             False            False   \n",
       "2399997               False             False             True   \n",
       "2399998               False             False             True   \n",
       "2399999               False             False             True   \n",
       "\n",
       "         대표청구서수령지구분코드_이메일  청구서수령방법_K톡  청구서수령방법_당사멤버십  청구서수령방법_문자메세지  \\\n",
       "0                   False       False          False           True   \n",
       "1                   False       False          False          False   \n",
       "2                    True       False          False          False   \n",
       "3                   False       False          False          False   \n",
       "4                   False       False          False          False   \n",
       "...                   ...         ...            ...            ...   \n",
       "2399995             False       False          False          False   \n",
       "2399996              True       False          False          False   \n",
       "2399997             False       False          False          False   \n",
       "2399998             False       False          False          False   \n",
       "2399999             False       False          False          False   \n",
       "\n",
       "         청구서수령방법_미수령  청구서수령방법_우편  청구서수령방법_이메일  \n",
       "0              False       False        False  \n",
       "1              False        True        False  \n",
       "2              False       False         True  \n",
       "3              False        True        False  \n",
       "4              False        True        False  \n",
       "...              ...         ...          ...  \n",
       "2399995        False        True        False  \n",
       "2399996        False       False         True  \n",
       "2399997        False        True        False  \n",
       "2399998        False        True        False  \n",
       "2399999        False        True        False  \n",
       "\n",
       "[2400000 rows x 251 columns]"
      ]
     },
     "execution_count": 32,
     "metadata": {},
     "output_type": "execute_result"
    }
   ],
   "source": [
    "final_df"
   ]
  },
  {
   "cell_type": "markdown",
   "id": "0ab79c7b-2399-4f26-90a2-e490f99a5419",
   "metadata": {},
   "source": [
    "## 3. Segment와 상관계수 도출"
   ]
  },
  {
   "cell_type": "code",
   "execution_count": 33,
   "id": "e52b939f-55cd-4329-9906-bff0a92a753d",
   "metadata": {},
   "outputs": [
    {
     "name": "stdout",
     "output_type": "stream",
     "text": [
      "Segment와 상관계수(|r| ≥ 0.1)인 피처 수: 103\n",
      "\n",
      "해당 피처들:\n",
      " OS_그외            0.223463\n",
      "청구서발송여부_B0_0     0.209534\n",
      "청구서발송여부_R3M_0    0.187036\n",
      "방문후경과월_PC_R6M    0.172772\n",
      "방문후경과월_앱_R6M     0.158202\n",
      "                   ...   \n",
      "월중평잔_일시불_B0M    -0.444621\n",
      "평잔_일시불_6M       -0.447967\n",
      "청구금액_B0         -0.577988\n",
      "청구금액_R3M        -0.590678\n",
      "청구금액_R6M        -0.597904\n",
      "Name: Segment, Length: 103, dtype: float64\n"
     ]
    }
   ],
   "source": [
    "# 제외할 칼럼 목록\n",
    "exclude_cols = ['ID', '기준년월']\n",
    "\n",
    "# 상관계수 계산 (Segment 기준)\n",
    "correlations = final_df.drop(columns=exclude_cols).corr(numeric_only=True)['Segment'].drop('Segment')\n",
    "\n",
    "# 상관계수 0.1 이상인 피처 추출\n",
    "high_corr_features = correlations[correlations.abs() >= 0.1]\n",
    "\n",
    "# 결과 출력\n",
    "print(\"Segment와 상관계수(|r| ≥ 0.1)인 피처 수:\", len(high_corr_features))\n",
    "print(\"\\n해당 피처들:\\n\", high_corr_features.sort_values(ascending=False))"
   ]
  },
  {
   "cell_type": "code",
   "execution_count": 34,
   "id": "3f569daf-cc18-4af5-8bd4-0f4483935cb9",
   "metadata": {},
   "outputs": [
    {
     "name": "stdout",
     "output_type": "stream",
     "text": [
      "0.1이상 상관계수(456).csv 파일로 저장 완료!\n"
     ]
    }
   ],
   "source": [
    "# 저장할 컬럼 목록: 상관계수 높은 피처 + ID, 기준년월, Segment\n",
    "selected_cols = ['ID', '기준년월', 'Segment'] + list(high_corr_features.index)\n",
    "\n",
    "# 해당 컬럼만 추출\n",
    "filtered_df = final_df[selected_cols]\n",
    "\n",
    "# CSV로 저장\n",
    "filtered_df.to_csv('./data/0.1이상 상관계수(456).csv', index=False, encoding='utf-8-sig')\n",
    "\n",
    "print(\"0.1이상 상관계수(456).csv 파일로 저장 완료!\")"
   ]
  },
  {
   "cell_type": "code",
   "execution_count": null,
   "id": "cf3e3abc-08c6-47f7-a4d5-73ccfa9505da",
   "metadata": {},
   "outputs": [],
   "source": []
  }
 ],
 "metadata": {
  "kernelspec": {
   "display_name": "Python 3 (ipykernel)",
   "language": "python",
   "name": "python3"
  },
  "language_info": {
   "codemirror_mode": {
    "name": "ipython",
    "version": 3
   },
   "file_extension": ".py",
   "mimetype": "text/x-python",
   "name": "python",
   "nbconvert_exporter": "python",
   "pygments_lexer": "ipython3",
   "version": "3.12.7"
  }
 },
 "nbformat": 4,
 "nbformat_minor": 5
}
