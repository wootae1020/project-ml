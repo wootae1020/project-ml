{
  "cells": [
    {
      "cell_type": "code",
      "execution_count": null,
      "id": "7fe3e07d-0c9b-445c-bc52-99b8e2cba4b7",
      "metadata": {
        "id": "7fe3e07d-0c9b-445c-bc52-99b8e2cba4b7"
      },
      "outputs": [],
      "source": [
        "import pandas as pd\n",
        "\n",
        "months = ['07', '08', '09', '10', '11', '12']\n",
        "\n",
        "회원정보, 신용정보, 승인매출정보, 청구입금정보, 잔액정보, 채널정보, 마케팅정보, 성과정보 = {}, {}, {}, {}, {}, {}, {}, {}\n",
        "\n",
        "for month in months:\n",
        "    path_base = f\"..\\\\{{}}\\\\2018{month}_train_{{}}.parquet\"\n",
        "\n",
        "    회원정보[month] = pd.read_parquet(path_base.format('1.회원정보', '회원정보'))\n",
        "    신용정보[month] = pd.read_parquet(path_base.format('2.신용정보', '신용정보'))\n",
        "    승인매출정보[month] = pd.read_parquet(path_base.format('3.승인매출정보', '승인매출정보'))\n",
        "    청구입금정보[month] = pd.read_parquet(path_base.format('4.청구입금정보', '청구정보'))\n",
        "    잔액정보[month] = pd.read_parquet(path_base.format('5.잔액정보', '잔액정보'))\n",
        "    채널정보[month] = pd.read_parquet(path_base.format('6.채널정보', '채널정보'))\n",
        "    마케팅정보[month] = pd.read_parquet(path_base.format('7.마케팅정보', '마케팅정보'))\n",
        "    성과정보[month] = pd.read_parquet(path_base.format('8.성과정보', '성과정보'))\n"
      ]
    },
    {
      "cell_type": "code",
      "execution_count": null,
      "id": "a85a694e-e0ed-4e82-a242-5a9b29c4779c",
      "metadata": {
        "collapsed": true,
        "jupyter": {
          "outputs_hidden": true
        },
        "scrolled": true,
        "id": "a85a694e-e0ed-4e82-a242-5a9b29c4779c",
        "outputId": "e68bb49f-50f8-4500-d22a-6ae8ba88b8fc"
      },
      "outputs": [
        {
          "name": "stdout",
          "output_type": "stream",
          "text": [
            "📌 07월 - 이용건수_부분무이자_B0M 고유값:\n",
            "[0]\n",
            "📌 07월 - 이용금액_부분무이자_B0M 고유값:\n",
            "[0]\n",
            "------------------------------------------------------------\n",
            "📌 08월 - 이용건수_부분무이자_B0M 고유값:\n",
            "[0]\n",
            "📌 08월 - 이용금액_부분무이자_B0M 고유값:\n",
            "[0]\n",
            "------------------------------------------------------------\n",
            "📌 09월 - 이용건수_부분무이자_B0M 고유값:\n",
            "[0]\n",
            "📌 09월 - 이용금액_부분무이자_B0M 고유값:\n",
            "[0]\n",
            "------------------------------------------------------------\n",
            "📌 10월 - 이용건수_부분무이자_B0M 고유값:\n",
            "[0]\n",
            "📌 10월 - 이용금액_부분무이자_B0M 고유값:\n",
            "[0]\n",
            "------------------------------------------------------------\n",
            "📌 11월 - 이용건수_부분무이자_B0M 고유값:\n",
            "[0]\n",
            "📌 11월 - 이용금액_부분무이자_B0M 고유값:\n",
            "[0]\n",
            "------------------------------------------------------------\n",
            "📌 12월 - 이용건수_부분무이자_B0M 고유값:\n",
            "[0]\n",
            "📌 12월 - 이용금액_부분무이자_B0M 고유값:\n",
            "[0]\n",
            "------------------------------------------------------------\n"
          ]
        }
      ],
      "source": [
        "\n",
        "for m in months:\n",
        "    df = 승인매출정보[m]\n",
        "    print(f\"📌 {m}월 - 이용건수_부분무이자_B0M 고유값:\")\n",
        "    print(df['이용건수_부분무이자_B0M'].unique())\n",
        "    print(f\"📌 {m}월 - 이용금액_부분무이자_B0M 고유값:\")\n",
        "    print(df['이용금액_부분무이자_B0M'].unique())\n",
        "    print(\"-\" * 60)\n"
      ]
    },
    {
      "cell_type": "code",
      "execution_count": null,
      "id": "70bfaea0-a5bf-412f-aece-d6f2c106ff6f",
      "metadata": {
        "collapsed": true,
        "jupyter": {
          "outputs_hidden": true
        },
        "scrolled": true,
        "id": "70bfaea0-a5bf-412f-aece-d6f2c106ff6f",
        "outputId": "7da4463c-0f1a-4b7c-9704-1e3f02fcd0fb"
      },
      "outputs": [
        {
          "name": "stdout",
          "output_type": "stream",
          "text": [
            "✅ 승인매출정보[07] 처리 완료\n",
            "✅ 승인매출정보[08] 처리 완료\n",
            "✅ 승인매출정보[09] 처리 완료\n",
            "✅ 승인매출정보[10] 처리 완료\n",
            "✅ 승인매출정보[11] 처리 완료\n",
            "✅ 승인매출정보[12] 처리 완료\n"
          ]
        }
      ],
      "source": [
        "for m in months:\n",
        "    df = 승인매출정보[m]\n",
        "\n",
        "    df['총이용건수'] = (\n",
        "        df['이용건수_신용_B0M'] +\n",
        "        # df['이용건수_부분무이자_B0M'] +\n",
        "        df['이용건수_체크_B0M'] +\n",
        "        df['이용건수_카드론_B0M']\n",
        "    )\n",
        "\n",
        "    df['총이용금액'] = (\n",
        "        df['이용금액_일시불_B0M'] +\n",
        "        df['이용금액_할부_B0M'] +\n",
        "        # df['이용금액_부분무이자_B0M'] +\n",
        "        df['이용금액_CA_B0M'] +\n",
        "        df['이용금액_체크_B0M'] +\n",
        "        df['이용금액_카드론_B0M']\n",
        "    )\n",
        "\n",
        "    승인매출정보[m] = df  # 변경사항 반영\n",
        "    print(f\"✅ 승인매출정보[{m}] 처리 완료\")\n"
      ]
    },
    {
      "cell_type": "code",
      "execution_count": null,
      "id": "4da8bbef-e656-49fb-82de-38a4b3447547",
      "metadata": {
        "id": "4da8bbef-e656-49fb-82de-38a4b3447547"
      },
      "outputs": [],
      "source": [
        "# 회원정보[month] - 기준년월, ID, 연령, 남녀구분코드, Segment, 거주시도명\n",
        "# 승인매출정보[month] - _1순위업종, 총이용건수, 총이용금액, 최종카드론_대출금액\n",
        "# 잔액정보[month] - 월평균잔액"
      ]
    },
    {
      "cell_type": "code",
      "execution_count": null,
      "id": "473b8f1b-1eb6-4e69-9170-0c5af040589f",
      "metadata": {
        "collapsed": true,
        "jupyter": {
          "outputs_hidden": true
        },
        "scrolled": true,
        "id": "473b8f1b-1eb6-4e69-9170-0c5af040589f",
        "outputId": "d51fd80b-3cea-4cd1-d4ae-d59900a4d0b6"
      },
      "outputs": [
        {
          "name": "stdout",
          "output_type": "stream",
          "text": [
            "✅ df07 병합 완료\n",
            "✅ df08 병합 완료\n",
            "✅ df09 병합 완료\n",
            "✅ df10 병합 완료\n",
            "✅ df11 병합 완료\n",
            "✅ df12 병합 완료\n"
          ]
        }
      ],
      "source": [
        "cols = ['기준년월', 'ID', '_1순위업종', '총이용건수', '총이용금액',\n",
        "        '연령', '남녀구분코드', 'Segment', '거주시도명',\n",
        "        '월평균잔액', '최종카드론_대출금액']\n",
        "\n",
        "merged_dfs = {}\n",
        "\n",
        "for m in months:\n",
        "    try:\n",
        "        # 1. 필요한 컬럼 추출\n",
        "        member = 회원정보[m][['기준년월', 'ID', '연령', '남녀구분코드', 'Segment', '거주시도명']]\n",
        "        sales = 승인매출정보[m][['기준년월', 'ID', '_1순위업종', '총이용건수', '총이용금액', '최종카드론_대출금액']]\n",
        "\n",
        "        # ✅ '월중평잔' 컬럼이 있는 경우만 활용하여 이름 변경\n",
        "        if '월중평잔' in 잔액정보[m].columns:\n",
        "            balance = 잔액정보[m][['기준년월', 'ID', '월중평잔']].rename(columns={'월중평잔': '월평균잔액'})\n",
        "        else:\n",
        "            print(f\"⚠ {m}월: '월중평잔' 없음 → 월평균잔액 미포함\")\n",
        "            balance = None\n",
        "\n",
        "        # 2. 병합\n",
        "        df = member.merge(sales, on=['기준년월', 'ID'], how='left')\n",
        "        if balance is not None:\n",
        "            df = df.merge(balance, on=['기준년월', 'ID'], how='left')\n",
        "\n",
        "        # 3. 컬럼 정리 (존재하는 컬럼만 유지)\n",
        "        available_cols = [c for c in cols if c in df.columns]\n",
        "        df = df[available_cols]\n",
        "\n",
        "        # 4. 저장\n",
        "        merged_dfs[m] = df\n",
        "        print(f\"✅ df{m} 병합 완료\")\n",
        "\n",
        "    except Exception as e:\n",
        "        print(f\"❌ {m}월 병합 중 오류: {e}\")\n"
      ]
    },
    {
      "cell_type": "code",
      "execution_count": null,
      "id": "86249e91-0f7d-4a02-96f5-f182f6fb63fd",
      "metadata": {
        "collapsed": true,
        "jupyter": {
          "outputs_hidden": true
        },
        "scrolled": true,
        "id": "86249e91-0f7d-4a02-96f5-f182f6fb63fd",
        "outputId": "a0c3ec25-b79c-4b5e-c706-7959863feb2b"
      },
      "outputs": [
        {
          "name": "stdout",
          "output_type": "stream",
          "text": [
            "(2400000, 11)\n",
            "     기준년월            ID _1순위업종  총이용건수  총이용금액   연령  남녀구분코드 Segment 거주시도명  \\\n",
            "0  201807  TRAIN_000000     납부     11  14204  40대       2       D    서울   \n",
            "1  201807  TRAIN_000001     쇼핑     13   2862  30대       1       E    경기   \n",
            "2  201807  TRAIN_000002     쇼핑     12  20160  30대       1       C    서울   \n",
            "3  201807  TRAIN_000003     쇼핑      6  14176  40대       2       D    부산   \n",
            "4  201807  TRAIN_000004   None     -2      0  40대       2       E    광주   \n",
            "\n",
            "   월평균잔액  최종카드론_대출금액  \n",
            "0  17237           0  \n",
            "1   7967       76723  \n",
            "2  59917       95094  \n",
            "3  27854           0  \n",
            "4      0           0  \n"
          ]
        }
      ],
      "source": [
        "df_all = pd.concat(merged_dfs.values(), ignore_index=True)\n",
        "print(df_all.shape)\n",
        "print(df_all.head())"
      ]
    },
    {
      "cell_type": "code",
      "execution_count": null,
      "id": "b226e6e2-3d93-4dbb-a485-1e92468959b9",
      "metadata": {
        "id": "b226e6e2-3d93-4dbb-a485-1e92468959b9"
      },
      "outputs": [],
      "source": [
        "df_all.to_csv('iM_데이콘_유사컬럼.csv')"
      ]
    },
    {
      "cell_type": "code",
      "execution_count": null,
      "id": "4e6362e6-c5e0-4387-8d0b-d8fc591789f5",
      "metadata": {
        "collapsed": true,
        "jupyter": {
          "outputs_hidden": true
        },
        "scrolled": true,
        "id": "4e6362e6-c5e0-4387-8d0b-d8fc591789f5",
        "outputId": "3c4e7a46-f3f3-402a-cdc0-f132e29a1a30"
      },
      "outputs": [
        {
          "name": "stdout",
          "output_type": "stream",
          "text": [
            "<class 'pandas.core.frame.DataFrame'>\n",
            "RangeIndex: 2400000 entries, 0 to 2399999\n",
            "Data columns (total 11 columns):\n",
            " #   Column      Dtype \n",
            "---  ------      ----- \n",
            " 0   기준년월        int64 \n",
            " 1   ID          object\n",
            " 2   _1순위업종      object\n",
            " 3   총이용건수       int64 \n",
            " 4   총이용금액       int64 \n",
            " 5   연령          object\n",
            " 6   남녀구분코드      int64 \n",
            " 7   Segment     object\n",
            " 8   거주시도명       object\n",
            " 9   월평균잔액       int64 \n",
            " 10  최종카드론_대출금액  int64 \n",
            "dtypes: int64(6), object(5)\n",
            "memory usage: 201.4+ MB\n"
          ]
        }
      ],
      "source": [
        "df_all.info()"
      ]
    },
    {
      "cell_type": "code",
      "execution_count": null,
      "id": "b2d0e2f9-774b-4583-aac0-0c0a72eb7a49",
      "metadata": {
        "collapsed": true,
        "jupyter": {
          "outputs_hidden": true
        },
        "scrolled": true,
        "id": "b2d0e2f9-774b-4583-aac0-0c0a72eb7a49",
        "outputId": "1a3af833-fe17-4146-a3e6-de715d0bd2b2"
      },
      "outputs": [
        {
          "data": {
            "text/plain": [
              "기준년월           0.000000\n",
              "ID             0.000000\n",
              "_1순위업종        22.499667\n",
              "총이용건수          0.000000\n",
              "총이용금액          0.000000\n",
              "연령             0.000000\n",
              "남녀구분코드         0.000000\n",
              "Segment        0.000000\n",
              "거주시도명          0.000000\n",
              "월평균잔액          0.000000\n",
              "최종카드론_대출금액     0.000000\n",
              "dtype: float64"
            ]
          },
          "execution_count": 24,
          "metadata": {},
          "output_type": "execute_result"
        }
      ],
      "source": [
        "df_all.isnull().sum()/len(df_all) * 100"
      ]
    },
    {
      "cell_type": "code",
      "execution_count": null,
      "id": "0bde52ab-cd8d-431c-87d5-775472bacf01",
      "metadata": {
        "id": "0bde52ab-cd8d-431c-87d5-775472bacf01"
      },
      "outputs": [],
      "source": [
        "df = df_all.dropna()"
      ]
    },
    {
      "cell_type": "code",
      "execution_count": null,
      "id": "8bb1e1c4-fd73-41fb-9ef3-afc3859bf19d",
      "metadata": {
        "id": "8bb1e1c4-fd73-41fb-9ef3-afc3859bf19d"
      },
      "outputs": [],
      "source": [
        "from sklearn.preprocessing import LabelEncoder\n",
        "le = LabelEncoder()\n",
        "df.loc[:, '연령'] = le.fit_transform(df['연령'])"
      ]
    },
    {
      "cell_type": "code",
      "execution_count": null,
      "id": "05e27c85-1b62-45b3-9a25-b8f9a90df51c",
      "metadata": {
        "id": "05e27c85-1b62-45b3-9a25-b8f9a90df51c"
      },
      "outputs": [],
      "source": [
        "from sklearn.preprocessing import OneHotEncoder\n",
        "categorical_cols = ['_1순위업종', '거주시도명']\n",
        "df = pd.get_dummies(df, columns=categorical_cols)"
      ]
    },
    {
      "cell_type": "code",
      "execution_count": null,
      "id": "e6ed7f0f-ee19-4d38-80fe-f95e97587113",
      "metadata": {
        "id": "e6ed7f0f-ee19-4d38-80fe-f95e97587113"
      },
      "outputs": [],
      "source": [
        "X = df.drop(columns=['Segment', 'ID', '기준년월'])\n",
        "y = df['Segment']"
      ]
    },
    {
      "cell_type": "code",
      "execution_count": null,
      "id": "8be5f029-cac7-4dc6-9c55-91beda3ceebd",
      "metadata": {
        "id": "8be5f029-cac7-4dc6-9c55-91beda3ceebd"
      },
      "outputs": [],
      "source": [
        "from sklearn.model_selection import train_test_split\n",
        "X_train, X_val, y_train, y_val = train_test_split(X, y, test_size=0.2, random_state=42, stratify=y)"
      ]
    },
    {
      "cell_type": "code",
      "execution_count": null,
      "id": "54f78387-cd3c-4614-b683-701dacf4b8e7",
      "metadata": {
        "id": "54f78387-cd3c-4614-b683-701dacf4b8e7",
        "outputId": "946fc8d9-266c-4936-9dcc-2fb5ef27e11a"
      },
      "outputs": [
        {
          "name": "stdout",
          "output_type": "stream",
          "text": [
            "🎯 Accuracy: 0.8355035725614378\n",
            "📋 Classification Report:\n",
            "              precision    recall  f1-score   support\n",
            "\n",
            "           A       0.80      0.29      0.42       190\n",
            "           B       0.82      0.31      0.45        29\n",
            "           C       0.67      0.53      0.59     24257\n",
            "           D       0.60      0.48      0.53     65411\n",
            "           E       0.89      0.95      0.91    282115\n",
            "\n",
            "    accuracy                           0.84    372002\n",
            "   macro avg       0.76      0.51      0.58    372002\n",
            "weighted avg       0.82      0.84      0.83    372002\n",
            "\n"
          ]
        }
      ],
      "source": [
        "from sklearn.ensemble import RandomForestClassifier\n",
        "from sklearn.metrics import classification_report, accuracy_score\n",
        "\n",
        "model = RandomForestClassifier(n_estimators=100, random_state=42)\n",
        "model.fit(X_train, y_train)\n",
        "\n",
        "y_pred = model.predict(X_val)\n",
        "\n",
        "print(\"🎯 Accuracy:\", accuracy_score(y_val, y_pred))\n",
        "print(\"📋 Classification Report:\")\n",
        "print(classification_report(y_val, y_pred))"
      ]
    },
    {
      "cell_type": "code",
      "execution_count": null,
      "id": "0d188cbc-d91d-4708-8343-454bc2cc0a65",
      "metadata": {
        "id": "0d188cbc-d91d-4708-8343-454bc2cc0a65",
        "outputId": "38f50609-2310-44ad-ee7c-a3c11e10afe7"
      },
      "outputs": [
        {
          "name": "stdout",
          "output_type": "stream",
          "text": [
            "🎯 Accuracy: 0.8356487330713276\n",
            "📋 Classification Report:\n",
            "              precision    recall  f1-score   support\n",
            "\n",
            "           A       0.87      0.21      0.33       190\n",
            "           B       0.89      0.28      0.42        29\n",
            "           C       0.67      0.53      0.59     24257\n",
            "           D       0.61      0.47      0.53     65411\n",
            "           E       0.88      0.95      0.91    282115\n",
            "\n",
            "    accuracy                           0.84    372002\n",
            "   macro avg       0.78      0.49      0.56    372002\n",
            "weighted avg       0.82      0.84      0.83    372002\n",
            "\n"
          ]
        }
      ],
      "source": [
        "from sklearn.ensemble import RandomForestClassifier\n",
        "from sklearn.metrics import classification_report, accuracy_score\n",
        "\n",
        "model = RandomForestClassifier(n_estimators=100, class_weight='balanced', random_state=42)\n",
        "model.fit(X_train, y_train)\n",
        "\n",
        "y_pred = model.predict(X_val)\n",
        "\n",
        "print(\"🎯 Accuracy:\", accuracy_score(y_val, y_pred))\n",
        "print(\"📋 Classification Report:\")\n",
        "print(classification_report(y_val, y_pred))"
      ]
    },
    {
      "cell_type": "code",
      "execution_count": null,
      "id": "51d8fed2-ccdd-4abe-857d-01ce23028e12",
      "metadata": {
        "id": "51d8fed2-ccdd-4abe-857d-01ce23028e12",
        "outputId": "781be7f3-34de-4499-bf8b-bb06cbb7b4ab"
      },
      "outputs": [
        {
          "name": "stdout",
          "output_type": "stream",
          "text": [
            "Requirement already satisfied: imbalanced-learn in c:\\users\\woota\\anaconda3\\lib\\site-packages (0.12.3)\n",
            "Requirement already satisfied: numpy>=1.17.3 in c:\\users\\woota\\anaconda3\\lib\\site-packages (from imbalanced-learn) (1.26.4)\n",
            "Requirement already satisfied: scipy>=1.5.0 in c:\\users\\woota\\anaconda3\\lib\\site-packages (from imbalanced-learn) (1.13.1)\n",
            "Requirement already satisfied: scikit-learn>=1.0.2 in c:\\users\\woota\\anaconda3\\lib\\site-packages (from imbalanced-learn) (1.5.1)\n",
            "Requirement already satisfied: joblib>=1.1.1 in c:\\users\\woota\\anaconda3\\lib\\site-packages (from imbalanced-learn) (1.4.2)\n",
            "Requirement already satisfied: threadpoolctl>=2.0.0 in c:\\users\\woota\\anaconda3\\lib\\site-packages (from imbalanced-learn) (3.5.0)\n",
            "Note: you may need to restart the kernel to use updated packages.\n"
          ]
        }
      ],
      "source": [
        "# pip install imbalanced-learn"
      ]
    },
    {
      "cell_type": "code",
      "execution_count": null,
      "id": "ea258352-3b26-4e10-a23d-5cd926b75c89",
      "metadata": {
        "id": "ea258352-3b26-4e10-a23d-5cd926b75c89",
        "outputId": "a189c7ed-00a9-4eab-cb96-9c766b25980a"
      },
      "outputs": [
        {
          "name": "stdout",
          "output_type": "stream",
          "text": [
            "✅ SMOTE 적용 완료\n",
            "클래스 분포 (적용 전):\n",
            "Segment\n",
            "E    1128457\n",
            "D     261645\n",
            "C      97029\n",
            "A        760\n",
            "B        115\n",
            "Name: count, dtype: int64\n",
            "클래스 분포 (적용 후):\n",
            "Segment\n",
            "E    1128457\n",
            "D    1128457\n",
            "C    1128457\n",
            "A    1128457\n",
            "B    1128457\n",
            "Name: count, dtype: int64\n",
            "🎯 Accuracy: 0.8328933715410132\n",
            "📋 Classification Report:\n",
            "              precision    recall  f1-score   support\n",
            "\n",
            "           A       0.54      0.34      0.41       190\n",
            "           B       0.71      0.41      0.52        29\n",
            "           C       0.63      0.57      0.60     24257\n",
            "           D       0.59      0.50      0.54     65411\n",
            "           E       0.89      0.93      0.91    282115\n",
            "\n",
            "    accuracy                           0.83    372002\n",
            "   macro avg       0.67      0.55      0.60    372002\n",
            "weighted avg       0.82      0.83      0.83    372002\n",
            "\n"
          ]
        }
      ],
      "source": [
        "from imblearn.over_sampling import SMOTE\n",
        "from sklearn.ensemble import RandomForestClassifier\n",
        "from sklearn.metrics import classification_report, accuracy_score\n",
        "\n",
        "# ✅ SMOTE 적용 (학습 데이터만!)\n",
        "smote = SMOTE(random_state=42)\n",
        "X_train_sm, y_train_sm = smote.fit_resample(X_train, y_train)\n",
        "\n",
        "print(\"✅ SMOTE 적용 완료\")\n",
        "print(\"클래스 분포 (적용 전):\")\n",
        "print(y_train.value_counts())\n",
        "print(\"클래스 분포 (적용 후):\")\n",
        "print(pd.Series(y_train_sm).value_counts())\n",
        "\n",
        "# ✅ 재학습\n",
        "model = RandomForestClassifier(n_estimators=100, random_state=42)\n",
        "model.fit(X_train_sm, y_train_sm)\n",
        "\n",
        "# ✅ 검증\n",
        "y_pred = model.predict(X_val)\n",
        "\n",
        "print(\"🎯 Accuracy:\", accuracy_score(y_val, y_pred))\n",
        "print(\"📋 Classification Report:\")\n",
        "print(classification_report(y_val, y_pred))\n"
      ]
    },
    {
      "cell_type": "code",
      "execution_count": null,
      "id": "b85faab6-e527-4a24-9cf8-086dc9743602",
      "metadata": {
        "id": "b85faab6-e527-4a24-9cf8-086dc9743602"
      },
      "outputs": [],
      "source": []
    },
    {
      "cell_type": "code",
      "execution_count": null,
      "id": "d14531ed-1d12-4dd6-abcb-8ddc31c29fd2",
      "metadata": {
        "id": "d14531ed-1d12-4dd6-abcb-8ddc31c29fd2"
      },
      "outputs": [],
      "source": []
    },
    {
      "cell_type": "code",
      "execution_count": null,
      "id": "da639b6e-c0b8-4486-be79-ab174636b8c4",
      "metadata": {
        "id": "da639b6e-c0b8-4486-be79-ab174636b8c4"
      },
      "outputs": [],
      "source": []
    },
    {
      "cell_type": "code",
      "execution_count": null,
      "id": "2b47c129-f99f-455b-87da-f5e5abd6076a",
      "metadata": {
        "id": "2b47c129-f99f-455b-87da-f5e5abd6076a"
      },
      "outputs": [],
      "source": []
    },
    {
      "cell_type": "code",
      "execution_count": null,
      "id": "1c82a27b-a0f3-4a9b-a7c7-cff5aab1e653",
      "metadata": {
        "id": "1c82a27b-a0f3-4a9b-a7c7-cff5aab1e653"
      },
      "outputs": [],
      "source": []
    }
  ],
  "metadata": {
    "kernelspec": {
      "display_name": "Python 3 (ipykernel)",
      "language": "python",
      "name": "python3"
    },
    "language_info": {
      "codemirror_mode": {
        "name": "ipython",
        "version": 3
      },
      "file_extension": ".py",
      "mimetype": "text/x-python",
      "name": "python",
      "nbconvert_exporter": "python",
      "pygments_lexer": "ipython3",
      "version": "3.12.7"
    },
    "colab": {
      "provenance": []
    }
  },
  "nbformat": 4,
  "nbformat_minor": 5
}